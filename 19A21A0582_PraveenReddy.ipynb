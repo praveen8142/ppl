{
  "nbformat": 4,
  "nbformat_minor": 0,
  "metadata": {
    "colab": {
      "name": "19A21A0582-PraveenReddy.ipynb",
      "provenance": [],
      "authorship_tag": "ABX9TyMi8p2WK/i61/nnCeC29hpW",
      "include_colab_link": true
    },
    "kernelspec": {
      "name": "python3",
      "display_name": "Python 3"
    },
    "language_info": {
      "name": "python"
    }
  },
  "cells": [
    {
      "cell_type": "markdown",
      "metadata": {
        "id": "view-in-github",
        "colab_type": "text"
      },
      "source": [
        "<a href=\"https://colab.research.google.com/github/praveen8142/ppl/blob/main/19A21A0582_PraveenReddy.ipynb\" target=\"_parent\"><img src=\"https://colab.research.google.com/assets/colab-badge.svg\" alt=\"Open In Colab\"/></a>"
      ]
    },
    {
      "cell_type": "markdown",
      "metadata": {
        "id": "pjG1uGJYllhb"
      },
      "source": [
        " \n",
        "NAME:G.Praveen Reddy\n",
        "\n",
        "REGNO:19A21A0582\n",
        "\n",
        "SECTION:CSE-B"
      ]
    },
    {
      "cell_type": "markdown",
      "metadata": {
        "id": "5bCzjDrhu6se"
      },
      "source": [
        " # **Exercise 1 - Basics** \n",
        "**AIM:**\n",
        " \n",
        "a) Running instructions in Interactive interpreter and a Python Script"
      ]
    },
    {
      "cell_type": "markdown",
      "metadata": {
        "id": "CyzP8KbgwT9C"
      },
      "source": [
        " **DESCRIPTION:**"
      ]
    },
    {
      "cell_type": "markdown",
      "metadata": {
        "id": "9NGEfKtfmNN3"
      },
      "source": [
        "Python is a high-level, interpreted, interactive and object-oriented \n",
        "scripting language. \n",
        "Python is designed to be highly readable.  It uses English keywords frequently where as other languages use \n",
        "punctuation, and it has fewer syntactical constructions than other languages. \n",
        " \n",
        "* Python is Interpreted \n",
        " \n",
        "* Python is Interactive \n",
        " \n",
        "* Python is Object-Oriented\n",
        " \n",
        "* Python is a Beginner's Language\n",
        " \n",
        "**Python Programming Running Python Scripts**\n",
        " \n",
        "Running Python in THREE ways: \n",
        " \n",
        "a) Running Python Interpreter \n",
        " \n",
        "b) Running Python Scripts in IDLE \n",
        " \n",
        "c) Running python scripts in Command Prompt \n",
        " \n",
        "**a) Running Python Interpreter:**\n",
        "Python comes with an interactive interpreter. When you type python in your shell or command prompt, the python interpreter becomes active with a >>> prompt and waits for your commands\n",
        " \n",
        "b) **Running Python Scripts in IDLE:**\n",
        ". Go to File menu click on New File (CTRL+N) and write the \n",
        "code and save first.py\n",
        " \n",
        "c) **Running python scripts in Command Prompt: ** **bold text**\n",
        "· Before going to run we have to check the PATH in environment \n",
        "variables."
      ]
    },
    {
      "cell_type": "markdown",
      "metadata": {
        "id": "1XKTlfLXwben"
      },
      "source": [
        " **PROGRAM:-**"
      ]
    },
    {
      "cell_type": "code",
      "metadata": {
        "colab": {
          "base_uri": "https://localhost:8080/"
        },
        "id": "VGlAkUrCmSoF",
        "outputId": "e7f31cf5-ba36-4523-92f1-d8f1d3bfa5ab"
      },
      "source": [
        " \n",
        " \n",
        "a=78\n",
        "b=89\n",
        "a,b=b,a\n",
        "print(a,b)"
      ],
      "execution_count": null,
      "outputs": [
        {
          "output_type": "stream",
          "text": [
            "89 78\n"
          ],
          "name": "stdout"
        }
      ]
    },
    {
      "cell_type": "markdown",
      "metadata": {
        "id": "9-6hXw1wv4wc"
      },
      "source": [
        " **AIM:**"
      ]
    },
    {
      "cell_type": "markdown",
      "metadata": {
        "id": "kQMc5NdPv6Cb"
      },
      "source": [
        " b) Write a program to purposefully raise Indentation Error and Correct it"
      ]
    },
    {
      "cell_type": "markdown",
      "metadata": {
        "id": "7KxsvEjTwePi"
      },
      "source": [
        "**DESCRIPTION**:\n",
        "Indentation\n",
        "Python does not support braces to indicate blocks of code for class and function definitions or flow control.\n",
        "Blocks of code are denoted by line indentation.\n",
        "All the continuous lines indented with same number of spaces would form a block.\n",
        "Python strictly follow indentation rules to indicate the blocks."
      ]
    },
    {
      "cell_type": "markdown",
      "metadata": {
        "id": "sT39Wgvvw7Wz"
      },
      "source": [
        " **PROGRAM:**"
      ]
    },
    {
      "cell_type": "code",
      "metadata": {
        "colab": {
          "base_uri": "https://localhost:8080/"
        },
        "id": "_gA8BW3lmbjv",
        "outputId": "751899bd-ab71-46f3-b0b9-0087adbd5d17"
      },
      "source": [
        " \n",
        " \n",
        "a=input(\"enter a value:\")\n",
        "b=input(\"enter b value:\")\n",
        "c=a+b;\n",
        "print(\"sum is \",c,sep=\"\\t\")\n",
        "c=int(a)+int(b)\n",
        "print(\"sum of {} and {} is : {}\".format(a,b,c))\n",
        "print(\"sum of %s and %s is:%d\"%(a,b,c))\n",
        "x=10\n",
        "y=123\n",
        "z=x+y;\n",
        "print(\"sum is\",z,sep='\\t' )"
      ],
      "execution_count": null,
      "outputs": [
        {
          "output_type": "stream",
          "text": [
            "enter a value:25\n",
            "enter b value:52\n",
            "sum is \t2552\n",
            "sum of 25 and 52 is : 77\n",
            "sum of 25 and 52 is:77\n",
            "sum is\t133\n"
          ],
          "name": "stdout"
        }
      ]
    },
    {
      "cell_type": "markdown",
      "metadata": {
        "id": "-KkoUywhxCLi"
      },
      "source": [
        "  **PROGRAM:**"
      ]
    },
    {
      "cell_type": "code",
      "metadata": {
        "colab": {
          "base_uri": "https://localhost:8080/"
        },
        "id": "FLMPOCw5mfOn",
        "outputId": "91d1d1db-a92d-4c4b-c4d9-f22a8dee8ce8"
      },
      "source": [
        " \n",
        " \n",
        "print(\"welcome to python\")\n",
        "a=20\n",
        "b=30\n",
        "print(\"the value of a:\",a)\n",
        "print(\"the value of b :\",b)\n",
        "if(a>b):\n",
        "       print(\"a is big\");\n",
        "       print(\"ifbblock ends\")\n",
        "else:\n",
        "            print(\"b is big\")\n",
        "            print(\"elseblock ends\")"
      ],
      "execution_count": null,
      "outputs": [
        {
          "output_type": "stream",
          "text": [
            "welcome to python\n",
            "the value of a: 20\n",
            "the value of b : 30\n",
            "b is big\n",
            "elseblock ends\n"
          ],
          "name": "stdout"
        }
      ]
    },
    {
      "cell_type": "markdown",
      "metadata": {
        "id": "mdJDRJJanKl7"
      },
      "source": [
        "# **Exercise 2 - Operations**\n",
        "**AIM:**\n",
        " \n",
        "a) Write a program to compute distance between two points taking input from the user(PythagoreanTheorem)"
      ]
    },
    {
      "cell_type": "markdown",
      "metadata": {
        "id": "kTpaialYz3SI"
      },
      "source": [
        " **DESCRIPTION:**"
      ]
    },
    {
      "cell_type": "markdown",
      "metadata": {
        "id": "cXhN-TzIz4Cq"
      },
      "source": [
        " **Taking Input From the User:**A function is defined as a block of organized, reusable code used to perform a single, related action. Python has many built-in functions; you can also create your own. \n",
        " \n",
        "Python has an input function which lets you ask a user for some text input. You call this function to tell the program to stop and wait for the user to key in the data.\n",
        " \n",
        " In Python 2, you have a built-in function raw_input(), whereas in Python 3, you have input(). The program will resume once the user presses the ENTER or RETURN key.\n",
        " \n",
        " **Input Function**\n",
        " \n",
        "input(prompt=None,/). \n",
        " \n",
        "Read a string from standard input. The trailing newline is stripped. \n",
        " \n",
        "The prompt string, if given, is printed to standard output without a trailing newline before reading input. \n",
        " \n",
        "If the user hits EOF (*nix: Ctrl-D, Windows: Ctrl Z+Return), raise EOFError."
      ]
    },
    {
      "cell_type": "markdown",
      "metadata": {
        "id": "HHyHrTl8xF39"
      },
      "source": [
        "  **PROGRAM:**"
      ]
    },
    {
      "cell_type": "code",
      "metadata": {
        "colab": {
          "base_uri": "https://localhost:8080/"
        },
        "id": "Y99qTnyjnPBF",
        "outputId": "45344b58-7a37-49c0-884a-c4949ea992e8"
      },
      "source": [
        " \n",
        "import math\n",
        "x1=int(input(\"enter  x1 value:\"))\n",
        "x2=int(input(\"enter  x2 value:\"))\n",
        "y1=int(input(\"enter  y1 value:\"))\n",
        "y2=int(input(\"enter  y2 value:\"))\n",
        "z=math.sqrt((x2-x1)**2+(y2-y1)**2)\n",
        "print(\"the distance between two points is :\",z)\n",
        "print(\"the distance between two points is :\",z,sep='\\t')\n",
        "print(\"the distance between ({}, {})and ({},{}) is  :{}\".format(x1,y1,x2,y2,z))\n",
        " \n",
        "print(\"the distance between (%d, %d)and (%d,%d) is  :%f\"%(x1,y1,x2,y2,z))"
      ],
      "execution_count": null,
      "outputs": [
        {
          "output_type": "stream",
          "text": [
            "enter  x1 value:2\n",
            "enter  x2 value:8\n",
            "enter  y1 value:4\n",
            "enter  y2 value:16\n",
            "the distance between two points is : 13.416407864998739\n",
            "the distance between two points is :\t13.416407864998739\n",
            "the distance between (2, 4)and (8,16) is  :13.416407864998739\n",
            "the distance between (2, 4)and (8,16) is  :13.416408\n"
          ],
          "name": "stdout"
        }
      ]
    },
    {
      "cell_type": "markdown",
      "metadata": {
        "id": "w-yqcFl30KqK"
      },
      "source": [
        " **AIM:**"
      ]
    },
    {
      "cell_type": "markdown",
      "metadata": {
        "id": "SdXF-jih0MZw"
      },
      "source": [
        " b) Write a program add.py that takes 2 numbers as command line arguments and prints its sum"
      ]
    },
    {
      "cell_type": "markdown",
      "metadata": {
        "id": "cTSvE0Ve0Qb3"
      },
      "source": [
        " **DESCRIPTION:**"
      ]
    },
    {
      "cell_type": "markdown",
      "metadata": {
        "id": "1h_krcpP0XRE"
      },
      "source": [
        " The arguments that are given after the name of the program in the command line shell of the operating system are known as Command Line Arguments. Python provides various ways of dealing with these types of arguments. The three most common are:  \n",
        "Using sys.argv\n",
        " \n",
        "Using getopt module\n",
        " \n",
        "Using argparse module\n",
        " \n",
        "Using sys.argv\n",
        " \n",
        "The sys module provides functions and variables used to manipulate different parts of the Python runtime environment. This module provides access to some variables used or maintained by the interpreter and to functions that interact strongly with the interpreter.\n",
        " \n",
        "One such variable is sys.argv which is a simple list structure. It’s main purpose are:\n",
        " \n",
        "* It is a list of command line arguments.\n",
        " \n",
        "* len(sys.argv) provides the number of command line arguments.\n",
        " \n",
        "* sys.argv[0] is the name of the current Python script."
      ]
    },
    {
      "cell_type": "markdown",
      "metadata": {
        "id": "a8xQFKChxHkI"
      },
      "source": [
        "  **PROGRAM:**"
      ]
    },
    {
      "cell_type": "code",
      "metadata": {
        "id": "A_1rATpZoLfR"
      },
      "source": [
        " \n",
        "import sys\n",
        "a=sys.argv[1]\n",
        "b=sys.argv[2]\n",
        "sum=int(a)+int(b)\n",
        "print(\"summ of two number is:\",sum)"
      ],
      "execution_count": null,
      "outputs": []
    },
    {
      "cell_type": "markdown",
      "metadata": {
        "id": "68hgw7kT0i3V"
      },
      "source": [
        " # **Exercise - 3 Control Flow** \n",
        "**AIM:**\n",
        " \n",
        "a) Write a Program for checking whether the given number is an even number or not."
      ]
    },
    {
      "cell_type": "markdown",
      "metadata": {
        "id": "2_hEmJiOoXJN"
      },
      "source": [
        "**DESCRIPTION:**\n",
        "\n",
        "**if..else Statement**\n",
        "When there is an alternate operation in control flow, use an else statement alongside with if statement. The general format is\n",
        " \n",
        "if condition:\n",
        " \n",
        "        true statement\n",
        " \n",
        "else:\n",
        " \n",
        "         false statement"
      ]
    },
    {
      "cell_type": "markdown",
      "metadata": {
        "id": "y9JMEAesxJW-"
      },
      "source": [
        "  **PROGRAM:**"
      ]
    },
    {
      "cell_type": "code",
      "metadata": {
        "colab": {
          "base_uri": "https://localhost:8080/"
        },
        "id": "NCba_d-pofq1",
        "outputId": "96f1c980-2fd2-4f54-ce34-9734228b299f"
      },
      "source": [
        " \n",
        "n=int(input(\"enter a number:\"))\n",
        "if (n%2)==0:\n",
        "        print(\"given number is even\")\n",
        "else:\n",
        "      print(\"given number is odd\")"
      ],
      "execution_count": null,
      "outputs": [
        {
          "output_type": "stream",
          "text": [
            "enter a number:8\n",
            "given number is even\n"
          ],
          "name": "stdout"
        }
      ]
    },
    {
      "cell_type": "markdown",
      "metadata": {
        "id": "tyDvcHrp07dX"
      },
      "source": [
        " **AIM:**\n",
        "\n",
        "b) Using a for loop, write a program that prints out the decimal equivalents of 1/2, 1/3, 1/4, . . .1/10"
      ]
    },
    {
      "cell_type": "markdown",
      "metadata": {
        "id": "mMiGq_qCXTsG"
      },
      "source": [
        "**DESCRIPTION:** \n",
        "\n",
        "**For Loop:**\n",
        "For loops can iterate over a sequence of numbers using the \"range\" and \"xrange\" functions. The difference between range and xrange is that the range function returns a new list with numbers of that specified range, whereas xrange returns an iterator, which is more efficient. \n",
        " \n",
        "The general format is\n",
        " \n",
        "for x in range(start,stop,step):\n",
        " \n",
        "statements"
      ]
    },
    {
      "cell_type": "markdown",
      "metadata": {
        "id": "mL5Q8c-3xK1s"
      },
      "source": [
        "  **PROGRAM:**"
      ]
    },
    {
      "cell_type": "code",
      "metadata": {
        "colab": {
          "base_uri": "https://localhost:8080/"
        },
        "id": "FLeWAOnWomVn",
        "outputId": "e8073aba-21b8-4895-ae93-b29f06c782a0"
      },
      "source": [
        " \n",
        "n=int(input(\"enter a number:\"))\n",
        "for i in range(2,n):\n",
        "    de=1/i;\n",
        "    print(\"1/\",i,\"=\",de)"
      ],
      "execution_count": null,
      "outputs": [
        {
          "output_type": "stream",
          "text": [
            "enter a number:7\n",
            "1/ 2 = 0.5\n",
            "1/ 3 = 0.3333333333333333\n",
            "1/ 4 = 0.25\n",
            "1/ 5 = 0.2\n",
            "1/ 6 = 0.16666666666666666\n"
          ],
          "name": "stdout"
        }
      ]
    },
    {
      "cell_type": "markdown",
      "metadata": {
        "id": "QlFrmOb309YR"
      },
      "source": [
        " **AIM:**\n",
        "\n",
        "c) Write a program using a for loop that loops over a sequence. What is sequence?"
      ]
    },
    {
      "cell_type": "markdown",
      "metadata": {
        "id": "K2MZmEQVrXrt"
      },
      "source": [
        " **DESCRIPTION:** \n",
        "**For Loop:**\n",
        "For loops can iterate over a sequence of numbers using the \"range\" and \"xrange\" functions. The difference between range and xrange is that the range function returns a new list with numbers of that specified range, whereas xrange returns an iterator, which is more efficient. \n",
        " \n",
        "The general format is\n",
        " \n",
        "for x in range(start,stop,step):\n",
        " \n",
        "statements"
      ]
    },
    {
      "cell_type": "markdown",
      "metadata": {
        "id": "8xVW4FW3xMDF"
      },
      "source": [
        "  **PROGRAM:**"
      ]
    },
    {
      "cell_type": "code",
      "metadata": {
        "colab": {
          "base_uri": "https://localhost:8080/"
        },
        "id": "xkXcH2R4ox4B",
        "outputId": "32d6e866-f21b-40e0-8db0-56bfc57f135e"
      },
      "source": [
        " \n",
        "#program using a for a loop that loops over a sequence\n",
        "print(\"loop sequence\")\n",
        "num=[45,25,2,28,3,25]\n",
        "for i in num:\n",
        "    print(i)\n",
        " \n",
        "#string sequence\n",
        "print(\"string sequence\")\n",
        "days=[\"sun\",\"mon\",\"tue\",\"wed\",\"thur\",\"fri\",\"st\"]\n",
        "for d in days:\n",
        "    print(d)\n",
        "    \n",
        "#bothh sequence\n",
        "print(\"sequence\")\n",
        "arr=[123,\"abc\",5.6,'h',-33,\"xy\",True]\n",
        "for x in arr:\n",
        "      print(x)"
      ],
      "execution_count": null,
      "outputs": [
        {
          "output_type": "stream",
          "text": [
            "loop sequence\n",
            "45\n",
            "25\n",
            "2\n",
            "28\n",
            "3\n",
            "25\n",
            "string sequence\n",
            "sun\n",
            "mon\n",
            "tue\n",
            "wed\n",
            "thur\n",
            "fri\n",
            "st\n",
            "sequence\n",
            "123\n",
            "abc\n",
            "5.6\n",
            "h\n",
            "-33\n",
            "xy\n",
            "True\n"
          ],
          "name": "stdout"
        }
      ]
    },
    {
      "cell_type": "markdown",
      "metadata": {
        "id": "6Ia3sqc90_Fg"
      },
      "source": [
        " \n",
        " **AIM:**\n",
        " \n",
        "D) Write a program using a while loop that asks the user for a number, and prints a countdownfrom that number to zero."
      ]
    },
    {
      "cell_type": "markdown",
      "metadata": {
        "id": "_M2ckOZ-rf3g"
      },
      "source": [
        " **DESCRIPTION:** \n",
        " While Loop is used to execute a block of statements repeatedly until a given condition is satisfied. And when the condition becomes false, the line immediately after the loop in the program is executed. While loop falls under the category of indefinite iteration\n",
        " \n",
        " The syntax for a while loop is: \n",
        " \n",
        " while [ condition]"
      ]
    },
    {
      "cell_type": "markdown",
      "metadata": {
        "id": "jAnT4PODxNym"
      },
      "source": [
        "  **PROGRAM:**"
      ]
    },
    {
      "cell_type": "code",
      "metadata": {
        "colab": {
          "base_uri": "https://localhost:8080/"
        },
        "id": "Ljgdkr70o83-",
        "outputId": "a9cc7863-73ab-41e5-a72d-fdb8716f45b3"
      },
      "source": [
        " \n",
        "#countdown seq\n",
        "n=int(input(\"enter the number:\"))\n",
        "while n>0:\n",
        "      print(n)\n",
        "      n=n-1"
      ],
      "execution_count": null,
      "outputs": [
        {
          "output_type": "stream",
          "text": [
            "enter the number:4\n",
            "4\n",
            "3\n",
            "2\n",
            "1\n"
          ],
          "name": "stdout"
        }
      ]
    },
    {
      "cell_type": "markdown",
      "metadata": {
        "id": "zZFQxz67X2Gh"
      },
      "source": [
        " # **Exercise 4 - Control Flow - Continued**"
      ]
    },
    {
      "cell_type": "markdown",
      "metadata": {
        "id": "78hNdGzYpDBa"
      },
      "source": [
        "**AIM:**\n",
        " \n",
        "a) Find the sum of all the primes below two million. Each new term in the Fibonacci sequence is generated by adding the previous two terms. Bystarting with 1 and 2, the first 10 terms will be: 1, 2, 3, 5, 8, 13, 21, 34, 55, 89, ..."
      ]
    },
    {
      "cell_type": "markdown",
      "metadata": {
        "id": "LL668JRbrj3q"
      },
      "source": [
        " **DESCRIPTION:** \n",
        "A Fibonacci sequence is the integer sequence of 0, 1, 1, 2, 3, 5, 8....\n",
        " \n",
        "The first two terms are 0 and 1. All other terms are obtained by adding the preceding two terms. This means to say the nth term is the sum of (n-1)th and (n-2)th term\n",
        " \n",
        "Here, we store the number of terms in nterms. We initialize the first term to 0 and the second term to 1.\n",
        " \n",
        "If the number of terms is more than 2, we use a while loop to find the next term in the sequence by adding the preceding two terms. We then interchange the variables (update it) and continue on with the process."
      ]
    },
    {
      "cell_type": "markdown",
      "metadata": {
        "id": "Nsc6KR4gxPWi"
      },
      "source": [
        "  **PROGRAM:**"
      ]
    },
    {
      "cell_type": "code",
      "metadata": {
        "colab": {
          "base_uri": "https://localhost:8080/"
        },
        "id": "iskkKdn1pLNi",
        "outputId": "dfacd554-ea84-4e0c-c6fc-fac6c2a08ebd"
      },
      "source": [
        " \n",
        "n=int(input(\"enter   a anum:\"))\n",
        "a=0\n",
        "b=1\n",
        "c=a+b\n",
        "st=\"\"\n",
        "sum=0\n",
        "con=0\n",
        "while con<=n:\n",
        "    st+=\"\"+str(c)\n",
        "    sum+=c        \n",
        "    a=b\n",
        "    b=c \n",
        "    c=a+b\n",
        "    con+=1\n",
        "print(st)\n",
        "print(\"sum of fibonacii series:\",sum)"
      ],
      "execution_count": null,
      "outputs": [
        {
          "output_type": "stream",
          "text": [
            "enter   a anum:4\n",
            "12358\n",
            "sum of fibonacii series: 19\n"
          ],
          "name": "stdout"
        }
      ]
    },
    {
      "cell_type": "markdown",
      "metadata": {
        "id": "FeItsL8D1CRe"
      },
      "source": [
        " **AIM:**\n",
        "\n",
        "b) By considering the terms in the Fibonacci sequence whose values do not exceed four million,find\n",
        "the sum of the even-valued terms."
      ]
    },
    {
      "cell_type": "markdown",
      "metadata": {
        "id": "doQAYx0Hr5Ho"
      },
      "source": [
        " **DESCRIPTION:** \n",
        "A Fibonacci sequence is the integer sequence of 0, 1, 1, 2, 3, 5, 8....\n",
        " \n",
        "The first two terms are 0 and 1. All other terms are obtained by adding the preceding two terms. This means to say the nth term is the sum of (n-1)th and (n-2)th term\n",
        " \n",
        "Here, we store the number of terms in nterms. We initialize the first term to 0 and the second term to 1.\n",
        " \n",
        "If the number of terms is more than 2, we use a while loop to find the next term in the sequence by adding the preceding two terms. We then interchange the variables (update it) and continue on with the process."
      ]
    },
    {
      "cell_type": "markdown",
      "metadata": {
        "id": "baP4wyVRxRv2"
      },
      "source": [
        "  **PROGRAM:**"
      ]
    },
    {
      "cell_type": "code",
      "metadata": {
        "id": "yEWrmbR1pZOc"
      },
      "source": [
        " \n",
        "n=int(input(\"enter a number:\"))\n",
        "c=0\n",
        " \n",
        " \n",
        "st=\"\"\n",
        "sum=0\n",
        " \n",
        "for i in range(2,n):\n",
        " state=True\n",
        "for j in range(2,i):\n",
        " if(i%j==0):\n",
        "        state=False\n",
        "        break;\n",
        " if state==True:\n",
        "            st+=\"\"+str(i)\n",
        "            c+=1\n",
        "            sum+=i\n",
        " \n",
        "print(\"prime numbers\")\n",
        "print(st)\n",
        " \n",
        "print(\"total count of the prime numbers:\",c)\n",
        "print(\"sum of all prime nums:\",sum)"
      ],
      "execution_count": null,
      "outputs": []
    },
    {
      "cell_type": "markdown",
      "metadata": {
        "id": "ctn03alwYP7z"
      },
      "source": [
        " ## **Exercise - 5 - DS**"
      ]
    },
    {
      "cell_type": "markdown",
      "metadata": {
        "id": "kC6UIBB7q0bx"
      },
      "source": [
        "**AIM:**\n",
        " \n",
        "a) Write a program to count the numbers of characters in the string and store them in adictionary data structure"
      ]
    },
    {
      "cell_type": "markdown",
      "metadata": {
        "id": "hpwxhJ8XsFHd"
      },
      "source": [
        " **DESCRIPTION:** \n",
        "Given a string, the task is to find the frequencies of all the characters in that string and return a dictionary with key as the character and its value as its frequency in the given string.\n",
        " \n",
        "Method #1 : Naive method\n",
        " \n",
        "Simply iterate through the string and form a key in dictionary of newly occurred element or if element is already occurred, increase its value by 1.\n",
        " \n",
        "Method #2 : Using collections.Counter()\n",
        " \n",
        "The most suggested method that could be used to find all occurrences is this method, this actually gets all element frequency and could also be used to print single element frequency if required."
      ]
    },
    {
      "cell_type": "markdown",
      "metadata": {
        "id": "69pd60UgxTa7"
      },
      "source": [
        "  **PROGRAM:**"
      ]
    },
    {
      "cell_type": "code",
      "metadata": {
        "colab": {
          "base_uri": "https://localhost:8080/"
        },
        "id": "DChVTxeRsG7b",
        "outputId": "ed90e48b-f7a0-414a-a1f1-64502167f780"
      },
      "source": [
        " \n",
        "name=input(\"enter a name:\")\n",
        "dic={}\n",
        "for ch in name:\n",
        "    keys=dic.keys()\n",
        " \n",
        "    if(ch in keys):\n",
        "        dic[ch]=dic[ch]+1\n",
        "    else:\n",
        "        dic[ch]=1\n",
        " \n",
        "print(\"dictionary is:\",dic)"
      ],
      "execution_count": null,
      "outputs": [
        {
          "output_type": "stream",
          "text": [
            "enter a name:wolf\n",
            "dictionary is: {'w': 1, 'o': 1, 'l': 1, 'f': 1}\n"
          ],
          "name": "stdout"
        }
      ]
    },
    {
      "cell_type": "markdown",
      "metadata": {
        "id": "W5xa329C1JG2"
      },
      "source": [
        " **AIM:**\n",
        "\n",
        "b) Write a program to use split and join methods in the string and trace a birthday with adictionary\n",
        "data structure"
      ]
    },
    {
      "cell_type": "markdown",
      "metadata": {
        "id": "U6dUgelysLP_"
      },
      "source": [
        " **DESCRIPTION:** \n",
        "Python program to Split a string based on a delimiter and join the string using another delimiter.\n",
        " \n",
        "Split a string can be quite useful sometimes, especially when you need only certain parts of strings. A simple yet effective example is splitting the First-name and Last-name of a person. Another application is CSV(Comma Separated Files). We use split to get data from CSV and join to write data to CSV.\n",
        " \n",
        "In Python, we can use the function split() to split a string and \n",
        " \n",
        "join() to join a string."
      ]
    },
    {
      "cell_type": "markdown",
      "metadata": {
        "id": "42aDHjPVxUmN"
      },
      "source": [
        "  **PROGRAM:**"
      ]
    },
    {
      "cell_type": "code",
      "metadata": {
        "id": "vB4CRn6utkdF"
      },
      "source": [
        " dob={\"praveen\":\"15-10-2001\",\"ram\":\"14-0-2002\"}\n",
        "name=input(\"enter which person dob u want:\")\n",
        "l=name.split()\n",
        "birth=\"\"\n",
        "for i in l:\n",
        "    if i in dob.keys():\n",
        "        pers=i\n",
        " \n",
        "print(\"\".join([pers,\"birthdayis:\",dob[pers]]))"
      ],
      "execution_count": null,
      "outputs": []
    },
    {
      "cell_type": "markdown",
      "metadata": {
        "id": "oXBD7k7dt8So"
      },
      "source": [
        " ## **Exercise - 6 DS - Continued**\n",
        " \n",
        "**AIM:**\n",
        " \n",
        "a) Write a program combinelists that combines these lists into a dictionary."
      ]
    },
    {
      "cell_type": "markdown",
      "metadata": {
        "id": "lZ5D-a4Cj0KX"
      },
      "source": [
        " **DESCRIPTION:** \n",
        "Python program to Split a string based on a delimiter and join the string using another delimiter.\n",
        " \n",
        "Split a string can be quite useful sometimes, especially when you need only certain parts of strings. A simple yet effective example is splitting the First-name and Last-name of a person. Another application is CSV(Comma Separated Files). We use split to get data from CSV and join to write data to CSV.\n",
        " \n",
        "In Python, we can use the function split() to split a string and \n",
        " \n",
        "join() to join a string."
      ]
    },
    {
      "cell_type": "markdown",
      "metadata": {
        "id": "Z03YR-HYxWCZ"
      },
      "source": [
        "  **PROGRAM:**"
      ]
    },
    {
      "cell_type": "code",
      "metadata": {
        "id": "WWBpUIGiuAeC",
        "colab": {
          "base_uri": "https://localhost:8080/"
        },
        "outputId": "5afd18d5-35e3-4681-de30-5c0f10cbf803"
      },
      "source": [
        " \n",
        "sub=[\"daa\",\"os\",\"dbms\",\"p&s\",\"ppl\",\"se\"]\n",
        "marks=[85,96,75,65,83,56]\n",
        "print(sub)\n",
        "print(marks)\n",
        "dic=dict(zip(sub,marks))\n",
        "print(dic)"
      ],
      "execution_count": null,
      "outputs": [
        {
          "output_type": "stream",
          "text": [
            "['daa', 'os', 'dbms', 'p&s', 'ppl', 'se']\n",
            "[85, 96, 75, 65, 83, 56]\n",
            "{'daa': 85, 'os': 96, 'dbms': 75, 'p&s': 65, 'ppl': 83, 'se': 56}\n"
          ],
          "name": "stdout"
        }
      ]
    },
    {
      "cell_type": "markdown",
      "metadata": {
        "id": "f7xNHHqc1MJu"
      },
      "source": [
        " **AIM:**\n",
        "\n",
        "b) Write a program to count frequency of characters in a given file. Can you use characterfrequency to\n",
        "tell whether the given file is a Python program file, C program file or a text file?"
      ]
    },
    {
      "cell_type": "markdown",
      "metadata": {
        "id": "zVNPqDo21MxU"
      },
      "source": [
        " **DESCRIPTION:** \n",
        "approaches to count the number of times a letter appears in a text file in Python.\n",
        " \n",
        "Method 1: Using the in-built count() method.\n",
        " \n",
        "**Approach:**\n",
        " \n",
        "1. Read the file.\n",
        "2. Store the content of the file in a variable.\n",
        "3. Use the count() method with the argument as a letter whose frequency is required.\n",
        "4. Display the count of the letter."
      ]
    },
    {
      "cell_type": "markdown",
      "metadata": {
        "id": "SWuVO5gpxXGK"
      },
      "source": [
        "  **PROGRAM:**"
      ]
    },
    {
      "cell_type": "code",
      "metadata": {
        "id": "BW24_kI4uNoS"
      },
      "source": [
        " \n",
        "filetypes=['.py','.c','.txt']\n",
        "fn=input(\"enter a fikle name:\")\n",
        "f=open(fn,\"r\")\n",
        "count=dict()\n",
        "for  ft in filetypes:\n",
        "     if(ft in  fn):\n",
        "           if(ft==\".py\"):\n",
        "             print(\"python file\")\n",
        "           elif(ft==\".c\"):\n",
        "             print(\"cfile\")\n",
        "           elif(ft==\".txt\"):\n",
        "             print(\"text file\")\n",
        " \n",
        " \n",
        "for line in f:\n",
        "     for ch in line:\n",
        "          if ch in count:\n",
        "               count[ch]=count[ch]+1\n",
        " \n",
        "          else:\n",
        "              count[ch]=1\n",
        " \n",
        " \n",
        "print(count)\n",
        "f.close()"
      ],
      "execution_count": null,
      "outputs": []
    },
    {
      "cell_type": "markdown",
      "metadata": {
        "id": "IFHWA6HquO5w"
      },
      "source": [
        "## **Exercise - 7 Files**\n",
        " \n",
        "**AIM**\n",
        " \n",
        "a) Write a program to print each line of a file in reverse order."
      ]
    },
    {
      "cell_type": "markdown",
      "metadata": {
        "id": "csjni5S81Odn"
      },
      "source": [
        " **DESCRIPTION:** \n",
        "The file handling plays an important role when the data needs to be stored permanently into the\n",
        "file. A file is a named location on disk to store related information. We can access the stored\n",
        "information (non-volatile) after the program termination.\n",
        "In Python, files are treated in two modes as text or binary. The file may be in the text or binary\n",
        "format, and each line of a file is ended with the special character.\n",
        "Hence, a file operation can be done in the following order.\n",
        " \n",
        " Open a file\n",
        " \n",
        " Read or write - Performing operation\n",
        " \n",
        " Close the file"
      ]
    },
    {
      "cell_type": "markdown",
      "metadata": {
        "id": "p9XTMCKjxYk8"
      },
      "source": [
        "  **PROGRAM:**"
      ]
    },
    {
      "cell_type": "code",
      "metadata": {
        "id": "GkgFM4tKkNl4"
      },
      "source": [
        " obj=open(\"sam.txt\",\"r\")\n",
        "if obj:\n",
        "    st=obj.read()\n",
        "    print(\"file content is:\")\n",
        "obj.close()\n",
        "print()\n",
        "lines=st.split('\\n')\n",
        "for ln in lines:\n",
        "    i=len(ln)-1\n",
        "    while(i>=0):\n",
        "      print(ln[i],end='')\n",
        "      i=i-1\n",
        "    print()"
      ],
      "execution_count": null,
      "outputs": []
    },
    {
      "cell_type": "markdown",
      "metadata": {
        "id": "pQAIA5xJ1PEW"
      },
      "source": [
        " **AIM:**\n",
        " \n",
        "b) Write a program to compute the number of characters, words and lines in a file"
      ]
    },
    {
      "cell_type": "markdown",
      "metadata": {
        "id": "PdrSrXT-1PuK"
      },
      "source": [
        "\n",
        "**DESCRIPTION:**\n",
        "\n",
        " Given a text file fname, the task is to count the total number of characters, words, spaces and lines in the file. \n",
        "As we know, Python provides multiple in-built features and modules for handling files. Let’s discuss different ways to calculate total number of characters, words, spaces and lines in a file using Python.\n",
        " \n",
        "Method #1: Naive approach\n",
        " \n",
        "In this approach, the idea is to solve the task by developing our own logic. Without using any built-in function of Python, the total number of characters, words, spaces and lines of the file will be calculated.\n",
        " \n",
        "Method #2: Using some built-in functions and OS module functions\n",
        " \n",
        "In this approach, the idea is to use the os.linesep() method of OS module to separate the lines on the current platform. When the interpreter’s scanner encounter os.linesep it replaces it with \\n character. After that strip() and split() functions will be used to carry out the task."
      ]
    },
    {
      "cell_type": "markdown",
      "metadata": {
        "id": "icLpVfrBxaHm"
      },
      "source": [
        "  **PROGRAM:**"
      ]
    },
    {
      "cell_type": "code",
      "metadata": {
        "id": "cEn4l4h12a6D",
        "colab": {
          "base_uri": "https://localhost:8080/",
          "height": 374
        },
        "outputId": "fc3cde76-5b2d-4780-9d23-bab3bfe384e3"
      },
      "source": [
        " \n",
        "obj=open(\"sam.txt\",\"r\")\n",
        "if obj:\n",
        "    st=obj.read()\n",
        "    print(\"file content is:\")\n",
        "obj.close()\n",
        "print()\n",
        "nc=nw=nl=0\n",
        "for ch in st:\n",
        "    if(ch):\n",
        "        nc=nc+1\n",
        "    if(ch==''):\n",
        "        nw=nw+1\n",
        "    if(ch=='\\n'):\n",
        "        nl=nl+1\n",
        " \n",
        "print(\"number of characters in a file:\",nc)\n",
        "print(\"number of words in file is:\",nw)\n",
        "print(\"number of lines ins file:\",nl)"
      ],
      "execution_count": null,
      "outputs": [
        {
          "output_type": "error",
          "ename": "FileNotFoundError",
          "evalue": "ignored",
          "traceback": [
            "\u001b[0;31m---------------------------------------------------------------------------\u001b[0m",
            "\u001b[0;31mFileNotFoundError\u001b[0m                         Traceback (most recent call last)",
            "\u001b[0;32m<ipython-input-2-ee4c55dcd55c>\u001b[0m in \u001b[0;36m<module>\u001b[0;34m()\u001b[0m\n\u001b[1;32m      1\u001b[0m \u001b[0;34m\u001b[0m\u001b[0m\n\u001b[0;32m----> 2\u001b[0;31m \u001b[0mobj\u001b[0m\u001b[0;34m=\u001b[0m\u001b[0mopen\u001b[0m\u001b[0;34m(\u001b[0m\u001b[0;34m\"sam.txt\"\u001b[0m\u001b[0;34m,\u001b[0m\u001b[0;34m\"r\"\u001b[0m\u001b[0;34m)\u001b[0m\u001b[0;34m\u001b[0m\u001b[0;34m\u001b[0m\u001b[0m\n\u001b[0m\u001b[1;32m      3\u001b[0m \u001b[0;32mif\u001b[0m \u001b[0mobj\u001b[0m\u001b[0;34m:\u001b[0m\u001b[0;34m\u001b[0m\u001b[0;34m\u001b[0m\u001b[0m\n\u001b[1;32m      4\u001b[0m    \u001b[0mst\u001b[0m\u001b[0;34m=\u001b[0m\u001b[0mobj\u001b[0m\u001b[0;34m.\u001b[0m\u001b[0mread\u001b[0m\u001b[0;34m(\u001b[0m\u001b[0;34m)\u001b[0m\u001b[0;34m\u001b[0m\u001b[0;34m\u001b[0m\u001b[0m\n\u001b[1;32m      5\u001b[0m    \u001b[0mprint\u001b[0m\u001b[0;34m(\u001b[0m\u001b[0;34m\"file content is:\"\u001b[0m\u001b[0;34m)\u001b[0m\u001b[0;34m\u001b[0m\u001b[0;34m\u001b[0m\u001b[0m\n",
            "\u001b[0;31mFileNotFoundError\u001b[0m: [Errno 2] No such file or directory: 'sam.txt'"
          ]
        }
      ]
    },
    {
      "cell_type": "markdown",
      "metadata": {
        "id": "rqPA2e-U2dPA"
      },
      "source": [
        "## **Exercise - 8 Functions**\n",
        " \n",
        "**AIM:**\n",
        " \n",
        "a) Write a function ball collide that takes two balls as parameters and computes if they arecolliding.\n",
        "Your function should return a Boolean representing whether or not the balls arecolliding.\n",
        " \n",
        " \n",
        " \n",
        " \n",
        "*Hint: Represent a ball on a plane as a tuple of (x, y, r), r being the radius\n",
        "If (distance between two balls centers) <= (sum of their radii) then (they are colliding)*"
      ]
    },
    {
      "cell_type": "markdown",
      "metadata": {
        "id": "xzhpAQWt1RS1"
      },
      "source": [
        " **DESCRIPTION** \n",
        "**Functions**\n",
        "A function in python is a block of code that is defined for doing frequent operations in a\n",
        "particular task. The general format is\n",
        " \n",
        "def  Functionname(arguments):\n",
        " \n",
        "      Statements\n",
        " \n",
        "**Calling a Function:**\n",
        " \n",
        "A function can be called by its name followed by arguments within parenthesis.\n",
        " \n",
        "function()"
      ]
    },
    {
      "cell_type": "markdown",
      "metadata": {
        "id": "afAdcJWSxb4X"
      },
      "source": [
        "  **PROGRAM:**"
      ]
    },
    {
      "cell_type": "code",
      "metadata": {
        "id": "Zqdrl2nU2uNz"
      },
      "source": [
        " \n",
        "import math\n",
        "def ballcollide(b1tup,b2tup):\n",
        "    x1=b1tup[0]\n",
        "    y1=b1tup[1]\n",
        "    x2=b2tup[0]\n",
        "    y2=b2tup[1]\n",
        "    r1=b1tup[2]\n",
        "    r2=b2tup[2]\n",
        " \n",
        " \n",
        "    d=math.sqrt((x2-x1)**2+(y2-y1)**2)\n",
        "    if(d<=r1+r2):\n",
        "      return True\n",
        "    else:\n",
        "        return False\n",
        " \n",
        " \n",
        "ball1=(1,2,3)\n",
        "ball2=(3,2,1)\n",
        "c=ballcollide(ball1,ball2)\n",
        "if(c):\n",
        "    print(\"balls are collided\")\n",
        "else:\n",
        "    print(\"ball are not collided\")"
      ],
      "execution_count": null,
      "outputs": []
    },
    {
      "cell_type": "markdown",
      "metadata": {
        "id": "YBk_vIWW1SY_"
      },
      "source": [
        " **AIM:**\n",
        "\n",
        "b) Find mean, median, mode for the given set of numbers in a list"
      ]
    },
    {
      "cell_type": "markdown",
      "metadata": {
        "id": "XNT0dMcA1TFT"
      },
      "source": [
        " **DESCRIPTION** \n",
        "Mean : The mean is the average of all numbers and is sometimes called the arithmetic mean. This code calculates Mean or Average of a list containing numbers:\n",
        " \n",
        "Median : The median is the middle number in a group of numbers. This code calculates Median of a list containing numbers:\n",
        " \n",
        "Mode : The mode is the number that occurs most often within a set of numbers. This code calculates Mode of a list containing numbers:\n",
        " \n",
        "We will import Counter from collections library which is a built-in module in Python 2 and 3. This module will help us count duplicate elements in a list.\n",
        "We define a list of numbers and calculate the length of the list. We then call Counter (a dict subclass) which helps to count hashable objects, and we then convert it to dict object. We then initialize a list with a For Loop to compare all the dict values (Number of elements) to the max of all dict values (count of most occurring element) and it returns all the elements equal to max count. If the elements returned are equal to the number of total elements in a list then we print out ‘No mode’, else we print out the modes returned."
      ]
    },
    {
      "cell_type": "markdown",
      "metadata": {
        "id": "aNPEH-QRxdN3"
      },
      "source": [
        "  **PROGRAM:**"
      ]
    },
    {
      "cell_type": "code",
      "metadata": {
        "id": "Thv2Dwo62vL_"
      },
      "source": [
        " \n",
        "def mean(numlist):\n",
        "    return sum(numlist)/len(numlist)\n",
        "def median(numlist):\n",
        "    numlist.sort()\n",
        "    print(numlist)\n",
        "    n=len(numlist)\n",
        "    print(\"total\",n)\n",
        "    mid=n//2\n",
        "    print(\"mid:\",mid)\n",
        "    if(n%2==0):\n",
        "        return numlist[mid]\n",
        "    else:\n",
        "        return (numlist[mid-1]+numlist[mid])/2\n",
        "def mode(numlist):\n",
        "    numlist.sort()\n",
        "    temp=[]\n",
        "    i=0\n",
        "    while i<len(numlist):\n",
        "        temp.append(numlist.count(numlist[i]))\n",
        "        i+=1\n",
        "    dic=dict(zip(numlist,temp))\n",
        "    modes={k for k, v in dic.items() if(v==max(temp))}\n",
        "    return modes\n",
        "list=[1,1,2,2,3,4,5,3,3]\n",
        "print(\"mean of guive list:\",mean(list))\n",
        "print(\"median of guive list:\",median(list))\n",
        " \n",
        "print(\"mode of guive list:\",mode(list))"
      ],
      "execution_count": null,
      "outputs": []
    },
    {
      "cell_type": "markdown",
      "metadata": {
        "id": "O8H2Uj8G2yCI"
      },
      "source": [
        "# **Exercise - 9 Functions - Continued**\n",
        " \n",
        "**AIM:**\n",
        " \n",
        "a) Write a function nearly equal to test whether two strings are nearly"
      ]
    },
    {
      "cell_type": "markdown",
      "metadata": {
        "id": "dV-zm5RD1UuT"
      },
      "source": [
        " **DESCRIPTION:** \n",
        "strlen() function is used to check wether the two string are nearly equal or not by basis of the Length of those Strings\n",
        " \n",
        "len() function is an inbuilt function in Python programming language that returns the length of the string.\n",
        " \n",
        "len() is a built-in function in python.You can use the len() to get the length of the given string, array, list, tuple, dictionary, etc.\n",
        " \n",
        "Value: the given value you want the length of.\n",
        " \n",
        "Return value a return an integer value i.e. the length of the given string, or array, or list, or collections.\n",
        " \n",
        "Syntax:\n",
        " \n",
        "len(string)"
      ]
    },
    {
      "cell_type": "markdown",
      "metadata": {
        "id": "L5B43jNNxfBf"
      },
      "source": [
        "  **PROGRAM:**"
      ]
    },
    {
      "cell_type": "code",
      "metadata": {
        "id": "amjsYkdE28Wr"
      },
      "source": [
        " \n",
        "def nearlyeq(str1,str2):\n",
        "    count=0\n",
        "    i=j=0\n",
        "    ss=0\n",
        "    while(i<len(str1)and j<len(str2)):\n",
        "        if(str1[i]!=str2[j]):\n",
        "            count+=1\n",
        "        if(len(str1)>len(str2)):\n",
        "            i+=1\n",
        " \n",
        "        elif(len(str1)==len(str2)):\n",
        "            pass\n",
        "        else:\n",
        "            i-=1     \n",
        "        if(count>1):\n",
        "             ss-=1\n",
        "             \n",
        "        i+=1\n",
        "        j+=1\n",
        "        if(count<2):\n",
        "             ss+=1\n",
        " \n",
        "    return ss\n",
        "s1=input(\"enter a string 1:\")\n",
        "s2=input(\"enter the string2:\")\n",
        "t=nearlyeq(s1,s2)\n",
        "if(t>1):\n",
        "    print(\"neraly equal0\")\n",
        "else:\n",
        "    print(\"not nearly equal\")"
      ],
      "execution_count": null,
      "outputs": []
    },
    {
      "cell_type": "markdown",
      "metadata": {
        "id": "xLfBqaRd1VgD"
      },
      "source": [
        " **AIM:**\n",
        "\n",
        "b) Write a function dup to find all duplicates in the list."
      ]
    },
    {
      "cell_type": "markdown",
      "metadata": {
        "id": "39jpRK3u1WN8"
      },
      "source": [
        " **DESCRIPTION:** \n",
        "To check if a list contains any duplicate element follow the following steps,\n",
        " \n",
        "1. Add the contents of list in a set.\n",
        " \n",
        "        As set contains only unique elements, so no duplicates will be added   the the set.\n",
        " \n",
        "2. Compare the size of set and list.\n",
        " \n",
        "            If size of list & set is equal then it means no duplicates in list.\n",
        " \n",
        "3. If size of list & set are different then it means yes, there are duplicates in list."
      ]
    },
    {
      "cell_type": "markdown",
      "metadata": {
        "id": "w7n5ZiHaxgak"
      },
      "source": [
        "  **PROGRAM:**"
      ]
    },
    {
      "cell_type": "code",
      "metadata": {
        "id": "kbmb7w7a3B_H"
      },
      "source": [
        " \n",
        "def dup(list):\n",
        "  list1=[]\n",
        "  for i in list:\n",
        "    count=list.count(i)\n",
        "    if(count>1 and (i not in list1)):\n",
        "        list1.append(i)\n",
        "        \n",
        "  print(\"the dups int he list are:\",list1)        \n",
        "list2=[1,2,1,2]\n",
        " \n",
        "dup(list2)"
      ],
      "execution_count": null,
      "outputs": []
    },
    {
      "cell_type": "markdown",
      "metadata": {
        "id": "PJhcxn-b1Wz2"
      },
      "source": [
        " **AIM:**\n",
        "\n",
        "c) Write a function unique to find all the unique elements of a list."
      ]
    },
    {
      "cell_type": "markdown",
      "metadata": {
        "id": "OdL5QGUM1XiY"
      },
      "source": [
        " **DESCRIPTION:** \n",
        "To find the unique in the list .There is a Specific Method i.e.,\n",
        " \n",
        "Method  : Traversal of list\n",
        " \n",
        "Using traversal, we can traverse for every element in the list and check if the element is in the unique_list already if it is not over there, then we can append it in the unique_list. \n",
        " \n",
        "This is done using one for loop and other if statement which check if the value is in the unique list or not which is equivalent to another for loop."
      ]
    },
    {
      "cell_type": "markdown",
      "metadata": {
        "id": "z7a0tkyjxhga"
      },
      "source": [
        "  **PROGRAM:**"
      ]
    },
    {
      "cell_type": "code",
      "metadata": {
        "id": "ihJhH92e3D7o"
      },
      "source": [
        " \n",
        "def unique(list1):\n",
        "  list2={}\n",
        " \n",
        "  for i in list1:\n",
        "    c=list1.count(i)\n",
        "    if c==1:\n",
        "      list2[i]=c\n",
        "  print(\"the unique elements in the list are:\",list2)\n",
        " \n",
        "list=[1,2,3,45,45,6,88,88,9]\n",
        "unique(list)"
      ],
      "execution_count": null,
      "outputs": []
    },
    {
      "cell_type": "markdown",
      "metadata": {
        "id": "1oRZsWQz3F3j"
      },
      "source": [
        "## **Exercise - 10 - Functions - Problem Solving**\n",
        " \n",
        "**AIM**:\n",
        " \n",
        "a) Write a function cumulative product to compute cumulative product of a list of numbers."
      ]
    },
    {
      "cell_type": "markdown",
      "metadata": {
        "id": "gzdWzaTu1Zj6"
      },
      "source": [
        " **DESCRIPTION:** \n",
        "A cumulative product is a sequence of partial products of a given sequence. For example, the cumulative products of the sequence. , are , , .. Cumulative products can be implemented in the Wolfram Language as Rest[FoldList[Times, 1, list]]\n",
        " \n",
        "cumprod(A,1) works on successive elements in the columns of A and returns the cumulative products of each column. cumprod(A,2) works on successive elements in the rows of A and returns the cumulative products of each row.\n",
        " \n",
        "umprod() function is used when we want to compute the cumulative product of array elements over a given axis. Syntax : numpy.cumprod(arr, axis=None, dtype=None, out=None) Parameters : arr : [array_like] Array containing numbers whose cumulative product is desired."
      ]
    },
    {
      "cell_type": "markdown",
      "metadata": {
        "id": "8-mYHPV3xi8N"
      },
      "source": [
        "  **PROGRAM:**"
      ]
    },
    {
      "cell_type": "code",
      "metadata": {
        "id": "SZHP8jdJ3vTc"
      },
      "source": [
        " \n",
        "def cumulative_product(list1,n):\n",
        "    list2=[]\n",
        "    i=0\n",
        "    list2.append(list1[i])\n",
        "    for i in range(1,n):\n",
        "        v=list1[i]*list2[i-1]\n",
        "        list2.append(v)\n",
        "        \n",
        "    print(list2)\n",
        "list3=[]\n",
        "n=int(input(\"enter size :\"))\n",
        "print(\"enter the data:\")\n",
        "for i in range(0,n):\n",
        "    x=int(input())\n",
        "    list3.append(x)\n",
        "cumulative_product(list3,n)"
      ],
      "execution_count": null,
      "outputs": []
    },
    {
      "cell_type": "markdown",
      "metadata": {
        "id": "Ohem837G1aSI"
      },
      "source": [
        " **AIM:**\n",
        "\n",
        "b) Write a function reverse to reverse a list. Without using the reverse function."
      ]
    },
    {
      "cell_type": "markdown",
      "metadata": {
        "id": "sCPsEd971a_U"
      },
      "source": [
        " **DESCRIPTION:** \n",
        "In this Python code snippet post, we are going to implement a list reverse function from the scratch without using any builtin functions.\n",
        " \n",
        "Let us see how…\n",
        " \n",
        "Iterative solution\n",
        " \n",
        "We can use a for loop to swap the first and last items, the second and the one before the last item and so on until the list is reversed in place. The number of iterations needed is half the list size. If the list has an odd number of items then the middle item will stay in its place."
      ]
    },
    {
      "cell_type": "markdown",
      "metadata": {
        "id": "hcMPFa8kxkEr"
      },
      "source": [
        "  **PROGRAM:**"
      ]
    },
    {
      "cell_type": "code",
      "metadata": {
        "id": "fN0J1NR231Xl"
      },
      "source": [
        " \n",
        "def reverse_list(numlist):\n",
        "    temp=list1[::-1]\n",
        "    numlist=temp\n",
        "    return temp\n",
        "list1=[1,2,3,4]\n",
        "print(\"giiven list is :\",list1)\n",
        "print(\"after reverse function:\",reverse_list(list1))\n",
        "print(\"after list is:\",list1)"
      ],
      "execution_count": null,
      "outputs": []
    },
    {
      "cell_type": "markdown",
      "metadata": {
        "id": "rewt3KuI1boA"
      },
      "source": [
        " **AIM:**\n",
        "\n",
        "c) Write function to compute gcd, lcm of two numbers. Each function shouldn’t exceed one line."
      ]
    },
    {
      "cell_type": "markdown",
      "metadata": {
        "id": "VpJEKNet1cV1"
      },
      "source": [
        " **DESCRIPTION:** \n",
        "Python provides you an anonymous function called lambda. It can take any number of\n",
        "arguments, but can only have one expression. It can be used to find LCM and GCD values without exceeding each from from one line.\n",
        " \n",
        "The general format is\n",
        " \n",
        "**lambda arguments: expression**\n",
        " \n",
        "The expression is executed during the function call and the result is returned. \n",
        " \n",
        "**Lambda as a Function**\n",
        " \n",
        "The power of using a lambda expression is implementing it using a function"
      ]
    },
    {
      "cell_type": "markdown",
      "metadata": {
        "id": "1Ocs0hJBxlif"
      },
      "source": [
        "  **PROGRAM:**"
      ]
    },
    {
      "cell_type": "code",
      "metadata": {
        "id": "Si1INkhr4CUm"
      },
      "source": [
        " \n",
        "gcd=lambda a,b: a if b==0 else gcd(a,a%b)\n",
        "lcm=lambda a,b: (a*b)/gcd(a,b)\n",
        " \n",
        "x=4\n",
        "y=24\n",
        "print(\"gcd=\",gcd(x,y))\n",
        "print(\"lcm=\",lcm(x,y))"
      ],
      "execution_count": null,
      "outputs": []
    },
    {
      "cell_type": "markdown",
      "metadata": {
        "id": "ZSkNIGPnJG6p"
      },
      "source": [
        "# **Exercise 11 - Multi-D Lists**\n",
        "**AIM**:\n",
        " \n",
        "a) Write a program that defines a matrix and prints"
      ]
    },
    {
      "cell_type": "markdown",
      "metadata": {
        "id": "ymUHjwAd1eRY"
      },
      "source": [
        " **DESCRIPTION:** \n",
        "Lists are a very widely use data structure in python. They contain a list of elements separated by comma. But sometimes lists can also contain lists within them. These are called nested lists or multidimensional lists. In this article we will see how to create and access elements in a multidimensional list.\n",
        " \n",
        "**Methods on Multidimensional lists**\n",
        " \n",
        "1. append(): Adds an element at the end of the list.\n",
        " \n",
        "2. extend(): Add the elements of a list (or any iterable), to the end of the current list.\n",
        " \n",
        "3. reverse(): Reverses the order of the list."
      ]
    },
    {
      "cell_type": "code",
      "metadata": {
        "id": "ubGToubAeAFv"
      },
      "source": [
        " matA=[[]]\n",
        "rows=int(input(\"Enter row size of Matrix:\"))\n",
        "cols=int(input(\"Enter column size of Matrix: \"))\n",
        " \n",
        "matA=[[int(input(\"Enter [%d,%d] value: \"%(i,j)))for j in range(cols)]for i in range(rows)]\n",
        " \n",
        "print(\"Matrix is: \")\n",
        "for i in range(rows):\n",
        "    for j in range(cols):\n",
        "        print(matA[i][j],end='\\t')\n",
        "    print()"
      ],
      "execution_count": null,
      "outputs": []
    },
    {
      "cell_type": "markdown",
      "metadata": {
        "id": "Bn5ygXbpd_Cb"
      },
      "source": [
        "  **AIM:** \n",
        "\n",
        "b) Write a program to perform addition of two square matrices"
      ]
    },
    {
      "cell_type": "markdown",
      "metadata": {
        "id": "y-D3htaYeIqG"
      },
      "source": [
        " **DESCRIPTION:** \n",
        "We can perform matrix addition in following ways in Python.  \n",
        " \n",
        "1. Using for loop: \n",
        " \n",
        "**Explanation** :- \n",
        "In this program we have used nested for loops to iterate through each row and each column. At each point we add the corresponding elements in the two matrices and store it in the result.\n",
        " \n",
        "2. Using nested list comprehension :\n",
        " \n",
        " In Python, we can implement a matrix as nested list (list inside a list). We can treat each element as a row of the matrix. \n",
        " \n",
        "**Explanation :-**\n",
        " \n",
        "The output of this program is the same as above. We have used nested list comprehension to iterate through each element in the matrix. List comprehension allows us to write concise codes and we must try to use them frequently in Python. They are very helpful.\n",
        " \n",
        "3. uising zip function\n",
        " \n",
        "**Explanation :**\n",
        " \n",
        "The zip function accepts iterator i of each element(list) of matrix, mapping them, adding them using sum() and storing them in the map form."
      ]
    },
    {
      "cell_type": "markdown",
      "metadata": {
        "id": "C2RBUp0mxnKs"
      },
      "source": [
        "  **PROGRAM:**"
      ]
    },
    {
      "cell_type": "code",
      "metadata": {
        "colab": {
          "base_uri": "https://localhost:8080/"
        },
        "id": "CzFjOqgTJNMb",
        "outputId": "4096c093-3adc-4ddd-97aa-32e3ce4873bd"
      },
      "source": [
        " def mat_read(rows,cols):\n",
        "    mat=[[int(input(\"Enter the mat[%d,%d] value \"%(i,j)))for j in range(cols)]for i in range (rows)]\n",
        "    return mat\n",
        "def print_mat(rows,cols,mat):\n",
        "    for i in range(rows):\n",
        "        for j in range (cols):\n",
        "            print(mat[i][j],end='\\t')\n",
        "        print()\n",
        "    \n",
        "matA=[[]]\n",
        "matB=[[]]\n",
        "mat_sum=[[]]\n",
        " \n",
        " \n",
        "rows=int(input(\"Enter the row size \"))\n",
        "cols=int(input(\"Enter the column size \"))\n",
        " \n",
        "if(rows==cols):\n",
        "    print(\"For matrix A\")\n",
        "    matA=mat_read(rows,cols)\n",
        "    \n",
        "    print(\"For matrix B\")\n",
        "    matB=mat_read(rows,cols)\n",
        "    \n",
        "    mat_sum=[[matA[i][j]+matB[i][j] for j in range(cols)]for i in range (rows)]\n",
        " \n",
        "    print(\"Matrix A \")\n",
        "    print_mat(rows,cols,matA)\n",
        "    \n",
        "    print(\"Matrix B \")\n",
        "    print_mat(rows,cols,matB)\n",
        "    \n",
        "    print(\"Matrix A+B = \")\n",
        "    print_mat(rows,cols,mat_sum)\n",
        "else:\n",
        "    print(\"Matrix Addition is not possible\")"
      ],
      "execution_count": null,
      "outputs": [
        {
          "output_type": "stream",
          "text": [
            "Enter the row size 2\n",
            "Enter the column size 2\n",
            "For matrix A\n",
            "Enter the mat[0,0] value 1\n",
            "Enter the mat[0,1] value 2\n",
            "Enter the mat[1,0] value 3\n",
            "Enter the mat[1,1] value 4\n",
            "For matrix B\n",
            "Enter the mat[0,0] value 1\n",
            "Enter the mat[0,1] value 2\n",
            "Enter the mat[1,0] value 3\n",
            "Enter the mat[1,1] value 4\n",
            "Matrix A \n",
            "1\t2\t\n",
            "3\t4\t\n",
            "Matrix B \n",
            "1\t2\t\n",
            "3\t4\t\n",
            "Matrix A+B = \n",
            "2\t4\t\n",
            "6\t8\t\n"
          ],
          "name": "stdout"
        }
      ]
    },
    {
      "cell_type": "markdown",
      "metadata": {
        "id": "Bvxl_PrO1fSE"
      },
      "source": [
        " **AIM:**\n",
        " \n",
        "c) Write a program to perform multiplication of two square"
      ]
    },
    {
      "cell_type": "markdown",
      "metadata": {
        "id": "qwB4-jDw1gBd"
      },
      "source": [
        " **DESCRIPTION:** \n",
        "In Python, we can implement a matrix as nested list (list inside a list).\n",
        " \n",
        "We can treat each element as a row of the matrix.\n",
        " \n",
        "For example X = [[1, 2], [4, 5], [3, 6]] would represent a 3x2 matrix.\n",
        " \n",
        "The first row can be selected as X[0]. And, the element in first row, first column can be selected as X[0][0].\n",
        " \n",
        "Multiplication of two matrices X and Y is defined only if the number of columns in X is equal to the number of rows Y.\n",
        " \n",
        "If X is a n x m matrix and Y is a m x l matrix then, XY is defined and has the dimension n x l (but YX is not defined). Here are a couple of ways to implement matrix multiplication in Python."
      ]
    },
    {
      "cell_type": "markdown",
      "metadata": {
        "id": "ejp1zXH5xoqd"
      },
      "source": [
        "  **PROGRAM:**"
      ]
    },
    {
      "cell_type": "code",
      "metadata": {
        "id": "BOjhNB5mKFyV"
      },
      "source": [
        " def mat_read(rows,cols):\n",
        "    mat=[[int(input(\"Enter the mat[%d,%d] value \"%(i,j)))for j in range(cols)]for i in range (rows)]\n",
        "    return mat\n",
        "def print_mat(rows,cols,mat):\n",
        "    for i in range(rows):\n",
        "        for j in range (cols):\n",
        "            print(mat[i][j],end='\\t')\n",
        "        print()\n",
        "    \n",
        "matA=[[]]\n",
        "matB=[[]]\n",
        "mat_mul=[[]]\n",
        " \n",
        " \n",
        "rows=int(input(\"Enter the row size \"))\n",
        "cols=int(input(\"Enter the column size \"))\n",
        " \n",
        "if(rows==cols):\n",
        "    print(\"For matrix A\")\n",
        "    matA=mat_read(rows,cols)\n",
        "    \n",
        "    print(\"For matrix B\")\n",
        "    matB=mat_read(rows,cols)\n",
        "    \n",
        "    mat_mul=[[0 for j in range(cols)]for i in range (rows)]\n",
        " \n",
        "    for i in range (rows):\n",
        "        for j in range(cols):\n",
        "            for k in range(cols):\n",
        "                mat_mul[i][j]+=matA[i][k]*matB[k][j]\n",
        " \n",
        "    print(\"Matrix A \")\n",
        "    print_mat(rows,cols,matA)\n",
        "    \n",
        "    print(\"Matrix B \")\n",
        "    print_mat(rows,cols,matB)\n",
        "    \n",
        "    print(\"Matrix A*B = \")\n",
        "    print_mat(rows,cols,mat_mul)\n",
        "else:\n",
        "    print(\"Matrix multiplication is not possible\")"
      ],
      "execution_count": null,
      "outputs": []
    },
    {
      "cell_type": "markdown",
      "metadata": {
        "id": "jHRqZqBKKIog"
      },
      "source": [
        "# **Exercise-12-Modules**"
      ]
    },
    {
      "cell_type": "markdown",
      "metadata": {
        "id": "7C0z9HHr1hDQ"
      },
      "source": [
        " **AIM:**\n",
        " \n",
        "a) Install packages requests,flask and explore them using(pip)"
      ]
    },
    {
      "cell_type": "markdown",
      "metadata": {
        "id": "vdPZXZzE1hsP"
      },
      "source": [
        " **DESCRIPTION:** \n",
        "Installing the pip Python package manager on Windows\n",
        "If you are on Windows, and your installed Python the current version, you already have pip! If your Python installation is not the most recent, the easiest thing to do is to simply reinstall it. Download the Python Windows installer at https://www.python.org/downloads/.\n",
        " \n",
        "In Windows, the variable that controls which programs are accessible from the command line is path. To modify your path to include Python and pip, we have to add C:\\Python27 and C:\\Python27\\Tools. Edit the Windows path by opening the Windows menu, right-clicking on Computer and clicking on Properties. Under Advanced system settings, click Environment Variables.... Scroll down until you find Path, double-click it, and add ;C:\\Python27;C:\\Python27\\Tools to the end.\n",
        " \n",
        "**Installing packages:**\n",
        " \n",
        "Suppose you want to install a package called requests (which is used to make HTTP requests). You need to issue the following command.\n",
        " \n",
        "pip install requests\n",
        " \n",
        "**show installed packages**\n",
        " \n",
        "You can use the following command to get information about a installed package, i.e Package name, version, location, dependencies.\n",
        " \n",
        "pip show package_name\n",
        " \n",
        "**install flask**\n",
        " \n",
        "On Mac and Linux, because you are installing programs outside the user-owned folders, you might have to prepend sudo to the install commands. To install Flask, simply run this:\n",
        " \n",
        "$ pip install flask\n",
        " \n",
        "**show installed flask**\n",
        " \n",
        "You can use the following command to get information about a installed flask, i.e Package name, version, location, dependencies\n",
        " \n",
        "$ pip show flask"
      ]
    },
    {
      "cell_type": "markdown",
      "metadata": {
        "id": "f8_9tycQxqcq"
      },
      "source": [
        "  **PROGRAM:**"
      ]
    },
    {
      "cell_type": "code",
      "metadata": {
        "id": "l3LFY9qVKQ27"
      },
      "source": [
        " The requests and flask packages are download from internet using the following commands.\n",
        " \n",
        "C:\\python3.9\\scripts>pip install requests\n",
        " \n",
        "C:\\python3.9\\scripts>pip show requests\n",
        " \n",
        "C:\\python3.9\\scripts>pip install flask\n",
        " \n",
        "C:\\python3.9\\scripts>pip show flask"
      ],
      "execution_count": null,
      "outputs": []
    },
    {
      "cell_type": "markdown",
      "metadata": {
        "id": "xJVO2LBY1ieA"
      },
      "source": [
        " **AIM:**\n",
        " \n",
        "b) Write a scripts that imports requests and fetch content from the page.Eg. (Wiki)code:"
      ]
    },
    {
      "cell_type": "markdown",
      "metadata": {
        "id": "5k1yKiL71jOB"
      },
      "source": [
        " **DESCRIPTION:** \n",
        "The Hypertext Transfer Protocol (HTTP) is an application protocol for distributed, collaborative, hypermedia information systems. HTTP is the foundation of data communication for the World Wide Web.\n",
        " \n",
        "**Python requests**\n",
        " \n",
        "Requests is a simple and elegant Python HTTP library. It provides methods for accessing Web resources via HTTP.\n",
        " \n",
        "**Python requests reading a web page**\n",
        " \n",
        "The **get()** method issues a GET request; it fetches documents identified by the given URL."
      ]
    },
    {
      "cell_type": "markdown",
      "metadata": {
        "id": "L7EWAFEvywjn"
      },
      "source": [
        "  **PROGRAM:**"
      ]
    },
    {
      "cell_type": "code",
      "metadata": {
        "id": "LH7HPrFAKYWQ"
      },
      "source": [
        " import requests\n",
        "r=requests.get('https://www.google.com')\n",
        "print(\"status coed:\",r.status_code)\n",
        "print(\"header content:\",r.headers['content-type'])\n",
        "print(r.text)"
      ],
      "execution_count": null,
      "outputs": []
    },
    {
      "cell_type": "markdown",
      "metadata": {
        "id": "BPBbskIW1j9a"
      },
      "source": [
        " **AIM:**\n",
        "\n",
        "c) Write a simple script that serves a simple HTTPResponse and Simple HTML page."
      ]
    },
    {
      "cell_type": "markdown",
      "metadata": {
        "id": "8QKzDf_21k1m"
      },
      "source": [
        " **DESCRIPTION:** \n",
        "  **HTTP Protocol**\n",
        " \n",
        "The most important part of a web server is HTTP protocol.So now we will see what exactly this is –\n",
        " \n",
        "It stands for Hyper Text Transfer Protocol.\n",
        " \n",
        "It is an application layer protocol that allows web based applications to \n",
        "communicate and exchange data.\n",
        " \n",
        "The HTTP is the messenger of web.\n",
        " \n",
        "The computer that communicate via the HTTP must speak the HTTP protocol.\n",
        " \n",
        "It is a TCP/IP based protocol.\n",
        " \n",
        "It is used to deliver contents, for eg. images, audios, videos, documents etc.\n",
        " \n",
        "Using HTTP is the most convenient way to quickly and reliably move data on the web.\n",
        " \n",
        "HTML stands for hypertext markup language. It is the standard markup language for web pages that define the structure of the content. These elements are the building blocks of any website"
      ]
    },
    {
      "cell_type": "markdown",
      "metadata": {
        "id": "MiWpTvHkyxtR"
      },
      "source": [
        "  **PROGRAM:**"
      ]
    },
    {
      "cell_type": "code",
      "metadata": {
        "id": "mO5JLxmzKcSt"
      },
      "source": [
        " from flask import Flask,render_template\n",
        "app=Flask(__name__)\n",
        "print(app)\n",
        "@app.route(\"/\")\n",
        "def main():\n",
        "  return render_template('login.html')\n",
        "  if __name__==\"__main__\":\n",
        "    app.run(host=\"127.0.0.1\",port=2500)"
      ],
      "execution_count": null,
      "outputs": []
    },
    {
      "cell_type": "markdown",
      "metadata": {
        "id": "PikI_WdfKgsZ"
      },
      "source": [
        "## **Exercise-13 OOP**"
      ]
    },
    {
      "cell_type": "markdown",
      "metadata": {
        "id": "3jOuw-PY1mL_"
      },
      "source": [
        " **AIM:**\n",
        "\n",
        "a)class variables and instance variable and illustration of the self -variable\n",
        " \n",
        "**DESCRIPTION:**\n",
        " \n",
        "Variables are named storage location. In python variables are not defined by its type instead it\n",
        "will be automatically determined by the value assigned to it.\n",
        "To determine the type of a variable a function called type () is used.\n",
        " \n",
        "**class variable**is shared by all object instances of a class. ... They are not defined inside any methods of a class. Because a class variable is shared by instances of a class, the Python class owns the variable. As a result, all instances of the class will be able to access that variable\n",
        " \n",
        "**Instance variables** are owned by instances of the class. This means that for each object or instance of a class, the instance variables are different. ... Instance variables, owned by objects of the class, allow for each object or instance to have different values assigned to those variables\n",
        " \n",
        "**self variable** is used to bind the instance of the class to the instance method. We have to explicitly declare it as the first method argument to access the instance variables and methods. This variable is used only with the instance methods.\n",
        " \n",
        "**PROGRAM:**\n",
        " \n",
        "**i)Robot**"
      ]
    },
    {
      "cell_type": "code",
      "metadata": {
        "id": "uJwa7NYaLiDC"
      },
      "source": [
        " class robot_design ():\n",
        "    name=\"chitti\"\n",
        "    speed=\"1ZB\"\n",
        "    memory=\"1TB\"\n",
        "    version=\"1.0\"\n",
        "    def update(self):\n",
        "        print(\"Entet your robot name,speed,memory,version\")\n",
        "        self.name=input()\n",
        "        self.speed=input()\n",
        "        self.memory=input()\n",
        "        self.version=input()\n",
        "    def display(self):\n",
        "        print(\"Your robot name,speed,memory,version is ::\",self.name,self.speed,self.memory,self.version)\n",
        " \n",
        "r=robot_design()\n",
        "r.update()\n",
        "r.display()"
      ],
      "execution_count": null,
      "outputs": []
    },
    {
      "cell_type": "markdown",
      "metadata": {
        "id": "O_-KZYp5ml3v"
      },
      "source": [
        " **ii)ATM machine**"
      ]
    },
    {
      "cell_type": "markdown",
      "metadata": {
        "id": "XyarVDNUy1Dh"
      },
      "source": [
        "  **PROGRAM:**"
      ]
    },
    {
      "cell_type": "code",
      "metadata": {
        "id": "ZOGy_F-2LgvQ"
      },
      "source": [
        " class ATM :\n",
        "    def _init_(self):\n",
        "        self.balance=1000\n",
        "        \n",
        "    def check_balance(self):\n",
        "          print(\"The balance in your account is ::\",self.balance)\n",
        "    def withdraw_balance(self):\n",
        "        print(\"Enter balance to withdraw\")\n",
        "        self._init_()\n",
        "        self.amount=int(input())\n",
        "        if self.amount>self.balance:\n",
        "            print(\"Insuffient amount\")\n",
        "        else:\n",
        "            self.balance-=self.amount\n",
        "            self.check_balance()\n",
        "    def deposite_balance(self):\n",
        "        print(\"Enter balance to deposite\")\n",
        "        self._init_()\n",
        "        self.amount=int(input())\n",
        "        self.balance=self.balance+self.amount\n",
        "        self.check_balance()\n",
        "print(\"Enter     1 for balance checking\\n 2 for balance withdraw\\n 3 for balance deposite\\n\")\n",
        "a=ATM()\n",
        "while (True):\n",
        "    choice=int(input(\"Enter your choice\"))\n",
        "    if choice==1:\n",
        "        a.check_balance()\n",
        "    elif choice==2:\n",
        "        a.withdraw_balance()\n",
        "    elif choice==3:\n",
        "        a.deposite_balance()\n",
        "    else:\n",
        "        print(\"Invalid choice\")\n",
        "        break"
      ],
      "execution_count": null,
      "outputs": []
    },
    {
      "cell_type": "markdown",
      "metadata": {
        "id": "QMoAWirALl6I"
      },
      "source": [
        "# **Exercise - 14 GUI, Graphics**\n",
        " \n",
        "**AIM:**\n",
        "\n",
        "a. Write a GUI for an Expression Calculator using tk"
      ]
    },
    {
      "cell_type": "markdown",
      "metadata": {
        "id": "Zh_7H1xi1sTK"
      },
      "source": [
        " **DESCRIPTION:** \n",
        "Tkinter is a Python package which comes with many functions and methods that can be used to create an application. In order to create a tkinter application, we generally create an instance of tkinter frame, i.e., Tk(). It helps to display the root window and manages all the other components of the tkinter application. We can initialize the tkinter instance by assigning the variable to it."
      ]
    },
    {
      "cell_type": "markdown",
      "metadata": {
        "id": "smUg2AZey2c8"
      },
      "source": [
        "  **PROGRAM:**"
      ]
    },
    {
      "cell_type": "code",
      "metadata": {
        "id": "5eavWqzXL48X"
      },
      "source": [
        " from tkinter import *\n",
        " \n",
        "win = Tk() # to create a basic window\n",
        "win.geometry(\"312x324\")  #for the size of the window \n",
        "win.resizable(0, 0)  # to prevent from resizing the window\n",
        "win.title(\"Calculator\")\n",
        " \n",
        "# 'btn_click' Function continuously updates the \n",
        "# input field whenever you enters a number\n",
        " \n",
        "def btn_click(item):\n",
        "    global expression\n",
        "    expression = expression + str(item)\n",
        "    input_text.set(expression)\n",
        " \n",
        "# 'bt_clear' function : used to clear the input field\n",
        " \n",
        "def bt_clear(): \n",
        "    global expression \n",
        "    expression = \"\"\n",
        "    input_text.set(\"\")\n",
        " \n",
        "# 'bt_equal':calculates the expression present in input field\n",
        " \n",
        "def bt_equal():\n",
        "    global expression\n",
        "    result = str(eval(expression)) # 'eval':This function is used to evaluates the string expression directly\n",
        "    input_text.set(result)\n",
        "    expression = \"\"\n",
        " \n",
        "expression = \"\"\n",
        " \n",
        "# 'StringVar()' :used to get the instance of input field\n",
        " \n",
        "input_text = StringVar()\n",
        " \n",
        "# creating a frame for the input field\n",
        " \n",
        "input_frame = Frame(win, width=312, height=50, bd=0, highlightbackground=\"black\", highlightcolor=\"black\", highlightthickness=2)\n",
        " \n",
        "input_frame.pack(side=TOP)\n",
        " \n",
        "#create a input field inside the 'Frame'\n",
        " \n",
        "input_field = Entry(input_frame, font=('arial', 18, 'bold'), textvariable=input_text, width=50, bg=\"#eee\", bd=0, justify=RIGHT)\n",
        " \n",
        "input_field.grid(row=0, column=0)\n",
        " \n",
        "input_field.pack(ipady=10)\n",
        "# 'ipady' is internal padding to increase the height of input field\n",
        " \n",
        "#creating another 'Frame' for the button below the 'input_frame'\n",
        " \n",
        "btns_frame = Frame(win, width=312, height=272.5, bg=\"grey\")\n",
        " \n",
        "btns_frame.pack()\n",
        " \n",
        "# first row\n",
        " \n",
        "clear = Button(btns_frame, text = \"C\", fg = \"black\", width = 32, height = 3, bd = 0, bg = \"#eee\", cursor = \"hand2\", command = lambda: bt_clear()).grid(row = 0, column = 0, columnspan = 3, padx = 1, pady = 1)\n",
        " \n",
        "divide = Button(btns_frame, text = \"/\", fg = \"black\", width = 10, height = 3, bd = 0, bg = \"#eee\", cursor = \"hand2\", command = lambda: btn_click(\"/\")).grid(row = 0, column = 3, padx = 1, pady = 1)\n",
        " \n",
        "# second row\n",
        " \n",
        "seven = Button(btns_frame, text = \"7\", fg = \"black\", width = 10, height = 3, bd = 0, bg = \"#fff\", cursor = \"hand2\", command = lambda: btn_click(7)).grid(row = 1, column = 0, padx = 1, pady = 1)\n",
        " \n",
        "eight = Button(btns_frame, text = \"8\", fg = \"black\", width = 10, height = 3, bd = 0, bg = \"#fff\", cursor = \"hand2\", command = lambda: btn_click(8)).grid(row = 1, column = 1, padx = 1, pady = 1)\n",
        " \n",
        "nine = Button(btns_frame, text = \"9\", fg = \"black\", width = 10, height = 3, bd = 0, bg = \"#fff\", cursor = \"hand2\", command = lambda: btn_click(9)).grid(row = 1, column = 2, padx = 1, pady = 1)\n",
        " \n",
        "multiply = Button(btns_frame, text = \"\", fg = \"black\", width = 10, height = 3, bd = 0, bg = \"#eee\", cursor = \"hand2\", command = lambda: btn_click(\"\")).grid(row = 1, column = 3, padx = 1, pady = 1)\n",
        " \n",
        "# third row\n",
        " \n",
        "four = Button(btns_frame, text = \"4\", fg = \"black\", width = 10, height = 3, bd = 0, bg = \"#fff\", cursor = \"hand2\", command = lambda: btn_click(4)).grid(row = 2, column = 0, padx = 1, pady = 1)\n",
        " \n",
        "five = Button(btns_frame, text = \"5\", fg = \"black\", width = 10, height = 3, bd = 0, bg = \"#fff\", cursor = \"hand2\", command = lambda: btn_click(5)).grid(row = 2, column = 1, padx = 1, pady = 1)\n",
        " \n",
        "six = Button(btns_frame, text = \"6\", fg = \"black\", width = 10, height = 3, bd = 0, bg = \"#fff\", cursor = \"hand2\", command = lambda: btn_click(6)).grid(row = 2, column = 2, padx = 1, pady = 1)\n",
        " \n",
        "minus = Button(btns_frame, text = \"-\", fg = \"black\", width = 10, height = 3, bd = 0, bg = \"#eee\", cursor = \"hand2\", command = lambda: btn_click(\"-\")).grid(row = 2, column = 3, padx = 1, pady = 1)\n",
        " \n",
        "# fourth row\n",
        " \n",
        "one = Button(btns_frame, text = \"1\", fg = \"black\", width = 10, height = 3, bd = 0, bg = \"#fff\", cursor = \"hand2\", command = lambda: btn_click(1)).grid(row = 3, column = 0, padx = 1, pady = 1)\n",
        " \n",
        "two = Button(btns_frame, text = \"2\", fg = \"black\", width = 10, height = 3, bd = 0, bg = \"#fff\", cursor = \"hand2\", command = lambda: btn_click(2)).grid(row = 3, column = 1, padx = 1, pady = 1)\n",
        " \n",
        "three = Button(btns_frame, text = \"3\", fg = \"black\", width = 10, height = 3, bd = 0, bg = \"#fff\", cursor = \"hand2\", command = lambda: btn_click(3)).grid(row = 3, column = 2, padx = 1, pady = 1)\n",
        " \n",
        "plus = Button(btns_frame, text = \"+\", fg = \"black\", width = 10, height = 3, bd = 0, bg = \"#eee\", cursor = \"hand2\", command = lambda: btn_click(\"+\")).grid(row = 3, column = 3, padx = 1, pady = 1)\n",
        " \n",
        "# fifth row\n",
        " \n",
        "zero = Button(btns_frame, text = \"0\", fg = \"black\", width = 21, height = 3, bd = 0, bg = \"#fff\", cursor = \"hand2\", command = lambda: btn_click(0)).grid(row = 4, column = 0, columnspan = 2, padx = 1, pady = 1)\n",
        " \n",
        "point = Button(btns_frame, text = \".\", fg = \"black\", width = 10, height = 3, bd = 0, bg = \"#eee\", cursor = \"hand2\", command = lambda: btn_click(\".\")).grid(row = 4, column = 2, padx = 1, pady = 1)\n",
        " \n",
        "equals = Button(btns_frame, text = \"=\", fg = \"black\", width = 10, height = 3, bd = 0, bg = \"#eee\", cursor = \"hand2\", command = lambda: bt_equal()).grid(row = 4, column = 3, padx = 1, pady = 1)\n",
        " \n",
        "win.mainloop()"
      ],
      "execution_count": null,
      "outputs": []
    },
    {
      "cell_type": "markdown",
      "metadata": {
        "id": "qS5tiX9snbTX"
      },
      "source": [
        "**AIM:**\n",
        "\n",
        " b. Write a program to implement the following figures using turtle"
      ]
    },
    {
      "cell_type": "markdown",
      "metadata": {
        "id": "EgFLGfk2nqIH"
      },
      "source": [
        " **DESCRIPTION:** \n",
        "The turtle module is an extended reimplementation of the same-named module from the Python standard distribution up to version Python 2.5.\n",
        " \n",
        "It tries to keep the merits of the old turtle module and to be (nearly) 100% compatible with it. This means in the first place to enable the learning programmer to use all the commands, classes and methods interactively when using the module from within IDLE run with the -n switch.\n",
        " \n",
        "The turtle module provides turtle graphics primitives, in both object-oriented and procedure-oriented ways. Because it uses tkinter for the underlying graphics, it needs a version of Python installed with Tk support."
      ]
    },
    {
      "cell_type": "code",
      "metadata": {
        "id": "-9Lxy-BaMfvd"
      },
      "source": [
        " import turtle\n",
        "c=[\"red\",\"green\",\"blue\"]\n",
        "i=0\n",
        "turtle.pensize(5)\n",
        " \n",
        "for angle in range(0,360,30):\n",
        "    if i>2:\n",
        "        i=0\n",
        "    turtle.color(c[i])\n",
        "    turtle.seth(angle)\n",
        "    turtle.circle(50)\n",
        "    i+=1"
      ],
      "execution_count": null,
      "outputs": []
    },
    {
      "cell_type": "code",
      "metadata": {
        "id": "BzMYAbOqMpFr"
      },
      "source": [
        " import turtle\n",
        "turtle.pensize(1)\n",
        " \n",
        "for i in range(36):\n",
        "    for j in range(4):\n",
        "        turtle.forward(70)\n",
        "        turtle.left(90)\n",
        "    turtle.left(10)"
      ],
      "execution_count": null,
      "outputs": []
    },
    {
      "cell_type": "markdown",
      "metadata": {
        "id": "4H16-KxgMsp8"
      },
      "source": [
        " # **Exercise - 15 - Testing**\n",
        " \n",
        "**AIM**\n",
        "\n",
        "\n",
        "a) Write a test-case to check the function even numbers which return True on passing a list of all even numbers"
      ]
    },
    {
      "cell_type": "markdown",
      "metadata": {
        "id": "cI-JseeM1wiK"
      },
      "source": [
        " **DESCRIPTION:** \n",
        "TestCase is used to create test cases by subclassing it. The last block of the code at the bottom allows us to run all the tests just by running the file. Basic terms used in the code : assertEqual() – This statement is used to check if the result obtained is equal to the expected result\n",
        " \n",
        "**test case:**\n",
        " \n",
        "A test case is a set of conditions which is used to determine whether a system under test works correctly."
      ]
    },
    {
      "cell_type": "markdown",
      "metadata": {
        "id": "60N3DiSly7hG"
      },
      "source": [
        "  **PROGRAM:**"
      ]
    },
    {
      "cell_type": "code",
      "metadata": {
        "id": "nuMOUWluMxfB"
      },
      "source": [
        " def even(num):\n",
        "  st= True\n",
        "  for i in num:\n",
        "    if i%2==0:\n",
        "      st=False\n",
        "      break\n",
        "  return st\n",
        "numbers=[]\n",
        "print(\"enter the five nums:\")\n",
        "for i in range(0,5):\n",
        "  numbers.append(int(input(\"enter a value:\")))\n",
        "print(even(numbers))"
      ],
      "execution_count": null,
      "outputs": []
    },
    {
      "cell_type": "markdown",
      "metadata": {
        "id": "3TUY_mca1xlw"
      },
      "source": [
        " **AIM:**\n",
        "\n",
        "b) Write a test-case to check the function reverse string which returns the reversed string**"
      ]
    },
    {
      "cell_type": "markdown",
      "metadata": {
        "id": "HPVpTbdC1ys8"
      },
      "source": [
        " **DESCRIPTION:** \n",
        "Python string library does’nt support the in-built “reverse()” as done by other python containers like list, hence knowing other methods to reverse string can prove to be useful. This article discusses several ways to achieve it.\n",
        " \n",
        "The reversed() returns the reversed iterator of the given string and then its elements are joined empty string separated using join(). And reversed order string is formed."
      ]
    },
    {
      "cell_type": "markdown",
      "metadata": {
        "id": "2IhkE4LSy9Th"
      },
      "source": [
        "  **PROGRAM:**"
      ]
    },
    {
      "cell_type": "code",
      "metadata": {
        "colab": {
          "base_uri": "https://localhost:8080/"
        },
        "id": "uMmjtHvaNLjV",
        "outputId": "c3d8ac5d-1af8-4185-eac7-a8dc9b88bf3e"
      },
      "source": [
        " def revs(str):\n",
        "  return str[::-1]\n",
        "st=\"praveen\"\n",
        "print(\"given string is:\",st)\n",
        "print(revs(st))"
      ],
      "execution_count": null,
      "outputs": [
        {
          "output_type": "stream",
          "text": [
            "given string is: praveen\n",
            "neevarp\n"
          ],
          "name": "stdout"
        }
      ]
    },
    {
      "cell_type": "markdown",
      "metadata": {
        "id": "WUJc6ujHNloC"
      },
      "source": [
        " # **Exercise - 16 - Advanced** \n",
        "\n",
        "**AIM:**\n",
        " \n",
        "A) BUILD ANY ONE CLASSICAL DATA STRUCTURE."
      ]
    },
    {
      "cell_type": "markdown",
      "metadata": {
        "id": "uxUBX3vZ14X5"
      },
      "source": [
        " **DESCRIPTION:** \n",
        "**What is a Data Structure?** \n",
        " \n",
        "Organizing, managing and storing data is important as it enables easier access and efficient modifications. Data Structures allows you to organize your data in such a way that enables you to store collections of data, relate them and perform operations on them accordingly. \n",
        " \n",
        "**Stack**\n",
        "Stacks are linear Data Structures which are based on the principle of Last-In-First-Out (LIFO) where data which is entered last will be the first to get accessed. It is built using the array structure and has operations namely, pushing (adding) elements, popping (deleting) elements and accessing elements only from one point in the stack called as the TOP. This TOP is the pointer to the current position of the stack. Stacks are prominently used in applications such as Recursive Programming, reversing words, undo mechanisms in word editors and so forth."
      ]
    },
    {
      "cell_type": "markdown",
      "metadata": {
        "id": "D3Aojuwky-um"
      },
      "source": [
        "  **PROGRAM:**"
      ]
    },
    {
      "cell_type": "code",
      "metadata": {
        "id": "hOPvh9NRNtPY"
      },
      "source": [
        " import sys\n",
        "a=[]\n",
        " \n",
        "while True:\n",
        "  print (\"\\nl.PUSH 2.POP 3.DISPLAY 4.EXIT\")\n",
        "  ch=int(input(\"Enter Your Choice: \"))\n",
        "  if ch==1:\n",
        "   ele=int(input(\"Enter element: \"))\n",
        "   a.append(ele)\n",
        "   print(\"Inserted\")\n",
        "  elif ch==2:\n",
        "   if len(a)==0:\n",
        "     print (\"\\t STACK IS EMPTY\")\n",
        "   else:\n",
        "     print (\"Deleted element is: \",a[len(a)-1])\n",
        "     a.remove(a[len(a)-1])\n",
        "  elif ch==3:\n",
        "   if len(a)==0:\n",
        "     print (\"\\t STACK IS EMPTY\")\n",
        "   else:\n",
        "    print (\"The Elements in Stack is: \")\n",
        "    for i in reversed(a):\n",
        "       print(i)\n",
        "  elif ch==4:\n",
        "    sys.exit()\n",
        "  else:\n",
        "   print (\"\\tINVALID CHOICE\")"
      ],
      "execution_count": null,
      "outputs": []
    },
    {
      "cell_type": "markdown",
      "metadata": {
        "id": "i-B0eCML15Zx"
      },
      "source": [
        " **AIM:**\n",
        " \n",
        "b) Write a program to solve knapsack problem"
      ]
    },
    {
      "cell_type": "markdown",
      "metadata": {
        "id": "5mUYsbiA16BW"
      },
      "source": [
        " **DESCRIPTION:** \n",
        "Python Program for 0-1 Knapsack Problem\n",
        " \n",
        "Problem statement − We are given weights and values of n items, we need to put these items in a bag of capacity W up to the maximum capacity w. We need to carry a maximum number of items and return its value.\n",
        " \n",
        " Brute-force approach.\n",
        " \n",
        "dynamic approach."
      ]
    },
    {
      "cell_type": "markdown",
      "metadata": {
        "id": "IoiUFxUUzALH"
      },
      "source": [
        "  **PROGRAM:**"
      ]
    },
    {
      "cell_type": "code",
      "metadata": {
        "id": "24u43ehdNy1A"
      },
      "source": [
        " def knapSack(W, wt, val, n):\n",
        "   K= [[0 for x in range(W+1)] for x in range(n+1)]\n",
        "   for i in range(n+1):\n",
        "     for w in range(W+1):\n",
        "       if i==0 or w==0:\n",
        "          K[i][w] = 0\n",
        "       elif wt[i-1]<=w:\n",
        "          K[i][w]= max(val[i-1]+K[i-1][w-wt[i-1]],K[i-1][w])\n",
        "       else:\n",
        "          K[i][w] = K[i-1][w]\n",
        "   return K[n][W]\n",
        "val = [5, 3, 4]\n",
        "wt = [3, 2, 1]\n",
        "W = 5\n",
        "n= len(val)\n",
        "print(\"Maximum value knapsack of capacity W: \", knapSack(W, wt,val,n))"
      ],
      "execution_count": null,
      "outputs": []
    },
    {
      "cell_type": "markdown",
      "metadata": {
        "id": "1b_C7WrpN6nz"
      },
      "source": [
        " # **Exercise - 17&18–Data Analysis**\n",
        " \n",
        " \n",
        "**AIM:**\n",
        " \n",
        " \n",
        "1. Data analysis or manipulation using the following packages                                                                        \n",
        "a) Numpy b) Pandas\n",
        " a) Scipy b) matplotlib"
      ]
    },
    {
      "cell_type": "markdown",
      "metadata": {
        "id": "dnJgoYst18fq"
      },
      "source": [
        " **DESCRIPTION:** \n",
        "Learn how to analyze data using Python. ... It includes following parts: Data Analysis libraries: will learn to use Pandas, Numpy and Scipy libraries to work with a sample dataset. We will introduce you to pandas, an open-source library, and we will use it to load, manipulate, analyze, and visualize cool datasets.\n",
        " \n",
        "**SciPy** is a free and open-source Python library used for scientific computing and technical computing. It is a collection of mathematical algorithms and convenience functions built on the NumPy extension of Python\n",
        " \n",
        "**NumPy** is the fundamental package for scientific computing in Python. ... NumPy arrays facilitate advanced mathematical and other types of operations on large numbers of data.\n",
        " \n",
        "**Matplotlib** is a plotting library for the Python programming language and its numerical mathematics extension NumPy. It provides an object-oriented API for embedding plots into applications using general-purpose GUI toolkits like Tkinter, wxPython, Qt, or GTK\n",
        " \n",
        "**Pandas** is an open source Python package that is most widely used for data science/data analysis and machine learning tasks. It is built on top of another package named Numpy, which provides support for multi-dimensional arrays.\n",
        " \n",
        "**Scikit-learn** is probably the most useful library for machine learning in Python. The sklearn library contains a lot of efficient tools for machine learning and statistical modeling including classification, regression, clustering and dimensionality reduction.\n",
        " \n",
        "**Seaborn** is a library in Python predominantly used for making statistical graphics. Seaborn is a data visualization library built on top of matplotlib and closely integrated with pandas data structures in Python"
      ]
    },
    {
      "cell_type": "markdown",
      "metadata": {
        "id": "T0VxyH0yzBc3"
      },
      "source": [
        "  **PROGRAM:**"
      ]
    },
    {
      "cell_type": "code",
      "metadata": {
        "id": "8uMFmGvFOVZs"
      },
      "source": [
        " #Python version\n",
        "import sys\n",
        "print('Python: {}'.format(sys.version))\n",
        " \n",
        "#scipy\n",
        "import scipy\n",
        "print('scipy: {}'.format(scipy.__version__))\n",
        " \n",
        "# numpy\n",
        "import numpy\n",
        "print( 'numpy: {}'.format(numpy.__version__))\n",
        " \n",
        "# matplotlib\n",
        "import matplotlib\n",
        "print('matplotlib: {}'.format(matplotlib.__version__))\n",
        " \n",
        "# pandas\n",
        "import pandas\n",
        "print('pandas: {}'.format(pandas.__version__))\n",
        " \n",
        "#scikit-learn\n",
        "import sklearn\n",
        "print('sklearn: {}'.format(sklearn.__version__))\n",
        "import seaborn\n",
        "print('seaborn: {}'.format(seaborn.__version__))\n",
        "import urllib\n",
        "print('urlib: {}'.format(urllib.__name__))\n",
        "import csv\n",
        "print('csv: {}'.format(csv.__version__))"
      ],
      "execution_count": null,
      "outputs": []
    },
    {
      "cell_type": "markdown",
      "metadata": {
        "id": "moagBbWfmooi"
      },
      "source": [
        " # **NumPy**"
      ]
    },
    {
      "cell_type": "code",
      "metadata": {
        "id": "N8QJfzGumxaD",
        "colab": {
          "base_uri": "https://localhost:8080/"
        },
        "outputId": "75b013cd-3627-41b2-e9a7-1fe50a30d9f6"
      },
      "source": [
        " import numpy as np\n",
        "a=np.array([0,1,2])\n",
        "print(type(a))\n",
        "print(a.shape)\n",
        "print(a[0])\n",
        "print(a[1])\n",
        "print(a[2])\n",
        "a[0]=5\n",
        "print(a)"
      ],
      "execution_count": null,
      "outputs": [
        {
          "output_type": "stream",
          "name": "stdout",
          "text": [
            "<class 'numpy.ndarray'>\n",
            "(3,)\n",
            "0\n",
            "1\n",
            "2\n",
            "[5 1 2]\n"
          ]
        }
      ]
    },
    {
      "cell_type": "code",
      "metadata": {
        "colab": {
          "base_uri": "https://localhost:8080/"
        },
        "id": "v3miW8R3nTMv",
        "outputId": "623ad5db-c029-4877-a0d7-1a424dae0556"
      },
      "source": [
        " import numpy as np\n",
        "b=np.array([[0,1,2],[3,4,5]])\n",
        "print(b.shape)\n",
        "print(b)\n",
        "print(b[0,0],b[0,1],b[1,0])"
      ],
      "execution_count": null,
      "outputs": [
        {
          "output_type": "stream",
          "name": "stdout",
          "text": [
            "(2, 3)\n",
            "[[0 1 2]\n",
            " [3 4 5]]\n",
            "0 1 3\n"
          ]
        }
      ]
    },
    {
      "cell_type": "code",
      "metadata": {
        "colab": {
          "base_uri": "https://localhost:8080/"
        },
        "id": "Kp4AWZjPnYwc",
        "outputId": "7682c836-d4a4-470e-e6d8-72e02ec4b2aa"
      },
      "source": [
        " \n",
        "import numpy as np\n",
        "a=np.zeros((3,3))\n",
        "print(a)"
      ],
      "execution_count": null,
      "outputs": [
        {
          "output_type": "stream",
          "name": "stdout",
          "text": [
            "[[0. 0. 0.]\n",
            " [0. 0. 0.]\n",
            " [0. 0. 0.]]\n"
          ]
        }
      ]
    },
    {
      "cell_type": "code",
      "metadata": {
        "colab": {
          "base_uri": "https://localhost:8080/"
        },
        "id": "LO6H8bSAnjBb",
        "outputId": "7292552e-5e89-4998-b881-3cc14fa44c4d"
      },
      "source": [
        " \n",
        "import numpy as np\n",
        "b=np.ones((2,2))\n",
        "print(b)"
      ],
      "execution_count": null,
      "outputs": [
        {
          "output_type": "stream",
          "name": "stdout",
          "text": [
            "[[1. 1.]\n",
            " [1. 1.]]\n"
          ]
        }
      ]
    },
    {
      "cell_type": "code",
      "metadata": {
        "colab": {
          "base_uri": "https://localhost:8080/"
        },
        "id": "yI-6zq1JnruS",
        "outputId": "2e2da011-b053-498b-ef9a-f1bf4d1e6074"
      },
      "source": [
        " import numpy as np\n",
        "c=np.full((3,3),7)\n",
        "print(c)"
      ],
      "execution_count": null,
      "outputs": [
        {
          "output_type": "stream",
          "name": "stdout",
          "text": [
            "[[7 7 7]\n",
            " [7 7 7]\n",
            " [7 7 7]]\n"
          ]
        }
      ]
    },
    {
      "cell_type": "code",
      "metadata": {
        "colab": {
          "base_uri": "https://localhost:8080/"
        },
        "id": "gLF2QkGXnwU6",
        "outputId": "ccc4ad5f-1abc-4c44-a0e9-c843b78fde5a"
      },
      "source": [
        " \n",
        "import numpy as np\n",
        "d=np.random.random((3,3))\n",
        "print(d)"
      ],
      "execution_count": null,
      "outputs": [
        {
          "output_type": "stream",
          "name": "stdout",
          "text": [
            "[[0.20373017 0.66339128 0.721961  ]\n",
            " [0.7762087  0.7205443  0.86526494]\n",
            " [0.49854561 0.61055652 0.50342492]]\n"
          ]
        }
      ]
    },
    {
      "cell_type": "code",
      "metadata": {
        "colab": {
          "base_uri": "https://localhost:8080/"
        },
        "id": "s-2rrplMn1jO",
        "outputId": "e471f96b-3a19-402c-de05-8f5c5bf65b2e"
      },
      "source": [
        " \n",
        "import numpy as np\n",
        "f=np.array([2,3,1,0])\n",
        "print(f)"
      ],
      "execution_count": null,
      "outputs": [
        {
          "output_type": "stream",
          "name": "stdout",
          "text": [
            "[2 3 1 0]\n"
          ]
        }
      ]
    },
    {
      "cell_type": "code",
      "metadata": {
        "colab": {
          "base_uri": "https://localhost:8080/"
        },
        "id": "artRGNVwn4Mk",
        "outputId": "7f8c419f-b550-4600-ac10-a9846f448fee"
      },
      "source": [
        " \n",
        "import numpy as np\n",
        "g=np.arange(2,10)\n",
        "print(g)"
      ],
      "execution_count": null,
      "outputs": [
        {
          "output_type": "stream",
          "name": "stdout",
          "text": [
            "[2 3 4 5 6 7 8 9]\n"
          ]
        }
      ]
    },
    {
      "cell_type": "code",
      "metadata": {
        "colab": {
          "base_uri": "https://localhost:8080/"
        },
        "id": "NaMY11RboHbq",
        "outputId": "757400cd-201c-4328-e5c6-956d31895e02"
      },
      "source": [
        " import numpy as np\n",
        "d=np.random.random((3,3))\n",
        "print(d)"
      ],
      "execution_count": null,
      "outputs": [
        {
          "output_type": "stream",
          "name": "stdout",
          "text": [
            "[[0.89630919 0.06615204 0.59440525]\n",
            " [0.7111864  0.78977187 0.5561998 ]\n",
            " [0.38165445 0.38818352 0.39227866]]\n"
          ]
        }
      ]
    },
    {
      "cell_type": "code",
      "metadata": {
        "colab": {
          "base_uri": "https://localhost:8080/"
        },
        "id": "Pt-uY4sYoToI",
        "outputId": "b7b1a8dd-1e23-4983-e892-1d86dac4e3f5"
      },
      "source": [
        " import numpy as np\n",
        "e=np.eye(3)\n",
        "print(e)"
      ],
      "execution_count": null,
      "outputs": [
        {
          "output_type": "stream",
          "name": "stdout",
          "text": [
            "[[1. 0. 0.]\n",
            " [0. 1. 0.]\n",
            " [0. 0. 1.]]\n"
          ]
        }
      ]
    },
    {
      "cell_type": "code",
      "metadata": {
        "colab": {
          "base_uri": "https://localhost:8080/"
        },
        "id": "MqoTVMCsoWr7",
        "outputId": "faba98ee-b218-4705-a40c-7ae0498ac690"
      },
      "source": [
        " import numpy as np\n",
        "f=np.array([2,3,1,0])\n",
        "print(f)"
      ],
      "execution_count": null,
      "outputs": [
        {
          "output_type": "stream",
          "name": "stdout",
          "text": [
            "[2 3 1 0]\n"
          ]
        }
      ]
    },
    {
      "cell_type": "code",
      "metadata": {
        "colab": {
          "base_uri": "https://localhost:8080/"
        },
        "id": "nqdMupWFoZip",
        "outputId": "9864b19b-f48f-4a4e-bcf4-77afa10a9c8c"
      },
      "source": [
        " import numpy as np\n",
        "g=np.arange(2,10)\n",
        "print(g)"
      ],
      "execution_count": null,
      "outputs": [
        {
          "output_type": "stream",
          "name": "stdout",
          "text": [
            "[2 3 4 5 6 7 8 9]\n"
          ]
        }
      ]
    },
    {
      "cell_type": "code",
      "metadata": {
        "colab": {
          "base_uri": "https://localhost:8080/"
        },
        "id": "g-XTykkcodRt",
        "outputId": "09087bda-b5fc-42f2-8eb5-5bca8b13b84b"
      },
      "source": [
        " import numpy as np\n",
        "h=np.array([[0,1,2.0],[0,0,0],(1+1j,3.,2.)])\n",
        "print(h)"
      ],
      "execution_count": null,
      "outputs": [
        {
          "output_type": "stream",
          "name": "stdout",
          "text": [
            "[[0.+0.j 1.+0.j 2.+0.j]\n",
            " [0.+0.j 0.+0.j 0.+0.j]\n",
            " [1.+1.j 3.+0.j 2.+0.j]]\n"
          ]
        }
      ]
    },
    {
      "cell_type": "code",
      "metadata": {
        "colab": {
          "base_uri": "https://localhost:8080/"
        },
        "id": "xwe5Hce3oggY",
        "outputId": "96d422d6-74df-4306-c2dd-067830729863"
      },
      "source": [
        " import numpy as np\n",
        "i=np.arange(1,8,dtype=np.float)\n",
        "print(i)"
      ],
      "execution_count": null,
      "outputs": [
        {
          "output_type": "stream",
          "name": "stdout",
          "text": [
            "[1. 2. 3. 4. 5. 6. 7.]\n"
          ]
        }
      ]
    },
    {
      "cell_type": "code",
      "metadata": {
        "colab": {
          "base_uri": "https://localhost:8080/"
        },
        "id": "ANKI3GMiojSO",
        "outputId": "fba51be1-3b56-42a6-eef1-e153b38d2aa8"
      },
      "source": [
        " import numpy as np\n",
        "j=np.linspace(2.,4., 5)\n",
        "print(j)"
      ],
      "execution_count": null,
      "outputs": [
        {
          "output_type": "stream",
          "name": "stdout",
          "text": [
            "[2.  2.5 3.  3.5 4. ]\n"
          ]
        }
      ]
    },
    {
      "cell_type": "code",
      "metadata": {
        "id": "o5qcAjRLomDt",
        "colab": {
          "base_uri": "https://localhost:8080/"
        },
        "outputId": "9a9f7738-c0f9-46fc-d20b-564cc03efb43"
      },
      "source": [
        " import numpy as np\n",
        "k=np.indices((3,3))\n",
        "print(k)"
      ],
      "execution_count": null,
      "outputs": [
        {
          "output_type": "stream",
          "name": "stdout",
          "text": [
            "[[[0 0 0]\n",
            "  [1 1 1]\n",
            "  [2 2 2]]\n",
            "\n",
            " [[0 1 2]\n",
            "  [0 1 2]\n",
            "  [0 1 2]]]\n"
          ]
        }
      ]
    },
    {
      "cell_type": "code",
      "metadata": {
        "id": "rIeV5BRVopQ_",
        "colab": {
          "base_uri": "https://localhost:8080/"
        },
        "outputId": "4709b5c8-df8f-46f0-95dd-c5767c2ad046"
      },
      "source": [
        " import numpy as np\n",
        "x=np.array([0,1])\n",
        "y=np.array([2.0,3.0])\n",
        "z=np.array([5,6], dtype=np.int64)\n",
        "print(x.dtype,y.dtype,z.dtype)"
      ],
      "execution_count": null,
      "outputs": [
        {
          "output_type": "stream",
          "name": "stdout",
          "text": [
            "int64 float64 int64\n"
          ]
        }
      ]
    },
    {
      "cell_type": "code",
      "metadata": {
        "colab": {
          "base_uri": "https://localhost:8080/"
        },
        "id": "s460njzKpGwR",
        "outputId": "d9da0e70-8a52-4f7a-c838-60fa703653c9"
      },
      "source": [
        " import numpy as np\n",
        "x=np.array([5,6,7,8,9])\n",
        "print(x[1:7:2])\n",
        "print(x[-2:5])\n",
        "print(x[-1:1:-1])"
      ],
      "execution_count": null,
      "outputs": [
        {
          "output_type": "stream",
          "name": "stdout",
          "text": [
            "[6 8]\n",
            "[8 9]\n",
            "[9 8 7]\n"
          ]
        }
      ]
    },
    {
      "cell_type": "code",
      "metadata": {
        "id": "S8bNaPUUoss1",
        "colab": {
          "base_uri": "https://localhost:8080/"
        },
        "outputId": "20422836-a557-4d08-cceb-9958b4a27981"
      },
      "source": [
        " import numpy as np\n",
        "a=np.array([[1,2],[3,4],[5,6]])\n",
        "print(a>2)\n",
        "print(a[a>2])"
      ],
      "execution_count": null,
      "outputs": [
        {
          "output_type": "stream",
          "name": "stdout",
          "text": [
            "[[False False]\n",
            " [ True  True]\n",
            " [ True  True]]\n",
            "[3 4 5 6]\n"
          ]
        }
      ]
    },
    {
      "cell_type": "code",
      "metadata": {
        "colab": {
          "base_uri": "https://localhost:8080/"
        },
        "id": "WZaWIH2QpRK1",
        "outputId": "e12cc8ed-3422-4749-ece9-ac920c2027b3"
      },
      "source": [
        " import numpy as np\n",
        "x=np.array([[1,2],[3,4],[5,6]])\n",
        "y=np.array([[7,8],[9,10],[11,12]])\n",
        "print(x+y)\n",
        "print(np.add(x,y))\n",
        "print(x-y)\n",
        "print(np.subtract(x,y))"
      ],
      "execution_count": null,
      "outputs": [
        {
          "output_type": "stream",
          "name": "stdout",
          "text": [
            "[[ 8 10]\n",
            " [12 14]\n",
            " [16 18]]\n",
            "[[ 8 10]\n",
            " [12 14]\n",
            " [16 18]]\n",
            "[[-6 -6]\n",
            " [-6 -6]\n",
            " [-6 -6]]\n",
            "[[-6 -6]\n",
            " [-6 -6]\n",
            " [-6 -6]]\n"
          ]
        }
      ]
    },
    {
      "cell_type": "code",
      "metadata": {
        "colab": {
          "base_uri": "https://localhost:8080/"
        },
        "id": "x-KUPV9FpVTO",
        "outputId": "cd972fd8-d299-4cfc-9f16-8f1812bdc2bb"
      },
      "source": [
        " import numpy as np\n",
        "x=np.array([[1,2],[3,4],[5,6]])\n",
        "y=np.array([[7,8],[9,10],[11,12]])\n",
        "print(np.multiply(x,y))\n",
        "print(x*y)"
      ],
      "execution_count": null,
      "outputs": [
        {
          "output_type": "stream",
          "name": "stdout",
          "text": [
            "[[ 7 16]\n",
            " [27 40]\n",
            " [55 72]]\n",
            "[[ 7 16]\n",
            " [27 40]\n",
            " [55 72]]\n"
          ]
        }
      ]
    },
    {
      "cell_type": "code",
      "metadata": {
        "colab": {
          "base_uri": "https://localhost:8080/"
        },
        "id": "an2FweN2pYZ3",
        "outputId": "5589cc08-f341-4667-b0db-24bdff144720"
      },
      "source": [
        " import numpy as np\n",
        "x=np.array([[1,2],[3,4],[5,6]])\n",
        "y=np.array([[7,8],[9,10],[11,12]])\n",
        "print(np.divide(x,y))\n",
        "print(x/y)"
      ],
      "execution_count": null,
      "outputs": [
        {
          "output_type": "stream",
          "name": "stdout",
          "text": [
            "[[0.14285714 0.25      ]\n",
            " [0.33333333 0.4       ]\n",
            " [0.45454545 0.5       ]]\n",
            "[[0.14285714 0.25      ]\n",
            " [0.33333333 0.4       ]\n",
            " [0.45454545 0.5       ]]\n"
          ]
        }
      ]
    },
    {
      "cell_type": "code",
      "metadata": {
        "colab": {
          "base_uri": "https://localhost:8080/"
        },
        "id": "uDgPOiw8pbD7",
        "outputId": "1cd654e9-00b7-4135-d544-0cd9eaffde88"
      },
      "source": [
        " import numpy as np\n",
        "x=np.array([[1,2],[3,4],[5,6]])\n",
        "print(np.sqrt(x))"
      ],
      "execution_count": null,
      "outputs": [
        {
          "output_type": "stream",
          "name": "stdout",
          "text": [
            "[[1.         1.41421356]\n",
            " [1.73205081 2.        ]\n",
            " [2.23606798 2.44948974]]\n"
          ]
        }
      ]
    },
    {
      "cell_type": "code",
      "metadata": {
        "colab": {
          "base_uri": "https://localhost:8080/"
        },
        "id": "hGMO-apipd3z",
        "outputId": "b6b25e50-fc39-4728-e1ee-501af7a8b9a4"
      },
      "source": [
        " import numpy as np\n",
        "a=np.array([9,10])\n",
        "b=np.array([11,12])\n",
        "print(a.dot(b))\n",
        "print(np.dot(a,b))"
      ],
      "execution_count": null,
      "outputs": [
        {
          "output_type": "stream",
          "name": "stdout",
          "text": [
            "219\n",
            "219\n"
          ]
        }
      ]
    },
    {
      "cell_type": "code",
      "metadata": {
        "colab": {
          "base_uri": "https://localhost:8080/"
        },
        "id": "NbEt55hFpgki",
        "outputId": "46fb0d35-ff2e-43b0-a05a-2faf58f047cc"
      },
      "source": [
        " import numpy as np\n",
        "a=np.array([9,10])\n",
        "x=np.array([[1,2],[3,4]])\n",
        "print(x.dot(a))\n",
        "print(np.dot(x,a))"
      ],
      "execution_count": null,
      "outputs": [
        {
          "output_type": "stream",
          "name": "stdout",
          "text": [
            "[29 67]\n",
            "[29 67]\n"
          ]
        }
      ]
    },
    {
      "cell_type": "code",
      "metadata": {
        "colab": {
          "base_uri": "https://localhost:8080/"
        },
        "id": "EE9g2ErzpjTr",
        "outputId": "8a77d920-5d4f-40f1-9c4a-1e26876bc31f"
      },
      "source": [
        " import numpy as np\n",
        "x=np.array([[1,2],[3,4]])\n",
        "y=np.array([[5,6],[7,8]])\n",
        "print(x.dot(y))\n",
        "print(np.dot(x,y))"
      ],
      "execution_count": null,
      "outputs": [
        {
          "output_type": "stream",
          "name": "stdout",
          "text": [
            "[[19 22]\n",
            " [43 50]]\n",
            "[[19 22]\n",
            " [43 50]]\n"
          ]
        }
      ]
    },
    {
      "cell_type": "code",
      "metadata": {
        "colab": {
          "base_uri": "https://localhost:8080/"
        },
        "id": "9emPMKSypmkp",
        "outputId": "1390f0bd-4a21-4354-a296-715d43a59b4c"
      },
      "source": [
        " import numpy as np\n",
        "x=np.array([[1,2],[3,4]])\n",
        "print(np.sum(x))\n",
        "print(np.sum(x,axis=0))\n",
        "print(np.sum(x,axis=1))"
      ],
      "execution_count": null,
      "outputs": [
        {
          "output_type": "stream",
          "name": "stdout",
          "text": [
            "10\n",
            "[4 6]\n",
            "[3 7]\n"
          ]
        }
      ]
    },
    {
      "cell_type": "code",
      "metadata": {
        "colab": {
          "base_uri": "https://localhost:8080/"
        },
        "id": "Ha_BUUA_ppos",
        "outputId": "597eea59-ec4b-425a-a134-c76218e09826"
      },
      "source": [
        " import numpy as np\n",
        "x=np.array([[1,2],[3,4]])\n",
        "print(x)\n",
        "print(x.T)"
      ],
      "execution_count": null,
      "outputs": [
        {
          "output_type": "stream",
          "name": "stdout",
          "text": [
            "[[1 2]\n",
            " [3 4]]\n",
            "[[1 3]\n",
            " [2 4]]\n"
          ]
        }
      ]
    },
    {
      "cell_type": "code",
      "metadata": {
        "colab": {
          "base_uri": "https://localhost:8080/"
        },
        "id": "EFSXWeVGpsEr",
        "outputId": "0fa45ed8-9878-4356-d7cc-8c3edd690efe"
      },
      "source": [
        " import numpy as np\n",
        "v=np.array([1,2,3])\n",
        "print(v)\n",
        "print(v.T)"
      ],
      "execution_count": null,
      "outputs": [
        {
          "output_type": "stream",
          "name": "stdout",
          "text": [
            "[1 2 3]\n",
            "[1 2 3]\n"
          ]
        }
      ]
    },
    {
      "cell_type": "code",
      "metadata": {
        "colab": {
          "base_uri": "https://localhost:8080/"
        },
        "id": "XR_TE3Gqpumz",
        "outputId": "346357f3-b00e-4322-ce9f-ab1942a4f524"
      },
      "source": [
        " import numpy as np\n",
        "a=np.array([[1,2,3],[4,5,6],[7,8,9]])\n",
        "v=np.array([1,0,1])\n",
        "b=a+v\n",
        "print(b)"
      ],
      "execution_count": null,
      "outputs": [
        {
          "output_type": "stream",
          "name": "stdout",
          "text": [
            "[[ 2  2  4]\n",
            " [ 5  5  7]\n",
            " [ 8  8 10]]\n"
          ]
        }
      ]
    },
    {
      "cell_type": "code",
      "metadata": {
        "colab": {
          "base_uri": "https://localhost:8080/"
        },
        "id": "LPGnurvYpy3b",
        "outputId": "0c16c536-36f1-4ca4-f596-41b9abef69a4"
      },
      "source": [
        " import numpy as np\n",
        "x=np.array([[1,2,1],[3,4,1]])\n",
        "print(\"X.T:\\n\",x.T)\n",
        "w=np.array([1,1])\n",
        "print(\"W:\\n\",w)\n",
        " \n",
        "print(\"Final :\\n\",(x.T+w).T)"
      ],
      "execution_count": null,
      "outputs": [
        {
          "output_type": "stream",
          "name": "stdout",
          "text": [
            "X.T:\n",
            " [[1 3]\n",
            " [2 4]\n",
            " [1 1]]\n",
            "W:\n",
            " [1 1]\n",
            "Final :\n",
            " [[2 3 2]\n",
            " [4 5 2]]\n"
          ]
        }
      ]
    },
    {
      "cell_type": "code",
      "metadata": {
        "colab": {
          "base_uri": "https://localhost:8080/"
        },
        "id": "Dxat687Pp1gs",
        "outputId": "83064c8b-b098-4936-a49d-1b4db26df366"
      },
      "source": [
        " import numpy as np\n",
        "x=np.array([[1,2,1],[3,4,1]])\n",
        "print(x*2)"
      ],
      "execution_count": null,
      "outputs": [
        {
          "output_type": "stream",
          "name": "stdout",
          "text": [
            "[[2 4 2]\n",
            " [6 8 2]]\n"
          ]
        }
      ]
    },
    {
      "cell_type": "code",
      "metadata": {
        "colab": {
          "base_uri": "https://localhost:8080/"
        },
        "id": "CzJR2YF3p3yJ",
        "outputId": "c8c61bc0-2c58-4089-caee-99abc37becac"
      },
      "source": [
        " import numpy as np\n",
        "np.random.rand(3,2)"
      ],
      "execution_count": null,
      "outputs": [
        {
          "output_type": "execute_result",
          "data": {
            "text/plain": [
              "array([[0.28027144, 0.74716188],\n",
              "       [0.95632454, 0.886931  ],\n",
              "       [0.16506999, 0.27147348]])"
            ]
          },
          "metadata": {},
          "execution_count": 36
        }
      ]
    },
    {
      "cell_type": "code",
      "metadata": {
        "colab": {
          "base_uri": "https://localhost:8080/"
        },
        "id": "1OZH7vjCp8MP",
        "outputId": "8720e850-80e5-4d24-f3b1-ee747e5c77b8"
      },
      "source": [
        " import numpy as np\n",
        "np.random.rand(10)"
      ],
      "execution_count": null,
      "outputs": [
        {
          "output_type": "execute_result",
          "data": {
            "text/plain": [
              "array([0.63410748, 0.54578582, 0.1781662 , 0.27206316, 0.07587566,\n",
              "       0.20598399, 0.86374244, 0.35824277, 0.82938203, 0.7684135 ])"
            ]
          },
          "metadata": {},
          "execution_count": 37
        }
      ]
    },
    {
      "cell_type": "code",
      "metadata": {
        "colab": {
          "base_uri": "https://localhost:8080/"
        },
        "id": "sYAS-oaFp-hg",
        "outputId": "00c32b1d-f153-4fc9-97dd-8a8946be8ad7"
      },
      "source": [
        " import random\n",
        "print (random.randint(0,9))"
      ],
      "execution_count": null,
      "outputs": [
        {
          "output_type": "stream",
          "name": "stdout",
          "text": [
            "6\n"
          ]
        }
      ]
    },
    {
      "cell_type": "markdown",
      "metadata": {
        "id": "GRjaj29xqNyH"
      },
      "source": [
        " # **Pandas**"
      ]
    },
    {
      "cell_type": "markdown",
      "metadata": {
        "id": "_9f_lJ0_qPVO"
      },
      "source": [
        " # **1.Creating Series**"
      ]
    },
    {
      "cell_type": "code",
      "metadata": {
        "colab": {
          "base_uri": "https://localhost:8080/"
        },
        "id": "zHAqWGAkqRA3",
        "outputId": "bb3f795d-4adb-4476-b7b2-a2b934e52d39"
      },
      "source": [
        " \n",
        "import pandas as pd\n",
        "s=pd.Series([1,2,3,4,5],index=['A','B','C','D','E'])\n",
        "s"
      ],
      "execution_count": null,
      "outputs": [
        {
          "output_type": "execute_result",
          "data": {
            "text/plain": [
              "A    1\n",
              "B    2\n",
              "C    3\n",
              "D    4\n",
              "E    5\n",
              "dtype: int64"
            ]
          },
          "metadata": {},
          "execution_count": 39
        }
      ]
    },
    {
      "cell_type": "markdown",
      "metadata": {
        "id": "yl63-AxlqUIe"
      },
      "source": [
        " # **2.Data Frames**"
      ]
    },
    {
      "cell_type": "code",
      "metadata": {
        "colab": {
          "base_uri": "https://localhost:8080/"
        },
        "id": "w-lAJeSeqVSQ",
        "outputId": "846e936f-78cc-4892-8ab2-b69e7c729eab"
      },
      "source": [
        " \n",
        "import pandas as pd\n",
        "data={'Gen':['F','M','M'],'EiD':['E01','E02','E03'],'Age':[25,45,38]}\n",
        " \n",
        "df=pd.DataFrame(data,columns=['EiD','Age','Gen'])\n",
        "print(df)"
      ],
      "execution_count": null,
      "outputs": [
        {
          "output_type": "stream",
          "name": "stdout",
          "text": [
            "   EiD  Age Gen\n",
            "0  E01   25   F\n",
            "1  E02   45   M\n",
            "2  E03   38   M\n"
          ]
        }
      ]
    },
    {
      "cell_type": "code",
      "metadata": {
        "colab": {
          "base_uri": "https://localhost:8080/"
        },
        "id": "iWEXu9SxqdrX",
        "outputId": "c2498a21-a193-49db-9c33-20b9efbd4e43"
      },
      "source": [
        " \n",
        "import pandas as pd\n",
        "from numpy import loadtxt\n",
        "from urllib.request import urlopen\n",
        " \n",
        "url='https://raw.githubusercontent.com/jbrownlee/datasets/master/pima-indians-diabetes.data.csv'\n",
        " \n",
        "raw_data=pd.read_csv(urlopen(url))\n",
        "raw_data.shape"
      ],
      "execution_count": null,
      "outputs": [
        {
          "output_type": "execute_result",
          "data": {
            "text/plain": [
              "(767, 9)"
            ]
          },
          "metadata": {},
          "execution_count": 41
        }
      ]
    },
    {
      "cell_type": "code",
      "metadata": {
        "colab": {
          "base_uri": "https://localhost:8080/",
          "height": 226
        },
        "id": "yjvdydbnqhZ2",
        "outputId": "a085b6d8-af13-45c7-efdf-32fe3687f54d"
      },
      "source": [
        " raw_data.head()"
      ],
      "execution_count": null,
      "outputs": [
        {
          "output_type": "execute_result",
          "data": {
            "text/html": [
              "<div>\n",
              "<style scoped>\n",
              "    .dataframe tbody tr th:only-of-type {\n",
              "        vertical-align: middle;\n",
              "    }\n",
              "\n",
              "    .dataframe tbody tr th {\n",
              "        vertical-align: top;\n",
              "    }\n",
              "\n",
              "    .dataframe thead th {\n",
              "        text-align: right;\n",
              "    }\n",
              "</style>\n",
              "<table border=\"1\" class=\"dataframe\">\n",
              "  <thead>\n",
              "    <tr style=\"text-align: right;\">\n",
              "      <th></th>\n",
              "      <th>6</th>\n",
              "      <th>148</th>\n",
              "      <th>72</th>\n",
              "      <th>35</th>\n",
              "      <th>0</th>\n",
              "      <th>33.6</th>\n",
              "      <th>0.627</th>\n",
              "      <th>50</th>\n",
              "      <th>1</th>\n",
              "    </tr>\n",
              "  </thead>\n",
              "  <tbody>\n",
              "    <tr>\n",
              "      <th>0</th>\n",
              "      <td>1</td>\n",
              "      <td>85</td>\n",
              "      <td>66</td>\n",
              "      <td>29</td>\n",
              "      <td>0</td>\n",
              "      <td>26.6</td>\n",
              "      <td>0.351</td>\n",
              "      <td>31</td>\n",
              "      <td>0</td>\n",
              "    </tr>\n",
              "    <tr>\n",
              "      <th>1</th>\n",
              "      <td>8</td>\n",
              "      <td>183</td>\n",
              "      <td>64</td>\n",
              "      <td>0</td>\n",
              "      <td>0</td>\n",
              "      <td>23.3</td>\n",
              "      <td>0.672</td>\n",
              "      <td>32</td>\n",
              "      <td>1</td>\n",
              "    </tr>\n",
              "    <tr>\n",
              "      <th>2</th>\n",
              "      <td>1</td>\n",
              "      <td>89</td>\n",
              "      <td>66</td>\n",
              "      <td>23</td>\n",
              "      <td>94</td>\n",
              "      <td>28.1</td>\n",
              "      <td>0.167</td>\n",
              "      <td>21</td>\n",
              "      <td>0</td>\n",
              "    </tr>\n",
              "    <tr>\n",
              "      <th>3</th>\n",
              "      <td>0</td>\n",
              "      <td>137</td>\n",
              "      <td>40</td>\n",
              "      <td>35</td>\n",
              "      <td>168</td>\n",
              "      <td>43.1</td>\n",
              "      <td>2.288</td>\n",
              "      <td>33</td>\n",
              "      <td>1</td>\n",
              "    </tr>\n",
              "    <tr>\n",
              "      <th>4</th>\n",
              "      <td>5</td>\n",
              "      <td>116</td>\n",
              "      <td>74</td>\n",
              "      <td>0</td>\n",
              "      <td>0</td>\n",
              "      <td>25.6</td>\n",
              "      <td>0.201</td>\n",
              "      <td>30</td>\n",
              "      <td>0</td>\n",
              "    </tr>\n",
              "  </tbody>\n",
              "</table>\n",
              "</div>"
            ],
            "text/plain": [
              "   6  148  72  35    0  33.6  0.627  50  1\n",
              "0  1   85  66  29    0  26.6  0.351  31  0\n",
              "1  8  183  64   0    0  23.3  0.672  32  1\n",
              "2  1   89  66  23   94  28.1  0.167  21  0\n",
              "3  0  137  40  35  168  43.1  2.288  33  1\n",
              "4  5  116  74   0    0  25.6  0.201  30  0"
            ]
          },
          "metadata": {},
          "execution_count": 42
        }
      ]
    },
    {
      "cell_type": "code",
      "metadata": {
        "colab": {
          "base_uri": "https://localhost:8080/",
          "height": 226
        },
        "id": "AQfykzG-qi4_",
        "outputId": "7e6c0e65-ca5b-457e-c3ec-3031d1798b03"
      },
      "source": [
        " raw_data.tail()"
      ],
      "execution_count": null,
      "outputs": [
        {
          "output_type": "execute_result",
          "data": {
            "text/html": [
              "<div>\n",
              "<style scoped>\n",
              "    .dataframe tbody tr th:only-of-type {\n",
              "        vertical-align: middle;\n",
              "    }\n",
              "\n",
              "    .dataframe tbody tr th {\n",
              "        vertical-align: top;\n",
              "    }\n",
              "\n",
              "    .dataframe thead th {\n",
              "        text-align: right;\n",
              "    }\n",
              "</style>\n",
              "<table border=\"1\" class=\"dataframe\">\n",
              "  <thead>\n",
              "    <tr style=\"text-align: right;\">\n",
              "      <th></th>\n",
              "      <th>6</th>\n",
              "      <th>148</th>\n",
              "      <th>72</th>\n",
              "      <th>35</th>\n",
              "      <th>0</th>\n",
              "      <th>33.6</th>\n",
              "      <th>0.627</th>\n",
              "      <th>50</th>\n",
              "      <th>1</th>\n",
              "    </tr>\n",
              "  </thead>\n",
              "  <tbody>\n",
              "    <tr>\n",
              "      <th>762</th>\n",
              "      <td>10</td>\n",
              "      <td>101</td>\n",
              "      <td>76</td>\n",
              "      <td>48</td>\n",
              "      <td>180</td>\n",
              "      <td>32.9</td>\n",
              "      <td>0.171</td>\n",
              "      <td>63</td>\n",
              "      <td>0</td>\n",
              "    </tr>\n",
              "    <tr>\n",
              "      <th>763</th>\n",
              "      <td>2</td>\n",
              "      <td>122</td>\n",
              "      <td>70</td>\n",
              "      <td>27</td>\n",
              "      <td>0</td>\n",
              "      <td>36.8</td>\n",
              "      <td>0.340</td>\n",
              "      <td>27</td>\n",
              "      <td>0</td>\n",
              "    </tr>\n",
              "    <tr>\n",
              "      <th>764</th>\n",
              "      <td>5</td>\n",
              "      <td>121</td>\n",
              "      <td>72</td>\n",
              "      <td>23</td>\n",
              "      <td>112</td>\n",
              "      <td>26.2</td>\n",
              "      <td>0.245</td>\n",
              "      <td>30</td>\n",
              "      <td>0</td>\n",
              "    </tr>\n",
              "    <tr>\n",
              "      <th>765</th>\n",
              "      <td>1</td>\n",
              "      <td>126</td>\n",
              "      <td>60</td>\n",
              "      <td>0</td>\n",
              "      <td>0</td>\n",
              "      <td>30.1</td>\n",
              "      <td>0.349</td>\n",
              "      <td>47</td>\n",
              "      <td>1</td>\n",
              "    </tr>\n",
              "    <tr>\n",
              "      <th>766</th>\n",
              "      <td>1</td>\n",
              "      <td>93</td>\n",
              "      <td>70</td>\n",
              "      <td>31</td>\n",
              "      <td>0</td>\n",
              "      <td>30.4</td>\n",
              "      <td>0.315</td>\n",
              "      <td>23</td>\n",
              "      <td>0</td>\n",
              "    </tr>\n",
              "  </tbody>\n",
              "</table>\n",
              "</div>"
            ],
            "text/plain": [
              "      6  148  72  35    0  33.6  0.627  50  1\n",
              "762  10  101  76  48  180  32.9  0.171  63  0\n",
              "763   2  122  70  27    0  36.8  0.340  27  0\n",
              "764   5  121  72  23  112  26.2  0.245  30  0\n",
              "765   1  126  60   0    0  30.1  0.349  47  1\n",
              "766   1   93  70  31    0  30.4  0.315  23  0"
            ]
          },
          "metadata": {},
          "execution_count": 43
        }
      ]
    },
    {
      "cell_type": "code",
      "metadata": {
        "colab": {
          "base_uri": "https://localhost:8080/",
          "height": 852
        },
        "id": "d0zEdcupqj4O",
        "outputId": "1dc775e0-1f61-4e92-e1b8-d9bab732e848"
      },
      "source": [
        " raw_data.head(25)"
      ],
      "execution_count": null,
      "outputs": [
        {
          "output_type": "execute_result",
          "data": {
            "text/html": [
              "<div>\n",
              "<style scoped>\n",
              "    .dataframe tbody tr th:only-of-type {\n",
              "        vertical-align: middle;\n",
              "    }\n",
              "\n",
              "    .dataframe tbody tr th {\n",
              "        vertical-align: top;\n",
              "    }\n",
              "\n",
              "    .dataframe thead th {\n",
              "        text-align: right;\n",
              "    }\n",
              "</style>\n",
              "<table border=\"1\" class=\"dataframe\">\n",
              "  <thead>\n",
              "    <tr style=\"text-align: right;\">\n",
              "      <th></th>\n",
              "      <th>6</th>\n",
              "      <th>148</th>\n",
              "      <th>72</th>\n",
              "      <th>35</th>\n",
              "      <th>0</th>\n",
              "      <th>33.6</th>\n",
              "      <th>0.627</th>\n",
              "      <th>50</th>\n",
              "      <th>1</th>\n",
              "    </tr>\n",
              "  </thead>\n",
              "  <tbody>\n",
              "    <tr>\n",
              "      <th>0</th>\n",
              "      <td>1</td>\n",
              "      <td>85</td>\n",
              "      <td>66</td>\n",
              "      <td>29</td>\n",
              "      <td>0</td>\n",
              "      <td>26.6</td>\n",
              "      <td>0.351</td>\n",
              "      <td>31</td>\n",
              "      <td>0</td>\n",
              "    </tr>\n",
              "    <tr>\n",
              "      <th>1</th>\n",
              "      <td>8</td>\n",
              "      <td>183</td>\n",
              "      <td>64</td>\n",
              "      <td>0</td>\n",
              "      <td>0</td>\n",
              "      <td>23.3</td>\n",
              "      <td>0.672</td>\n",
              "      <td>32</td>\n",
              "      <td>1</td>\n",
              "    </tr>\n",
              "    <tr>\n",
              "      <th>2</th>\n",
              "      <td>1</td>\n",
              "      <td>89</td>\n",
              "      <td>66</td>\n",
              "      <td>23</td>\n",
              "      <td>94</td>\n",
              "      <td>28.1</td>\n",
              "      <td>0.167</td>\n",
              "      <td>21</td>\n",
              "      <td>0</td>\n",
              "    </tr>\n",
              "    <tr>\n",
              "      <th>3</th>\n",
              "      <td>0</td>\n",
              "      <td>137</td>\n",
              "      <td>40</td>\n",
              "      <td>35</td>\n",
              "      <td>168</td>\n",
              "      <td>43.1</td>\n",
              "      <td>2.288</td>\n",
              "      <td>33</td>\n",
              "      <td>1</td>\n",
              "    </tr>\n",
              "    <tr>\n",
              "      <th>4</th>\n",
              "      <td>5</td>\n",
              "      <td>116</td>\n",
              "      <td>74</td>\n",
              "      <td>0</td>\n",
              "      <td>0</td>\n",
              "      <td>25.6</td>\n",
              "      <td>0.201</td>\n",
              "      <td>30</td>\n",
              "      <td>0</td>\n",
              "    </tr>\n",
              "    <tr>\n",
              "      <th>5</th>\n",
              "      <td>3</td>\n",
              "      <td>78</td>\n",
              "      <td>50</td>\n",
              "      <td>32</td>\n",
              "      <td>88</td>\n",
              "      <td>31.0</td>\n",
              "      <td>0.248</td>\n",
              "      <td>26</td>\n",
              "      <td>1</td>\n",
              "    </tr>\n",
              "    <tr>\n",
              "      <th>6</th>\n",
              "      <td>10</td>\n",
              "      <td>115</td>\n",
              "      <td>0</td>\n",
              "      <td>0</td>\n",
              "      <td>0</td>\n",
              "      <td>35.3</td>\n",
              "      <td>0.134</td>\n",
              "      <td>29</td>\n",
              "      <td>0</td>\n",
              "    </tr>\n",
              "    <tr>\n",
              "      <th>7</th>\n",
              "      <td>2</td>\n",
              "      <td>197</td>\n",
              "      <td>70</td>\n",
              "      <td>45</td>\n",
              "      <td>543</td>\n",
              "      <td>30.5</td>\n",
              "      <td>0.158</td>\n",
              "      <td>53</td>\n",
              "      <td>1</td>\n",
              "    </tr>\n",
              "    <tr>\n",
              "      <th>8</th>\n",
              "      <td>8</td>\n",
              "      <td>125</td>\n",
              "      <td>96</td>\n",
              "      <td>0</td>\n",
              "      <td>0</td>\n",
              "      <td>0.0</td>\n",
              "      <td>0.232</td>\n",
              "      <td>54</td>\n",
              "      <td>1</td>\n",
              "    </tr>\n",
              "    <tr>\n",
              "      <th>9</th>\n",
              "      <td>4</td>\n",
              "      <td>110</td>\n",
              "      <td>92</td>\n",
              "      <td>0</td>\n",
              "      <td>0</td>\n",
              "      <td>37.6</td>\n",
              "      <td>0.191</td>\n",
              "      <td>30</td>\n",
              "      <td>0</td>\n",
              "    </tr>\n",
              "    <tr>\n",
              "      <th>10</th>\n",
              "      <td>10</td>\n",
              "      <td>168</td>\n",
              "      <td>74</td>\n",
              "      <td>0</td>\n",
              "      <td>0</td>\n",
              "      <td>38.0</td>\n",
              "      <td>0.537</td>\n",
              "      <td>34</td>\n",
              "      <td>1</td>\n",
              "    </tr>\n",
              "    <tr>\n",
              "      <th>11</th>\n",
              "      <td>10</td>\n",
              "      <td>139</td>\n",
              "      <td>80</td>\n",
              "      <td>0</td>\n",
              "      <td>0</td>\n",
              "      <td>27.1</td>\n",
              "      <td>1.441</td>\n",
              "      <td>57</td>\n",
              "      <td>0</td>\n",
              "    </tr>\n",
              "    <tr>\n",
              "      <th>12</th>\n",
              "      <td>1</td>\n",
              "      <td>189</td>\n",
              "      <td>60</td>\n",
              "      <td>23</td>\n",
              "      <td>846</td>\n",
              "      <td>30.1</td>\n",
              "      <td>0.398</td>\n",
              "      <td>59</td>\n",
              "      <td>1</td>\n",
              "    </tr>\n",
              "    <tr>\n",
              "      <th>13</th>\n",
              "      <td>5</td>\n",
              "      <td>166</td>\n",
              "      <td>72</td>\n",
              "      <td>19</td>\n",
              "      <td>175</td>\n",
              "      <td>25.8</td>\n",
              "      <td>0.587</td>\n",
              "      <td>51</td>\n",
              "      <td>1</td>\n",
              "    </tr>\n",
              "    <tr>\n",
              "      <th>14</th>\n",
              "      <td>7</td>\n",
              "      <td>100</td>\n",
              "      <td>0</td>\n",
              "      <td>0</td>\n",
              "      <td>0</td>\n",
              "      <td>30.0</td>\n",
              "      <td>0.484</td>\n",
              "      <td>32</td>\n",
              "      <td>1</td>\n",
              "    </tr>\n",
              "    <tr>\n",
              "      <th>15</th>\n",
              "      <td>0</td>\n",
              "      <td>118</td>\n",
              "      <td>84</td>\n",
              "      <td>47</td>\n",
              "      <td>230</td>\n",
              "      <td>45.8</td>\n",
              "      <td>0.551</td>\n",
              "      <td>31</td>\n",
              "      <td>1</td>\n",
              "    </tr>\n",
              "    <tr>\n",
              "      <th>16</th>\n",
              "      <td>7</td>\n",
              "      <td>107</td>\n",
              "      <td>74</td>\n",
              "      <td>0</td>\n",
              "      <td>0</td>\n",
              "      <td>29.6</td>\n",
              "      <td>0.254</td>\n",
              "      <td>31</td>\n",
              "      <td>1</td>\n",
              "    </tr>\n",
              "    <tr>\n",
              "      <th>17</th>\n",
              "      <td>1</td>\n",
              "      <td>103</td>\n",
              "      <td>30</td>\n",
              "      <td>38</td>\n",
              "      <td>83</td>\n",
              "      <td>43.3</td>\n",
              "      <td>0.183</td>\n",
              "      <td>33</td>\n",
              "      <td>0</td>\n",
              "    </tr>\n",
              "    <tr>\n",
              "      <th>18</th>\n",
              "      <td>1</td>\n",
              "      <td>115</td>\n",
              "      <td>70</td>\n",
              "      <td>30</td>\n",
              "      <td>96</td>\n",
              "      <td>34.6</td>\n",
              "      <td>0.529</td>\n",
              "      <td>32</td>\n",
              "      <td>1</td>\n",
              "    </tr>\n",
              "    <tr>\n",
              "      <th>19</th>\n",
              "      <td>3</td>\n",
              "      <td>126</td>\n",
              "      <td>88</td>\n",
              "      <td>41</td>\n",
              "      <td>235</td>\n",
              "      <td>39.3</td>\n",
              "      <td>0.704</td>\n",
              "      <td>27</td>\n",
              "      <td>0</td>\n",
              "    </tr>\n",
              "    <tr>\n",
              "      <th>20</th>\n",
              "      <td>8</td>\n",
              "      <td>99</td>\n",
              "      <td>84</td>\n",
              "      <td>0</td>\n",
              "      <td>0</td>\n",
              "      <td>35.4</td>\n",
              "      <td>0.388</td>\n",
              "      <td>50</td>\n",
              "      <td>0</td>\n",
              "    </tr>\n",
              "    <tr>\n",
              "      <th>21</th>\n",
              "      <td>7</td>\n",
              "      <td>196</td>\n",
              "      <td>90</td>\n",
              "      <td>0</td>\n",
              "      <td>0</td>\n",
              "      <td>39.8</td>\n",
              "      <td>0.451</td>\n",
              "      <td>41</td>\n",
              "      <td>1</td>\n",
              "    </tr>\n",
              "    <tr>\n",
              "      <th>22</th>\n",
              "      <td>9</td>\n",
              "      <td>119</td>\n",
              "      <td>80</td>\n",
              "      <td>35</td>\n",
              "      <td>0</td>\n",
              "      <td>29.0</td>\n",
              "      <td>0.263</td>\n",
              "      <td>29</td>\n",
              "      <td>1</td>\n",
              "    </tr>\n",
              "    <tr>\n",
              "      <th>23</th>\n",
              "      <td>11</td>\n",
              "      <td>143</td>\n",
              "      <td>94</td>\n",
              "      <td>33</td>\n",
              "      <td>146</td>\n",
              "      <td>36.6</td>\n",
              "      <td>0.254</td>\n",
              "      <td>51</td>\n",
              "      <td>1</td>\n",
              "    </tr>\n",
              "    <tr>\n",
              "      <th>24</th>\n",
              "      <td>10</td>\n",
              "      <td>125</td>\n",
              "      <td>70</td>\n",
              "      <td>26</td>\n",
              "      <td>115</td>\n",
              "      <td>31.1</td>\n",
              "      <td>0.205</td>\n",
              "      <td>41</td>\n",
              "      <td>1</td>\n",
              "    </tr>\n",
              "  </tbody>\n",
              "</table>\n",
              "</div>"
            ],
            "text/plain": [
              "     6  148  72  35    0  33.6  0.627  50  1\n",
              "0    1   85  66  29    0  26.6  0.351  31  0\n",
              "1    8  183  64   0    0  23.3  0.672  32  1\n",
              "2    1   89  66  23   94  28.1  0.167  21  0\n",
              "3    0  137  40  35  168  43.1  2.288  33  1\n",
              "4    5  116  74   0    0  25.6  0.201  30  0\n",
              "5    3   78  50  32   88  31.0  0.248  26  1\n",
              "6   10  115   0   0    0  35.3  0.134  29  0\n",
              "7    2  197  70  45  543  30.5  0.158  53  1\n",
              "8    8  125  96   0    0   0.0  0.232  54  1\n",
              "9    4  110  92   0    0  37.6  0.191  30  0\n",
              "10  10  168  74   0    0  38.0  0.537  34  1\n",
              "11  10  139  80   0    0  27.1  1.441  57  0\n",
              "12   1  189  60  23  846  30.1  0.398  59  1\n",
              "13   5  166  72  19  175  25.8  0.587  51  1\n",
              "14   7  100   0   0    0  30.0  0.484  32  1\n",
              "15   0  118  84  47  230  45.8  0.551  31  1\n",
              "16   7  107  74   0    0  29.6  0.254  31  1\n",
              "17   1  103  30  38   83  43.3  0.183  33  0\n",
              "18   1  115  70  30   96  34.6  0.529  32  1\n",
              "19   3  126  88  41  235  39.3  0.704  27  0\n",
              "20   8   99  84   0    0  35.4  0.388  50  0\n",
              "21   7  196  90   0    0  39.8  0.451  41  1\n",
              "22   9  119  80  35    0  29.0  0.263  29  1\n",
              "23  11  143  94  33  146  36.6  0.254  51  1\n",
              "24  10  125  70  26  115  31.1  0.205  41  1"
            ]
          },
          "metadata": {},
          "execution_count": 44
        }
      ]
    },
    {
      "cell_type": "code",
      "metadata": {
        "colab": {
          "base_uri": "https://localhost:8080/",
          "height": 320
        },
        "id": "J0N2jxj3qntb",
        "outputId": "b7be3904-c089-4a75-dd20-742f10b0041f"
      },
      "source": [
        " raw_data.describe()"
      ],
      "execution_count": null,
      "outputs": [
        {
          "output_type": "execute_result",
          "data": {
            "text/html": [
              "<div>\n",
              "<style scoped>\n",
              "    .dataframe tbody tr th:only-of-type {\n",
              "        vertical-align: middle;\n",
              "    }\n",
              "\n",
              "    .dataframe tbody tr th {\n",
              "        vertical-align: top;\n",
              "    }\n",
              "\n",
              "    .dataframe thead th {\n",
              "        text-align: right;\n",
              "    }\n",
              "</style>\n",
              "<table border=\"1\" class=\"dataframe\">\n",
              "  <thead>\n",
              "    <tr style=\"text-align: right;\">\n",
              "      <th></th>\n",
              "      <th>6</th>\n",
              "      <th>148</th>\n",
              "      <th>72</th>\n",
              "      <th>35</th>\n",
              "      <th>0</th>\n",
              "      <th>33.6</th>\n",
              "      <th>0.627</th>\n",
              "      <th>50</th>\n",
              "      <th>1</th>\n",
              "    </tr>\n",
              "  </thead>\n",
              "  <tbody>\n",
              "    <tr>\n",
              "      <th>count</th>\n",
              "      <td>767.000000</td>\n",
              "      <td>767.000000</td>\n",
              "      <td>767.000000</td>\n",
              "      <td>767.000000</td>\n",
              "      <td>767.000000</td>\n",
              "      <td>767.000000</td>\n",
              "      <td>767.000000</td>\n",
              "      <td>767.000000</td>\n",
              "      <td>767.000000</td>\n",
              "    </tr>\n",
              "    <tr>\n",
              "      <th>mean</th>\n",
              "      <td>3.842243</td>\n",
              "      <td>120.859192</td>\n",
              "      <td>69.101695</td>\n",
              "      <td>20.517601</td>\n",
              "      <td>79.903520</td>\n",
              "      <td>31.990482</td>\n",
              "      <td>0.471674</td>\n",
              "      <td>33.219035</td>\n",
              "      <td>0.348110</td>\n",
              "    </tr>\n",
              "    <tr>\n",
              "      <th>std</th>\n",
              "      <td>3.370877</td>\n",
              "      <td>31.978468</td>\n",
              "      <td>19.368155</td>\n",
              "      <td>15.954059</td>\n",
              "      <td>115.283105</td>\n",
              "      <td>7.889091</td>\n",
              "      <td>0.331497</td>\n",
              "      <td>11.752296</td>\n",
              "      <td>0.476682</td>\n",
              "    </tr>\n",
              "    <tr>\n",
              "      <th>min</th>\n",
              "      <td>0.000000</td>\n",
              "      <td>0.000000</td>\n",
              "      <td>0.000000</td>\n",
              "      <td>0.000000</td>\n",
              "      <td>0.000000</td>\n",
              "      <td>0.000000</td>\n",
              "      <td>0.078000</td>\n",
              "      <td>21.000000</td>\n",
              "      <td>0.000000</td>\n",
              "    </tr>\n",
              "    <tr>\n",
              "      <th>25%</th>\n",
              "      <td>1.000000</td>\n",
              "      <td>99.000000</td>\n",
              "      <td>62.000000</td>\n",
              "      <td>0.000000</td>\n",
              "      <td>0.000000</td>\n",
              "      <td>27.300000</td>\n",
              "      <td>0.243500</td>\n",
              "      <td>24.000000</td>\n",
              "      <td>0.000000</td>\n",
              "    </tr>\n",
              "    <tr>\n",
              "      <th>50%</th>\n",
              "      <td>3.000000</td>\n",
              "      <td>117.000000</td>\n",
              "      <td>72.000000</td>\n",
              "      <td>23.000000</td>\n",
              "      <td>32.000000</td>\n",
              "      <td>32.000000</td>\n",
              "      <td>0.371000</td>\n",
              "      <td>29.000000</td>\n",
              "      <td>0.000000</td>\n",
              "    </tr>\n",
              "    <tr>\n",
              "      <th>75%</th>\n",
              "      <td>6.000000</td>\n",
              "      <td>140.000000</td>\n",
              "      <td>80.000000</td>\n",
              "      <td>32.000000</td>\n",
              "      <td>127.500000</td>\n",
              "      <td>36.600000</td>\n",
              "      <td>0.625000</td>\n",
              "      <td>41.000000</td>\n",
              "      <td>1.000000</td>\n",
              "    </tr>\n",
              "    <tr>\n",
              "      <th>max</th>\n",
              "      <td>17.000000</td>\n",
              "      <td>199.000000</td>\n",
              "      <td>122.000000</td>\n",
              "      <td>99.000000</td>\n",
              "      <td>846.000000</td>\n",
              "      <td>67.100000</td>\n",
              "      <td>2.420000</td>\n",
              "      <td>81.000000</td>\n",
              "      <td>1.000000</td>\n",
              "    </tr>\n",
              "  </tbody>\n",
              "</table>\n",
              "</div>"
            ],
            "text/plain": [
              "                6         148          72  ...       0.627          50           1\n",
              "count  767.000000  767.000000  767.000000  ...  767.000000  767.000000  767.000000\n",
              "mean     3.842243  120.859192   69.101695  ...    0.471674   33.219035    0.348110\n",
              "std      3.370877   31.978468   19.368155  ...    0.331497   11.752296    0.476682\n",
              "min      0.000000    0.000000    0.000000  ...    0.078000   21.000000    0.000000\n",
              "25%      1.000000   99.000000   62.000000  ...    0.243500   24.000000    0.000000\n",
              "50%      3.000000  117.000000   72.000000  ...    0.371000   29.000000    0.000000\n",
              "75%      6.000000  140.000000   80.000000  ...    0.625000   41.000000    1.000000\n",
              "max     17.000000  199.000000  122.000000  ...    2.420000   81.000000    1.000000\n",
              "\n",
              "[8 rows x 9 columns]"
            ]
          },
          "metadata": {},
          "execution_count": 45
        }
      ]
    },
    {
      "cell_type": "code",
      "metadata": {
        "colab": {
          "base_uri": "https://localhost:8080/",
          "height": 351
        },
        "id": "YD1wYRHWqpp8",
        "outputId": "356f2fd0-f52a-47a7-c667-e5ba3f6787db"
      },
      "source": [
        " raw_data.cov()"
      ],
      "execution_count": null,
      "outputs": [
        {
          "output_type": "execute_result",
          "data": {
            "text/html": [
              "<div>\n",
              "<style scoped>\n",
              "    .dataframe tbody tr th:only-of-type {\n",
              "        vertical-align: middle;\n",
              "    }\n",
              "\n",
              "    .dataframe tbody tr th {\n",
              "        vertical-align: top;\n",
              "    }\n",
              "\n",
              "    .dataframe thead th {\n",
              "        text-align: right;\n",
              "    }\n",
              "</style>\n",
              "<table border=\"1\" class=\"dataframe\">\n",
              "  <thead>\n",
              "    <tr style=\"text-align: right;\">\n",
              "      <th></th>\n",
              "      <th>6</th>\n",
              "      <th>148</th>\n",
              "      <th>72</th>\n",
              "      <th>35</th>\n",
              "      <th>0</th>\n",
              "      <th>33.6</th>\n",
              "      <th>0.627</th>\n",
              "      <th>50</th>\n",
              "      <th>1</th>\n",
              "    </tr>\n",
              "  </thead>\n",
              "  <tbody>\n",
              "    <tr>\n",
              "      <th>6</th>\n",
              "      <td>11.362809</td>\n",
              "      <td>13.888985</td>\n",
              "      <td>9.218414</td>\n",
              "      <td>-4.436515</td>\n",
              "      <td>-28.367721</td>\n",
              "      <td>0.465859</td>\n",
              "      <td>-0.037912</td>\n",
              "      <td>21.551571</td>\n",
              "      <td>0.355250</td>\n",
              "    </tr>\n",
              "    <tr>\n",
              "      <th>148</th>\n",
              "      <td>13.888985</td>\n",
              "      <td>1022.622445</td>\n",
              "      <td>94.451675</td>\n",
              "      <td>28.764884</td>\n",
              "      <td>1225.357154</td>\n",
              "      <td>55.742783</td>\n",
              "      <td>1.451278</td>\n",
              "      <td>98.618350</td>\n",
              "      <td>7.101300</td>\n",
              "    </tr>\n",
              "    <tr>\n",
              "      <th>72</th>\n",
              "      <td>9.218414</td>\n",
              "      <td>94.451675</td>\n",
              "      <td>375.125415</td>\n",
              "      <td>64.058260</td>\n",
              "      <td>198.939328</td>\n",
              "      <td>43.054755</td>\n",
              "      <td>0.264396</td>\n",
              "      <td>54.531221</td>\n",
              "      <td>0.599018</td>\n",
              "    </tr>\n",
              "    <tr>\n",
              "      <th>35</th>\n",
              "      <td>-4.436515</td>\n",
              "      <td>28.764884</td>\n",
              "      <td>64.058260</td>\n",
              "      <td>254.532001</td>\n",
              "      <td>805.536948</td>\n",
              "      <td>49.407935</td>\n",
              "      <td>0.970472</td>\n",
              "      <td>-21.725792</td>\n",
              "      <td>0.557181</td>\n",
              "    </tr>\n",
              "    <tr>\n",
              "      <th>0</th>\n",
              "      <td>-28.367721</td>\n",
              "      <td>1225.357154</td>\n",
              "      <td>198.939328</td>\n",
              "      <td>805.536948</td>\n",
              "      <td>13290.194335</td>\n",
              "      <td>180.177540</td>\n",
              "      <td>7.092087</td>\n",
              "      <td>-55.469702</td>\n",
              "      <td>7.252951</td>\n",
              "    </tr>\n",
              "    <tr>\n",
              "      <th>33.6</th>\n",
              "      <td>0.465859</td>\n",
              "      <td>55.742783</td>\n",
              "      <td>43.054755</td>\n",
              "      <td>49.407935</td>\n",
              "      <td>180.177540</td>\n",
              "      <td>62.237755</td>\n",
              "      <td>0.367558</td>\n",
              "      <td>3.329503</td>\n",
              "      <td>1.100707</td>\n",
              "    </tr>\n",
              "    <tr>\n",
              "      <th>0.627</th>\n",
              "      <td>-0.037912</td>\n",
              "      <td>1.451278</td>\n",
              "      <td>0.264396</td>\n",
              "      <td>0.970472</td>\n",
              "      <td>7.092087</td>\n",
              "      <td>0.367558</td>\n",
              "      <td>0.109890</td>\n",
              "      <td>0.127544</td>\n",
              "      <td>0.027376</td>\n",
              "    </tr>\n",
              "    <tr>\n",
              "      <th>50</th>\n",
              "      <td>21.551571</td>\n",
              "      <td>98.618350</td>\n",
              "      <td>54.531221</td>\n",
              "      <td>-21.725792</td>\n",
              "      <td>-55.469702</td>\n",
              "      <td>3.329503</td>\n",
              "      <td>0.127544</td>\n",
              "      <td>138.116452</td>\n",
              "      <td>1.324436</td>\n",
              "    </tr>\n",
              "    <tr>\n",
              "      <th>1</th>\n",
              "      <td>0.355250</td>\n",
              "      <td>7.101300</td>\n",
              "      <td>0.599018</td>\n",
              "      <td>0.557181</td>\n",
              "      <td>7.252951</td>\n",
              "      <td>1.100707</td>\n",
              "      <td>0.027376</td>\n",
              "      <td>1.324436</td>\n",
              "      <td>0.227226</td>\n",
              "    </tr>\n",
              "  </tbody>\n",
              "</table>\n",
              "</div>"
            ],
            "text/plain": [
              "               6          148          72  ...     0.627          50         1\n",
              "6      11.362809    13.888985    9.218414  ... -0.037912   21.551571  0.355250\n",
              "148    13.888985  1022.622445   94.451675  ...  1.451278   98.618350  7.101300\n",
              "72      9.218414    94.451675  375.125415  ...  0.264396   54.531221  0.599018\n",
              "35     -4.436515    28.764884   64.058260  ...  0.970472  -21.725792  0.557181\n",
              "0     -28.367721  1225.357154  198.939328  ...  7.092087  -55.469702  7.252951\n",
              "33.6    0.465859    55.742783   43.054755  ...  0.367558    3.329503  1.100707\n",
              "0.627  -0.037912     1.451278    0.264396  ...  0.109890    0.127544  0.027376\n",
              "50     21.551571    98.618350   54.531221  ...  0.127544  138.116452  1.324436\n",
              "1       0.355250     7.101300    0.599018  ...  0.027376    1.324436  0.227226\n",
              "\n",
              "[9 rows x 9 columns]"
            ]
          },
          "metadata": {},
          "execution_count": 46
        }
      ]
    },
    {
      "cell_type": "code",
      "metadata": {
        "colab": {
          "base_uri": "https://localhost:8080/",
          "height": 351
        },
        "id": "ybLbNkQEqqil",
        "outputId": "e17854df-5f83-468a-f3ac-b0e0d7916924"
      },
      "source": [
        " raw_data.corr()"
      ],
      "execution_count": null,
      "outputs": [
        {
          "output_type": "execute_result",
          "data": {
            "text/html": [
              "<div>\n",
              "<style scoped>\n",
              "    .dataframe tbody tr th:only-of-type {\n",
              "        vertical-align: middle;\n",
              "    }\n",
              "\n",
              "    .dataframe tbody tr th {\n",
              "        vertical-align: top;\n",
              "    }\n",
              "\n",
              "    .dataframe thead th {\n",
              "        text-align: right;\n",
              "    }\n",
              "</style>\n",
              "<table border=\"1\" class=\"dataframe\">\n",
              "  <thead>\n",
              "    <tr style=\"text-align: right;\">\n",
              "      <th></th>\n",
              "      <th>6</th>\n",
              "      <th>148</th>\n",
              "      <th>72</th>\n",
              "      <th>35</th>\n",
              "      <th>0</th>\n",
              "      <th>33.6</th>\n",
              "      <th>0.627</th>\n",
              "      <th>50</th>\n",
              "      <th>1</th>\n",
              "    </tr>\n",
              "  </thead>\n",
              "  <tbody>\n",
              "    <tr>\n",
              "      <th>6</th>\n",
              "      <td>1.000000</td>\n",
              "      <td>0.128846</td>\n",
              "      <td>0.141197</td>\n",
              "      <td>-0.082495</td>\n",
              "      <td>-0.072999</td>\n",
              "      <td>0.017518</td>\n",
              "      <td>-0.033927</td>\n",
              "      <td>0.544018</td>\n",
              "      <td>0.221087</td>\n",
              "    </tr>\n",
              "    <tr>\n",
              "      <th>148</th>\n",
              "      <td>0.128846</td>\n",
              "      <td>1.000000</td>\n",
              "      <td>0.152498</td>\n",
              "      <td>0.056381</td>\n",
              "      <td>0.332383</td>\n",
              "      <td>0.220955</td>\n",
              "      <td>0.136903</td>\n",
              "      <td>0.262408</td>\n",
              "      <td>0.465856</td>\n",
              "    </tr>\n",
              "    <tr>\n",
              "      <th>72</th>\n",
              "      <td>0.141197</td>\n",
              "      <td>0.152498</td>\n",
              "      <td>1.000000</td>\n",
              "      <td>0.207308</td>\n",
              "      <td>0.089098</td>\n",
              "      <td>0.281777</td>\n",
              "      <td>0.041180</td>\n",
              "      <td>0.239571</td>\n",
              "      <td>0.064882</td>\n",
              "    </tr>\n",
              "    <tr>\n",
              "      <th>35</th>\n",
              "      <td>-0.082495</td>\n",
              "      <td>0.056381</td>\n",
              "      <td>0.207308</td>\n",
              "      <td>1.000000</td>\n",
              "      <td>0.437974</td>\n",
              "      <td>0.392553</td>\n",
              "      <td>0.183498</td>\n",
              "      <td>-0.115873</td>\n",
              "      <td>0.073265</td>\n",
              "    </tr>\n",
              "    <tr>\n",
              "      <th>0</th>\n",
              "      <td>-0.072999</td>\n",
              "      <td>0.332383</td>\n",
              "      <td>0.089098</td>\n",
              "      <td>0.437974</td>\n",
              "      <td>1.000000</td>\n",
              "      <td>0.198111</td>\n",
              "      <td>0.185579</td>\n",
              "      <td>-0.040942</td>\n",
              "      <td>0.131984</td>\n",
              "    </tr>\n",
              "    <tr>\n",
              "      <th>33.6</th>\n",
              "      <td>0.017518</td>\n",
              "      <td>0.220955</td>\n",
              "      <td>0.281777</td>\n",
              "      <td>0.392553</td>\n",
              "      <td>0.198111</td>\n",
              "      <td>1.000000</td>\n",
              "      <td>0.140546</td>\n",
              "      <td>0.035911</td>\n",
              "      <td>0.292695</td>\n",
              "    </tr>\n",
              "    <tr>\n",
              "      <th>0.627</th>\n",
              "      <td>-0.033927</td>\n",
              "      <td>0.136903</td>\n",
              "      <td>0.041180</td>\n",
              "      <td>0.183498</td>\n",
              "      <td>0.185579</td>\n",
              "      <td>0.140546</td>\n",
              "      <td>1.000000</td>\n",
              "      <td>0.032738</td>\n",
              "      <td>0.173245</td>\n",
              "    </tr>\n",
              "    <tr>\n",
              "      <th>50</th>\n",
              "      <td>0.544018</td>\n",
              "      <td>0.262408</td>\n",
              "      <td>0.239571</td>\n",
              "      <td>-0.115873</td>\n",
              "      <td>-0.040942</td>\n",
              "      <td>0.035911</td>\n",
              "      <td>0.032738</td>\n",
              "      <td>1.000000</td>\n",
              "      <td>0.236417</td>\n",
              "    </tr>\n",
              "    <tr>\n",
              "      <th>1</th>\n",
              "      <td>0.221087</td>\n",
              "      <td>0.465856</td>\n",
              "      <td>0.064882</td>\n",
              "      <td>0.073265</td>\n",
              "      <td>0.131984</td>\n",
              "      <td>0.292695</td>\n",
              "      <td>0.173245</td>\n",
              "      <td>0.236417</td>\n",
              "      <td>1.000000</td>\n",
              "    </tr>\n",
              "  </tbody>\n",
              "</table>\n",
              "</div>"
            ],
            "text/plain": [
              "              6       148        72  ...     0.627        50         1\n",
              "6      1.000000  0.128846  0.141197  ... -0.033927  0.544018  0.221087\n",
              "148    0.128846  1.000000  0.152498  ...  0.136903  0.262408  0.465856\n",
              "72     0.141197  0.152498  1.000000  ...  0.041180  0.239571  0.064882\n",
              "35    -0.082495  0.056381  0.207308  ...  0.183498 -0.115873  0.073265\n",
              "0     -0.072999  0.332383  0.089098  ...  0.185579 -0.040942  0.131984\n",
              "33.6   0.017518  0.220955  0.281777  ...  0.140546  0.035911  0.292695\n",
              "0.627 -0.033927  0.136903  0.041180  ...  1.000000  0.032738  0.173245\n",
              "50     0.544018  0.262408  0.239571  ...  0.032738  1.000000  0.236417\n",
              "1      0.221087  0.465856  0.064882  ...  0.173245  0.236417  1.000000\n",
              "\n",
              "[9 rows x 9 columns]"
            ]
          },
          "metadata": {},
          "execution_count": 47
        }
      ]
    },
    {
      "cell_type": "code",
      "metadata": {
        "colab": {
          "base_uri": "https://localhost:8080/"
        },
        "id": "VxJ2BbxaqvRp",
        "outputId": "abb4748b-67a1-4ce2-eb10-792932838339"
      },
      "source": [
        " \n",
        "from sklearn.datasets import load_iris\n",
        "import numpy as np\n",
        "iris=load_iris()\n",
        "iris"
      ],
      "execution_count": null,
      "outputs": [
        {
          "output_type": "execute_result",
          "data": {
            "text/plain": [
              "{'DESCR': '.. _iris_dataset:\\n\\nIris plants dataset\\n--------------------\\n\\n**Data Set Characteristics:**\\n\\n    :Number of Instances: 150 (50 in each of three classes)\\n    :Number of Attributes: 4 numeric, predictive attributes and the class\\n    :Attribute Information:\\n        - sepal length in cm\\n        - sepal width in cm\\n        - petal length in cm\\n        - petal width in cm\\n        - class:\\n                - Iris-Setosa\\n                - Iris-Versicolour\\n                - Iris-Virginica\\n                \\n    :Summary Statistics:\\n\\n    ============== ==== ==== ======= ===== ====================\\n                    Min  Max   Mean    SD   Class Correlation\\n    ============== ==== ==== ======= ===== ====================\\n    sepal length:   4.3  7.9   5.84   0.83    0.7826\\n    sepal width:    2.0  4.4   3.05   0.43   -0.4194\\n    petal length:   1.0  6.9   3.76   1.76    0.9490  (high!)\\n    petal width:    0.1  2.5   1.20   0.76    0.9565  (high!)\\n    ============== ==== ==== ======= ===== ====================\\n\\n    :Missing Attribute Values: None\\n    :Class Distribution: 33.3% for each of 3 classes.\\n    :Creator: R.A. Fisher\\n    :Donor: Michael Marshall (MARSHALL%PLU@io.arc.nasa.gov)\\n    :Date: July, 1988\\n\\nThe famous Iris database, first used by Sir R.A. Fisher. The dataset is taken\\nfrom Fisher\\'s paper. Note that it\\'s the same as in R, but not as in the UCI\\nMachine Learning Repository, which has two wrong data points.\\n\\nThis is perhaps the best known database to be found in the\\npattern recognition literature.  Fisher\\'s paper is a classic in the field and\\nis referenced frequently to this day.  (See Duda & Hart, for example.)  The\\ndata set contains 3 classes of 50 instances each, where each class refers to a\\ntype of iris plant.  One class is linearly separable from the other 2; the\\nlatter are NOT linearly separable from each other.\\n\\n.. topic:: References\\n\\n   - Fisher, R.A. \"The use of multiple measurements in taxonomic problems\"\\n     Annual Eugenics, 7, Part II, 179-188 (1936); also in \"Contributions to\\n     Mathematical Statistics\" (John Wiley, NY, 1950).\\n   - Duda, R.O., & Hart, P.E. (1973) Pattern Classification and Scene Analysis.\\n     (Q327.D83) John Wiley & Sons.  ISBN 0-471-22361-1.  See page 218.\\n   - Dasarathy, B.V. (1980) \"Nosing Around the Neighborhood: A New System\\n     Structure and Classification Rule for Recognition in Partially Exposed\\n     Environments\".  IEEE Transactions on Pattern Analysis and Machine\\n     Intelligence, Vol. PAMI-2, No. 1, 67-71.\\n   - Gates, G.W. (1972) \"The Reduced Nearest Neighbor Rule\".  IEEE Transactions\\n     on Information Theory, May 1972, 431-433.\\n   - See also: 1988 MLC Proceedings, 54-64.  Cheeseman et al\"s AUTOCLASS II\\n     conceptual clustering system finds 3 classes in the data.\\n   - Many, many more ...',\n",
              " 'data': array([[5.1, 3.5, 1.4, 0.2],\n",
              "        [4.9, 3. , 1.4, 0.2],\n",
              "        [4.7, 3.2, 1.3, 0.2],\n",
              "        [4.6, 3.1, 1.5, 0.2],\n",
              "        [5. , 3.6, 1.4, 0.2],\n",
              "        [5.4, 3.9, 1.7, 0.4],\n",
              "        [4.6, 3.4, 1.4, 0.3],\n",
              "        [5. , 3.4, 1.5, 0.2],\n",
              "        [4.4, 2.9, 1.4, 0.2],\n",
              "        [4.9, 3.1, 1.5, 0.1],\n",
              "        [5.4, 3.7, 1.5, 0.2],\n",
              "        [4.8, 3.4, 1.6, 0.2],\n",
              "        [4.8, 3. , 1.4, 0.1],\n",
              "        [4.3, 3. , 1.1, 0.1],\n",
              "        [5.8, 4. , 1.2, 0.2],\n",
              "        [5.7, 4.4, 1.5, 0.4],\n",
              "        [5.4, 3.9, 1.3, 0.4],\n",
              "        [5.1, 3.5, 1.4, 0.3],\n",
              "        [5.7, 3.8, 1.7, 0.3],\n",
              "        [5.1, 3.8, 1.5, 0.3],\n",
              "        [5.4, 3.4, 1.7, 0.2],\n",
              "        [5.1, 3.7, 1.5, 0.4],\n",
              "        [4.6, 3.6, 1. , 0.2],\n",
              "        [5.1, 3.3, 1.7, 0.5],\n",
              "        [4.8, 3.4, 1.9, 0.2],\n",
              "        [5. , 3. , 1.6, 0.2],\n",
              "        [5. , 3.4, 1.6, 0.4],\n",
              "        [5.2, 3.5, 1.5, 0.2],\n",
              "        [5.2, 3.4, 1.4, 0.2],\n",
              "        [4.7, 3.2, 1.6, 0.2],\n",
              "        [4.8, 3.1, 1.6, 0.2],\n",
              "        [5.4, 3.4, 1.5, 0.4],\n",
              "        [5.2, 4.1, 1.5, 0.1],\n",
              "        [5.5, 4.2, 1.4, 0.2],\n",
              "        [4.9, 3.1, 1.5, 0.2],\n",
              "        [5. , 3.2, 1.2, 0.2],\n",
              "        [5.5, 3.5, 1.3, 0.2],\n",
              "        [4.9, 3.6, 1.4, 0.1],\n",
              "        [4.4, 3. , 1.3, 0.2],\n",
              "        [5.1, 3.4, 1.5, 0.2],\n",
              "        [5. , 3.5, 1.3, 0.3],\n",
              "        [4.5, 2.3, 1.3, 0.3],\n",
              "        [4.4, 3.2, 1.3, 0.2],\n",
              "        [5. , 3.5, 1.6, 0.6],\n",
              "        [5.1, 3.8, 1.9, 0.4],\n",
              "        [4.8, 3. , 1.4, 0.3],\n",
              "        [5.1, 3.8, 1.6, 0.2],\n",
              "        [4.6, 3.2, 1.4, 0.2],\n",
              "        [5.3, 3.7, 1.5, 0.2],\n",
              "        [5. , 3.3, 1.4, 0.2],\n",
              "        [7. , 3.2, 4.7, 1.4],\n",
              "        [6.4, 3.2, 4.5, 1.5],\n",
              "        [6.9, 3.1, 4.9, 1.5],\n",
              "        [5.5, 2.3, 4. , 1.3],\n",
              "        [6.5, 2.8, 4.6, 1.5],\n",
              "        [5.7, 2.8, 4.5, 1.3],\n",
              "        [6.3, 3.3, 4.7, 1.6],\n",
              "        [4.9, 2.4, 3.3, 1. ],\n",
              "        [6.6, 2.9, 4.6, 1.3],\n",
              "        [5.2, 2.7, 3.9, 1.4],\n",
              "        [5. , 2. , 3.5, 1. ],\n",
              "        [5.9, 3. , 4.2, 1.5],\n",
              "        [6. , 2.2, 4. , 1. ],\n",
              "        [6.1, 2.9, 4.7, 1.4],\n",
              "        [5.6, 2.9, 3.6, 1.3],\n",
              "        [6.7, 3.1, 4.4, 1.4],\n",
              "        [5.6, 3. , 4.5, 1.5],\n",
              "        [5.8, 2.7, 4.1, 1. ],\n",
              "        [6.2, 2.2, 4.5, 1.5],\n",
              "        [5.6, 2.5, 3.9, 1.1],\n",
              "        [5.9, 3.2, 4.8, 1.8],\n",
              "        [6.1, 2.8, 4. , 1.3],\n",
              "        [6.3, 2.5, 4.9, 1.5],\n",
              "        [6.1, 2.8, 4.7, 1.2],\n",
              "        [6.4, 2.9, 4.3, 1.3],\n",
              "        [6.6, 3. , 4.4, 1.4],\n",
              "        [6.8, 2.8, 4.8, 1.4],\n",
              "        [6.7, 3. , 5. , 1.7],\n",
              "        [6. , 2.9, 4.5, 1.5],\n",
              "        [5.7, 2.6, 3.5, 1. ],\n",
              "        [5.5, 2.4, 3.8, 1.1],\n",
              "        [5.5, 2.4, 3.7, 1. ],\n",
              "        [5.8, 2.7, 3.9, 1.2],\n",
              "        [6. , 2.7, 5.1, 1.6],\n",
              "        [5.4, 3. , 4.5, 1.5],\n",
              "        [6. , 3.4, 4.5, 1.6],\n",
              "        [6.7, 3.1, 4.7, 1.5],\n",
              "        [6.3, 2.3, 4.4, 1.3],\n",
              "        [5.6, 3. , 4.1, 1.3],\n",
              "        [5.5, 2.5, 4. , 1.3],\n",
              "        [5.5, 2.6, 4.4, 1.2],\n",
              "        [6.1, 3. , 4.6, 1.4],\n",
              "        [5.8, 2.6, 4. , 1.2],\n",
              "        [5. , 2.3, 3.3, 1. ],\n",
              "        [5.6, 2.7, 4.2, 1.3],\n",
              "        [5.7, 3. , 4.2, 1.2],\n",
              "        [5.7, 2.9, 4.2, 1.3],\n",
              "        [6.2, 2.9, 4.3, 1.3],\n",
              "        [5.1, 2.5, 3. , 1.1],\n",
              "        [5.7, 2.8, 4.1, 1.3],\n",
              "        [6.3, 3.3, 6. , 2.5],\n",
              "        [5.8, 2.7, 5.1, 1.9],\n",
              "        [7.1, 3. , 5.9, 2.1],\n",
              "        [6.3, 2.9, 5.6, 1.8],\n",
              "        [6.5, 3. , 5.8, 2.2],\n",
              "        [7.6, 3. , 6.6, 2.1],\n",
              "        [4.9, 2.5, 4.5, 1.7],\n",
              "        [7.3, 2.9, 6.3, 1.8],\n",
              "        [6.7, 2.5, 5.8, 1.8],\n",
              "        [7.2, 3.6, 6.1, 2.5],\n",
              "        [6.5, 3.2, 5.1, 2. ],\n",
              "        [6.4, 2.7, 5.3, 1.9],\n",
              "        [6.8, 3. , 5.5, 2.1],\n",
              "        [5.7, 2.5, 5. , 2. ],\n",
              "        [5.8, 2.8, 5.1, 2.4],\n",
              "        [6.4, 3.2, 5.3, 2.3],\n",
              "        [6.5, 3. , 5.5, 1.8],\n",
              "        [7.7, 3.8, 6.7, 2.2],\n",
              "        [7.7, 2.6, 6.9, 2.3],\n",
              "        [6. , 2.2, 5. , 1.5],\n",
              "        [6.9, 3.2, 5.7, 2.3],\n",
              "        [5.6, 2.8, 4.9, 2. ],\n",
              "        [7.7, 2.8, 6.7, 2. ],\n",
              "        [6.3, 2.7, 4.9, 1.8],\n",
              "        [6.7, 3.3, 5.7, 2.1],\n",
              "        [7.2, 3.2, 6. , 1.8],\n",
              "        [6.2, 2.8, 4.8, 1.8],\n",
              "        [6.1, 3. , 4.9, 1.8],\n",
              "        [6.4, 2.8, 5.6, 2.1],\n",
              "        [7.2, 3. , 5.8, 1.6],\n",
              "        [7.4, 2.8, 6.1, 1.9],\n",
              "        [7.9, 3.8, 6.4, 2. ],\n",
              "        [6.4, 2.8, 5.6, 2.2],\n",
              "        [6.3, 2.8, 5.1, 1.5],\n",
              "        [6.1, 2.6, 5.6, 1.4],\n",
              "        [7.7, 3. , 6.1, 2.3],\n",
              "        [6.3, 3.4, 5.6, 2.4],\n",
              "        [6.4, 3.1, 5.5, 1.8],\n",
              "        [6. , 3. , 4.8, 1.8],\n",
              "        [6.9, 3.1, 5.4, 2.1],\n",
              "        [6.7, 3.1, 5.6, 2.4],\n",
              "        [6.9, 3.1, 5.1, 2.3],\n",
              "        [5.8, 2.7, 5.1, 1.9],\n",
              "        [6.8, 3.2, 5.9, 2.3],\n",
              "        [6.7, 3.3, 5.7, 2.5],\n",
              "        [6.7, 3. , 5.2, 2.3],\n",
              "        [6.3, 2.5, 5. , 1.9],\n",
              "        [6.5, 3. , 5.2, 2. ],\n",
              "        [6.2, 3.4, 5.4, 2.3],\n",
              "        [5.9, 3. , 5.1, 1.8]]),\n",
              " 'feature_names': ['sepal length (cm)',\n",
              "  'sepal width (cm)',\n",
              "  'petal length (cm)',\n",
              "  'petal width (cm)'],\n",
              " 'filename': '/usr/local/lib/python3.7/dist-packages/sklearn/datasets/data/iris.csv',\n",
              " 'target': array([0, 0, 0, 0, 0, 0, 0, 0, 0, 0, 0, 0, 0, 0, 0, 0, 0, 0, 0, 0, 0, 0,\n",
              "        0, 0, 0, 0, 0, 0, 0, 0, 0, 0, 0, 0, 0, 0, 0, 0, 0, 0, 0, 0, 0, 0,\n",
              "        0, 0, 0, 0, 0, 0, 1, 1, 1, 1, 1, 1, 1, 1, 1, 1, 1, 1, 1, 1, 1, 1,\n",
              "        1, 1, 1, 1, 1, 1, 1, 1, 1, 1, 1, 1, 1, 1, 1, 1, 1, 1, 1, 1, 1, 1,\n",
              "        1, 1, 1, 1, 1, 1, 1, 1, 1, 1, 1, 1, 2, 2, 2, 2, 2, 2, 2, 2, 2, 2,\n",
              "        2, 2, 2, 2, 2, 2, 2, 2, 2, 2, 2, 2, 2, 2, 2, 2, 2, 2, 2, 2, 2, 2,\n",
              "        2, 2, 2, 2, 2, 2, 2, 2, 2, 2, 2, 2, 2, 2, 2, 2, 2, 2]),\n",
              " 'target_names': array(['setosa', 'versicolor', 'virginica'], dtype='<U10')}"
            ]
          },
          "metadata": {},
          "execution_count": 48
        }
      ]
    },
    {
      "cell_type": "code",
      "metadata": {
        "id": "KQv3jwnBqxJg",
        "colab": {
          "base_uri": "https://localhost:8080/",
          "height": 423
        },
        "outputId": "025530af-a72e-496c-bb22-342f7637a587"
      },
      "source": [
        " \n",
        "X=pd.DataFrame(iris.data)\n",
        "X"
      ],
      "execution_count": null,
      "outputs": [
        {
          "output_type": "execute_result",
          "data": {
            "text/html": [
              "<div>\n",
              "<style scoped>\n",
              "    .dataframe tbody tr th:only-of-type {\n",
              "        vertical-align: middle;\n",
              "    }\n",
              "\n",
              "    .dataframe tbody tr th {\n",
              "        vertical-align: top;\n",
              "    }\n",
              "\n",
              "    .dataframe thead th {\n",
              "        text-align: right;\n",
              "    }\n",
              "</style>\n",
              "<table border=\"1\" class=\"dataframe\">\n",
              "  <thead>\n",
              "    <tr style=\"text-align: right;\">\n",
              "      <th></th>\n",
              "      <th>0</th>\n",
              "      <th>1</th>\n",
              "      <th>2</th>\n",
              "      <th>3</th>\n",
              "    </tr>\n",
              "  </thead>\n",
              "  <tbody>\n",
              "    <tr>\n",
              "      <th>0</th>\n",
              "      <td>5.1</td>\n",
              "      <td>3.5</td>\n",
              "      <td>1.4</td>\n",
              "      <td>0.2</td>\n",
              "    </tr>\n",
              "    <tr>\n",
              "      <th>1</th>\n",
              "      <td>4.9</td>\n",
              "      <td>3.0</td>\n",
              "      <td>1.4</td>\n",
              "      <td>0.2</td>\n",
              "    </tr>\n",
              "    <tr>\n",
              "      <th>2</th>\n",
              "      <td>4.7</td>\n",
              "      <td>3.2</td>\n",
              "      <td>1.3</td>\n",
              "      <td>0.2</td>\n",
              "    </tr>\n",
              "    <tr>\n",
              "      <th>3</th>\n",
              "      <td>4.6</td>\n",
              "      <td>3.1</td>\n",
              "      <td>1.5</td>\n",
              "      <td>0.2</td>\n",
              "    </tr>\n",
              "    <tr>\n",
              "      <th>4</th>\n",
              "      <td>5.0</td>\n",
              "      <td>3.6</td>\n",
              "      <td>1.4</td>\n",
              "      <td>0.2</td>\n",
              "    </tr>\n",
              "    <tr>\n",
              "      <th>...</th>\n",
              "      <td>...</td>\n",
              "      <td>...</td>\n",
              "      <td>...</td>\n",
              "      <td>...</td>\n",
              "    </tr>\n",
              "    <tr>\n",
              "      <th>145</th>\n",
              "      <td>6.7</td>\n",
              "      <td>3.0</td>\n",
              "      <td>5.2</td>\n",
              "      <td>2.3</td>\n",
              "    </tr>\n",
              "    <tr>\n",
              "      <th>146</th>\n",
              "      <td>6.3</td>\n",
              "      <td>2.5</td>\n",
              "      <td>5.0</td>\n",
              "      <td>1.9</td>\n",
              "    </tr>\n",
              "    <tr>\n",
              "      <th>147</th>\n",
              "      <td>6.5</td>\n",
              "      <td>3.0</td>\n",
              "      <td>5.2</td>\n",
              "      <td>2.0</td>\n",
              "    </tr>\n",
              "    <tr>\n",
              "      <th>148</th>\n",
              "      <td>6.2</td>\n",
              "      <td>3.4</td>\n",
              "      <td>5.4</td>\n",
              "      <td>2.3</td>\n",
              "    </tr>\n",
              "    <tr>\n",
              "      <th>149</th>\n",
              "      <td>5.9</td>\n",
              "      <td>3.0</td>\n",
              "      <td>5.1</td>\n",
              "      <td>1.8</td>\n",
              "    </tr>\n",
              "  </tbody>\n",
              "</table>\n",
              "<p>150 rows × 4 columns</p>\n",
              "</div>"
            ],
            "text/plain": [
              "       0    1    2    3\n",
              "0    5.1  3.5  1.4  0.2\n",
              "1    4.9  3.0  1.4  0.2\n",
              "2    4.7  3.2  1.3  0.2\n",
              "3    4.6  3.1  1.5  0.2\n",
              "4    5.0  3.6  1.4  0.2\n",
              "..   ...  ...  ...  ...\n",
              "145  6.7  3.0  5.2  2.3\n",
              "146  6.3  2.5  5.0  1.9\n",
              "147  6.5  3.0  5.2  2.0\n",
              "148  6.2  3.4  5.4  2.3\n",
              "149  5.9  3.0  5.1  1.8\n",
              "\n",
              "[150 rows x 4 columns]"
            ]
          },
          "metadata": {},
          "execution_count": 49
        }
      ]
    },
    {
      "cell_type": "code",
      "metadata": {
        "id": "5OBI0a5aqzEP",
        "colab": {
          "base_uri": "https://localhost:8080/",
          "height": 226
        },
        "outputId": "f9628b97-b2bb-4aa4-eb5c-36f652915c10"
      },
      "source": [
        " \n",
        "X.shape\n",
        "(150,4)\n",
        "X.columns=['Sepal_length','Sepal_width','petal_length','petal_width']\n",
        "X.head()"
      ],
      "execution_count": null,
      "outputs": [
        {
          "output_type": "execute_result",
          "data": {
            "text/html": [
              "<div>\n",
              "<style scoped>\n",
              "    .dataframe tbody tr th:only-of-type {\n",
              "        vertical-align: middle;\n",
              "    }\n",
              "\n",
              "    .dataframe tbody tr th {\n",
              "        vertical-align: top;\n",
              "    }\n",
              "\n",
              "    .dataframe thead th {\n",
              "        text-align: right;\n",
              "    }\n",
              "</style>\n",
              "<table border=\"1\" class=\"dataframe\">\n",
              "  <thead>\n",
              "    <tr style=\"text-align: right;\">\n",
              "      <th></th>\n",
              "      <th>Sepal_length</th>\n",
              "      <th>Sepal_width</th>\n",
              "      <th>petal_length</th>\n",
              "      <th>petal_width</th>\n",
              "    </tr>\n",
              "  </thead>\n",
              "  <tbody>\n",
              "    <tr>\n",
              "      <th>0</th>\n",
              "      <td>5.1</td>\n",
              "      <td>3.5</td>\n",
              "      <td>1.4</td>\n",
              "      <td>0.2</td>\n",
              "    </tr>\n",
              "    <tr>\n",
              "      <th>1</th>\n",
              "      <td>4.9</td>\n",
              "      <td>3.0</td>\n",
              "      <td>1.4</td>\n",
              "      <td>0.2</td>\n",
              "    </tr>\n",
              "    <tr>\n",
              "      <th>2</th>\n",
              "      <td>4.7</td>\n",
              "      <td>3.2</td>\n",
              "      <td>1.3</td>\n",
              "      <td>0.2</td>\n",
              "    </tr>\n",
              "    <tr>\n",
              "      <th>3</th>\n",
              "      <td>4.6</td>\n",
              "      <td>3.1</td>\n",
              "      <td>1.5</td>\n",
              "      <td>0.2</td>\n",
              "    </tr>\n",
              "    <tr>\n",
              "      <th>4</th>\n",
              "      <td>5.0</td>\n",
              "      <td>3.6</td>\n",
              "      <td>1.4</td>\n",
              "      <td>0.2</td>\n",
              "    </tr>\n",
              "  </tbody>\n",
              "</table>\n",
              "</div>"
            ],
            "text/plain": [
              "   Sepal_length  Sepal_width  petal_length  petal_width\n",
              "0           5.1          3.5           1.4          0.2\n",
              "1           4.9          3.0           1.4          0.2\n",
              "2           4.7          3.2           1.3          0.2\n",
              "3           4.6          3.1           1.5          0.2\n",
              "4           5.0          3.6           1.4          0.2"
            ]
          },
          "metadata": {},
          "execution_count": 50
        }
      ]
    },
    {
      "cell_type": "code",
      "metadata": {
        "colab": {
          "base_uri": "https://localhost:8080/",
          "height": 226
        },
        "id": "bV-rLkbCrAU5",
        "outputId": "8d07c981-1d2e-49c1-d749-bddb69dbf59e"
      },
      "source": [
        " X.tail()"
      ],
      "execution_count": null,
      "outputs": [
        {
          "output_type": "execute_result",
          "data": {
            "text/html": [
              "<div>\n",
              "<style scoped>\n",
              "    .dataframe tbody tr th:only-of-type {\n",
              "        vertical-align: middle;\n",
              "    }\n",
              "\n",
              "    .dataframe tbody tr th {\n",
              "        vertical-align: top;\n",
              "    }\n",
              "\n",
              "    .dataframe thead th {\n",
              "        text-align: right;\n",
              "    }\n",
              "</style>\n",
              "<table border=\"1\" class=\"dataframe\">\n",
              "  <thead>\n",
              "    <tr style=\"text-align: right;\">\n",
              "      <th></th>\n",
              "      <th>Sepal_length</th>\n",
              "      <th>Sepal_width</th>\n",
              "      <th>petal_length</th>\n",
              "      <th>petal_width</th>\n",
              "    </tr>\n",
              "  </thead>\n",
              "  <tbody>\n",
              "    <tr>\n",
              "      <th>145</th>\n",
              "      <td>6.7</td>\n",
              "      <td>3.0</td>\n",
              "      <td>5.2</td>\n",
              "      <td>2.3</td>\n",
              "    </tr>\n",
              "    <tr>\n",
              "      <th>146</th>\n",
              "      <td>6.3</td>\n",
              "      <td>2.5</td>\n",
              "      <td>5.0</td>\n",
              "      <td>1.9</td>\n",
              "    </tr>\n",
              "    <tr>\n",
              "      <th>147</th>\n",
              "      <td>6.5</td>\n",
              "      <td>3.0</td>\n",
              "      <td>5.2</td>\n",
              "      <td>2.0</td>\n",
              "    </tr>\n",
              "    <tr>\n",
              "      <th>148</th>\n",
              "      <td>6.2</td>\n",
              "      <td>3.4</td>\n",
              "      <td>5.4</td>\n",
              "      <td>2.3</td>\n",
              "    </tr>\n",
              "    <tr>\n",
              "      <th>149</th>\n",
              "      <td>5.9</td>\n",
              "      <td>3.0</td>\n",
              "      <td>5.1</td>\n",
              "      <td>1.8</td>\n",
              "    </tr>\n",
              "  </tbody>\n",
              "</table>\n",
              "</div>"
            ],
            "text/plain": [
              "     Sepal_length  Sepal_width  petal_length  petal_width\n",
              "145           6.7          3.0           5.2          2.3\n",
              "146           6.3          2.5           5.0          1.9\n",
              "147           6.5          3.0           5.2          2.0\n",
              "148           6.2          3.4           5.4          2.3\n",
              "149           5.9          3.0           5.1          1.8"
            ]
          },
          "metadata": {},
          "execution_count": 51
        }
      ]
    },
    {
      "cell_type": "code",
      "metadata": {
        "colab": {
          "base_uri": "https://localhost:8080/",
          "height": 320
        },
        "id": "mx_2d9LDrDmo",
        "outputId": "adf16e86-a181-425d-b7ed-94c5c2d0cf44"
      },
      "source": [
        " X.describe()"
      ],
      "execution_count": null,
      "outputs": [
        {
          "output_type": "execute_result",
          "data": {
            "text/html": [
              "<div>\n",
              "<style scoped>\n",
              "    .dataframe tbody tr th:only-of-type {\n",
              "        vertical-align: middle;\n",
              "    }\n",
              "\n",
              "    .dataframe tbody tr th {\n",
              "        vertical-align: top;\n",
              "    }\n",
              "\n",
              "    .dataframe thead th {\n",
              "        text-align: right;\n",
              "    }\n",
              "</style>\n",
              "<table border=\"1\" class=\"dataframe\">\n",
              "  <thead>\n",
              "    <tr style=\"text-align: right;\">\n",
              "      <th></th>\n",
              "      <th>Sepal_length</th>\n",
              "      <th>Sepal_width</th>\n",
              "      <th>petal_length</th>\n",
              "      <th>petal_width</th>\n",
              "    </tr>\n",
              "  </thead>\n",
              "  <tbody>\n",
              "    <tr>\n",
              "      <th>count</th>\n",
              "      <td>150.000000</td>\n",
              "      <td>150.000000</td>\n",
              "      <td>150.000000</td>\n",
              "      <td>150.000000</td>\n",
              "    </tr>\n",
              "    <tr>\n",
              "      <th>mean</th>\n",
              "      <td>5.843333</td>\n",
              "      <td>3.057333</td>\n",
              "      <td>3.758000</td>\n",
              "      <td>1.199333</td>\n",
              "    </tr>\n",
              "    <tr>\n",
              "      <th>std</th>\n",
              "      <td>0.828066</td>\n",
              "      <td>0.435866</td>\n",
              "      <td>1.765298</td>\n",
              "      <td>0.762238</td>\n",
              "    </tr>\n",
              "    <tr>\n",
              "      <th>min</th>\n",
              "      <td>4.300000</td>\n",
              "      <td>2.000000</td>\n",
              "      <td>1.000000</td>\n",
              "      <td>0.100000</td>\n",
              "    </tr>\n",
              "    <tr>\n",
              "      <th>25%</th>\n",
              "      <td>5.100000</td>\n",
              "      <td>2.800000</td>\n",
              "      <td>1.600000</td>\n",
              "      <td>0.300000</td>\n",
              "    </tr>\n",
              "    <tr>\n",
              "      <th>50%</th>\n",
              "      <td>5.800000</td>\n",
              "      <td>3.000000</td>\n",
              "      <td>4.350000</td>\n",
              "      <td>1.300000</td>\n",
              "    </tr>\n",
              "    <tr>\n",
              "      <th>75%</th>\n",
              "      <td>6.400000</td>\n",
              "      <td>3.300000</td>\n",
              "      <td>5.100000</td>\n",
              "      <td>1.800000</td>\n",
              "    </tr>\n",
              "    <tr>\n",
              "      <th>max</th>\n",
              "      <td>7.900000</td>\n",
              "      <td>4.400000</td>\n",
              "      <td>6.900000</td>\n",
              "      <td>2.500000</td>\n",
              "    </tr>\n",
              "  </tbody>\n",
              "</table>\n",
              "</div>"
            ],
            "text/plain": [
              "       Sepal_length  Sepal_width  petal_length  petal_width\n",
              "count    150.000000   150.000000    150.000000   150.000000\n",
              "mean       5.843333     3.057333      3.758000     1.199333\n",
              "std        0.828066     0.435866      1.765298     0.762238\n",
              "min        4.300000     2.000000      1.000000     0.100000\n",
              "25%        5.100000     2.800000      1.600000     0.300000\n",
              "50%        5.800000     3.000000      4.350000     1.300000\n",
              "75%        6.400000     3.300000      5.100000     1.800000\n",
              "max        7.900000     4.400000      6.900000     2.500000"
            ]
          },
          "metadata": {},
          "execution_count": 52
        }
      ]
    },
    {
      "cell_type": "code",
      "metadata": {
        "colab": {
          "base_uri": "https://localhost:8080/",
          "height": 194
        },
        "id": "XAiPXhf7rIhn",
        "outputId": "9b0945fc-beee-4b1b-97c7-f0b8c208d326"
      },
      "source": [
        " X.cov()"
      ],
      "execution_count": null,
      "outputs": [
        {
          "output_type": "execute_result",
          "data": {
            "text/html": [
              "<div>\n",
              "<style scoped>\n",
              "    .dataframe tbody tr th:only-of-type {\n",
              "        vertical-align: middle;\n",
              "    }\n",
              "\n",
              "    .dataframe tbody tr th {\n",
              "        vertical-align: top;\n",
              "    }\n",
              "\n",
              "    .dataframe thead th {\n",
              "        text-align: right;\n",
              "    }\n",
              "</style>\n",
              "<table border=\"1\" class=\"dataframe\">\n",
              "  <thead>\n",
              "    <tr style=\"text-align: right;\">\n",
              "      <th></th>\n",
              "      <th>Sepal_length</th>\n",
              "      <th>Sepal_width</th>\n",
              "      <th>petal_length</th>\n",
              "      <th>petal_width</th>\n",
              "    </tr>\n",
              "  </thead>\n",
              "  <tbody>\n",
              "    <tr>\n",
              "      <th>Sepal_length</th>\n",
              "      <td>0.685694</td>\n",
              "      <td>-0.042434</td>\n",
              "      <td>1.274315</td>\n",
              "      <td>0.516271</td>\n",
              "    </tr>\n",
              "    <tr>\n",
              "      <th>Sepal_width</th>\n",
              "      <td>-0.042434</td>\n",
              "      <td>0.189979</td>\n",
              "      <td>-0.329656</td>\n",
              "      <td>-0.121639</td>\n",
              "    </tr>\n",
              "    <tr>\n",
              "      <th>petal_length</th>\n",
              "      <td>1.274315</td>\n",
              "      <td>-0.329656</td>\n",
              "      <td>3.116278</td>\n",
              "      <td>1.295609</td>\n",
              "    </tr>\n",
              "    <tr>\n",
              "      <th>petal_width</th>\n",
              "      <td>0.516271</td>\n",
              "      <td>-0.121639</td>\n",
              "      <td>1.295609</td>\n",
              "      <td>0.581006</td>\n",
              "    </tr>\n",
              "  </tbody>\n",
              "</table>\n",
              "</div>"
            ],
            "text/plain": [
              "              Sepal_length  Sepal_width  petal_length  petal_width\n",
              "Sepal_length      0.685694    -0.042434      1.274315     0.516271\n",
              "Sepal_width      -0.042434     0.189979     -0.329656    -0.121639\n",
              "petal_length      1.274315    -0.329656      3.116278     1.295609\n",
              "petal_width       0.516271    -0.121639      1.295609     0.581006"
            ]
          },
          "metadata": {},
          "execution_count": 53
        }
      ]
    },
    {
      "cell_type": "code",
      "metadata": {
        "colab": {
          "base_uri": "https://localhost:8080/",
          "height": 194
        },
        "id": "ynLmXGB-rKk9",
        "outputId": "ff2b4a79-6844-46e8-c504-372af2ca5634"
      },
      "source": [
        " X.corr()"
      ],
      "execution_count": null,
      "outputs": [
        {
          "output_type": "execute_result",
          "data": {
            "text/html": [
              "<div>\n",
              "<style scoped>\n",
              "    .dataframe tbody tr th:only-of-type {\n",
              "        vertical-align: middle;\n",
              "    }\n",
              "\n",
              "    .dataframe tbody tr th {\n",
              "        vertical-align: top;\n",
              "    }\n",
              "\n",
              "    .dataframe thead th {\n",
              "        text-align: right;\n",
              "    }\n",
              "</style>\n",
              "<table border=\"1\" class=\"dataframe\">\n",
              "  <thead>\n",
              "    <tr style=\"text-align: right;\">\n",
              "      <th></th>\n",
              "      <th>Sepal_length</th>\n",
              "      <th>Sepal_width</th>\n",
              "      <th>petal_length</th>\n",
              "      <th>petal_width</th>\n",
              "    </tr>\n",
              "  </thead>\n",
              "  <tbody>\n",
              "    <tr>\n",
              "      <th>Sepal_length</th>\n",
              "      <td>1.000000</td>\n",
              "      <td>-0.117570</td>\n",
              "      <td>0.871754</td>\n",
              "      <td>0.817941</td>\n",
              "    </tr>\n",
              "    <tr>\n",
              "      <th>Sepal_width</th>\n",
              "      <td>-0.117570</td>\n",
              "      <td>1.000000</td>\n",
              "      <td>-0.428440</td>\n",
              "      <td>-0.366126</td>\n",
              "    </tr>\n",
              "    <tr>\n",
              "      <th>petal_length</th>\n",
              "      <td>0.871754</td>\n",
              "      <td>-0.428440</td>\n",
              "      <td>1.000000</td>\n",
              "      <td>0.962865</td>\n",
              "    </tr>\n",
              "    <tr>\n",
              "      <th>petal_width</th>\n",
              "      <td>0.817941</td>\n",
              "      <td>-0.366126</td>\n",
              "      <td>0.962865</td>\n",
              "      <td>1.000000</td>\n",
              "    </tr>\n",
              "  </tbody>\n",
              "</table>\n",
              "</div>"
            ],
            "text/plain": [
              "              Sepal_length  Sepal_width  petal_length  petal_width\n",
              "Sepal_length      1.000000    -0.117570      0.871754     0.817941\n",
              "Sepal_width      -0.117570     1.000000     -0.428440    -0.366126\n",
              "petal_length      0.871754    -0.428440      1.000000     0.962865\n",
              "petal_width       0.817941    -0.366126      0.962865     1.000000"
            ]
          },
          "metadata": {},
          "execution_count": 54
        }
      ]
    },
    {
      "cell_type": "code",
      "metadata": {
        "colab": {
          "base_uri": "https://localhost:8080/"
        },
        "id": "kEyqCmhIrMOE",
        "outputId": "83ae6793-e7b0-4bb8-ae72-04473576ba8a"
      },
      "source": [
        " \n",
        "import numpy as np\n",
        "df=pd.DataFrame({'Name':['Pooji','Nani','Chinni','Chikki'],'state':['IND','USA','UK','USSR'],'Grade':['A','A','B','C'],'Age':np.random.uniform(24,35,size=4),'salary':np.random.uniform(3000,5000,size=4),})\n",
        "print(df)"
      ],
      "execution_count": null,
      "outputs": [
        {
          "output_type": "stream",
          "name": "stdout",
          "text": [
            "     Name state Grade        Age       salary\n",
            "0   Pooji   IND     A  34.826479  3395.119884\n",
            "1    Nani   USA     A  34.843211  4071.823599\n",
            "2  Chinni    UK     B  25.493221  3956.471635\n",
            "3  Chikki  USSR     C  27.916925  3099.535636\n"
          ]
        }
      ]
    },
    {
      "cell_type": "code",
      "metadata": {
        "colab": {
          "base_uri": "https://localhost:8080/",
          "height": 226
        },
        "id": "pb1q1njXrOhq",
        "outputId": "faff1ce5-5ab4-4ed3-a9cf-e0277dd960da"
      },
      "source": [
        " \n",
        "import numpy as np\n",
        "import pandas as pd\n",
        "df=pd.DataFrame({'Name':['Pooji','Nani','Chinni','Chikki'],'state':['IND','USA','UK','USSR'],'Grade':['A','A','B','C'],'Age':np.random.uniform(24,35,size=4),'salary':np.random.uniform(3000,5000,size=4),})\n",
        "df.groupby(['Name','state']).max()"
      ],
      "execution_count": null,
      "outputs": [
        {
          "output_type": "execute_result",
          "data": {
            "text/html": [
              "<div>\n",
              "<style scoped>\n",
              "    .dataframe tbody tr th:only-of-type {\n",
              "        vertical-align: middle;\n",
              "    }\n",
              "\n",
              "    .dataframe tbody tr th {\n",
              "        vertical-align: top;\n",
              "    }\n",
              "\n",
              "    .dataframe thead th {\n",
              "        text-align: right;\n",
              "    }\n",
              "</style>\n",
              "<table border=\"1\" class=\"dataframe\">\n",
              "  <thead>\n",
              "    <tr style=\"text-align: right;\">\n",
              "      <th></th>\n",
              "      <th></th>\n",
              "      <th>Grade</th>\n",
              "      <th>Age</th>\n",
              "      <th>salary</th>\n",
              "    </tr>\n",
              "    <tr>\n",
              "      <th>Name</th>\n",
              "      <th>state</th>\n",
              "      <th></th>\n",
              "      <th></th>\n",
              "      <th></th>\n",
              "    </tr>\n",
              "  </thead>\n",
              "  <tbody>\n",
              "    <tr>\n",
              "      <th>Chikki</th>\n",
              "      <th>USSR</th>\n",
              "      <td>C</td>\n",
              "      <td>32.681998</td>\n",
              "      <td>4214.971715</td>\n",
              "    </tr>\n",
              "    <tr>\n",
              "      <th>Chinni</th>\n",
              "      <th>UK</th>\n",
              "      <td>B</td>\n",
              "      <td>31.264669</td>\n",
              "      <td>4189.199576</td>\n",
              "    </tr>\n",
              "    <tr>\n",
              "      <th>Nani</th>\n",
              "      <th>USA</th>\n",
              "      <td>A</td>\n",
              "      <td>34.313522</td>\n",
              "      <td>4506.483010</td>\n",
              "    </tr>\n",
              "    <tr>\n",
              "      <th>Pooji</th>\n",
              "      <th>IND</th>\n",
              "      <td>A</td>\n",
              "      <td>32.351809</td>\n",
              "      <td>3908.031170</td>\n",
              "    </tr>\n",
              "  </tbody>\n",
              "</table>\n",
              "</div>"
            ],
            "text/plain": [
              "             Grade        Age       salary\n",
              "Name   state                              \n",
              "Chikki USSR      C  32.681998  4214.971715\n",
              "Chinni UK        B  31.264669  4189.199576\n",
              "Nani   USA       A  34.313522  4506.483010\n",
              "Pooji  IND       A  32.351809  3908.031170"
            ]
          },
          "metadata": {},
          "execution_count": 56
        }
      ]
    },
    {
      "cell_type": "markdown",
      "metadata": {
        "id": "keAt5q9VrQYJ"
      },
      "source": [
        " # **Scipy**"
      ]
    },
    {
      "cell_type": "code",
      "metadata": {
        "colab": {
          "base_uri": "https://localhost:8080/"
        },
        "id": "zjYYgsXbrR1m",
        "outputId": "63015ddb-e9ef-4f0e-9658-a3e36535028a"
      },
      "source": [
        " \n",
        "import numpy as np\n",
        "np.linspace(1.,4.,6)"
      ],
      "execution_count": null,
      "outputs": [
        {
          "output_type": "execute_result",
          "data": {
            "text/plain": [
              "array([1. , 1.6, 2.2, 2.8, 3.4, 4. ])"
            ]
          },
          "metadata": {},
          "execution_count": 57
        }
      ]
    },
    {
      "cell_type": "code",
      "metadata": {
        "colab": {
          "base_uri": "https://localhost:8080/"
        },
        "id": "vzqeDl_frToG",
        "outputId": "442b8128-dece-49b0-e062-f70aeac0e5e4"
      },
      "source": [
        " \n",
        "from scipy.cluster.vq import kmeans,vq,whiten\n",
        "from numpy import vstack,array\n",
        "from numpy.random import rand\n",
        " \n",
        "data=vstack((rand(100,3)+array([.5,.5,.5]),rand(100,3)))\n",
        "data"
      ],
      "execution_count": null,
      "outputs": [
        {
          "output_type": "execute_result",
          "data": {
            "text/plain": [
              "array([[1.15346829e+00, 1.08145637e+00, 1.25021756e+00],\n",
              "       [5.50543440e-01, 1.36215010e+00, 1.08724887e+00],\n",
              "       [6.15065801e-01, 8.77480414e-01, 1.41603333e+00],\n",
              "       [1.01910773e+00, 8.44167811e-01, 1.24485813e+00],\n",
              "       [7.55636996e-01, 6.49642760e-01, 5.96531907e-01],\n",
              "       [1.03499293e+00, 1.30830362e+00, 1.34014322e+00],\n",
              "       [1.14270533e+00, 7.95223529e-01, 1.28220832e+00],\n",
              "       [1.38314790e+00, 6.74840628e-01, 1.13276917e+00],\n",
              "       [1.36128687e+00, 1.17550931e+00, 9.93840952e-01],\n",
              "       [1.04379790e+00, 9.71947968e-01, 1.05294600e+00],\n",
              "       [6.86727627e-01, 1.46048862e+00, 5.88782668e-01],\n",
              "       [5.48598466e-01, 5.28137349e-01, 1.15702181e+00],\n",
              "       [1.29214176e+00, 1.47043275e+00, 1.23678036e+00],\n",
              "       [1.19669163e+00, 1.49584904e+00, 6.01737824e-01],\n",
              "       [7.54487476e-01, 5.98890009e-01, 7.73372449e-01],\n",
              "       [1.07906008e+00, 1.25405498e+00, 1.01135842e+00],\n",
              "       [1.18613733e+00, 7.86440914e-01, 5.29646241e-01],\n",
              "       [8.27755037e-01, 9.86470636e-01, 1.09128322e+00],\n",
              "       [1.41874901e+00, 7.80593119e-01, 1.19732142e+00],\n",
              "       [1.32928294e+00, 1.37004948e+00, 1.16450545e+00],\n",
              "       [1.40849331e+00, 1.04714014e+00, 8.90142483e-01],\n",
              "       [6.93723125e-01, 7.63734531e-01, 1.30965740e+00],\n",
              "       [1.08702894e+00, 1.36808964e+00, 7.52358880e-01],\n",
              "       [5.22050815e-01, 6.03539246e-01, 9.58751063e-01],\n",
              "       [1.22283939e+00, 8.27409156e-01, 8.62274499e-01],\n",
              "       [1.09834395e+00, 1.06331133e+00, 1.46019397e+00],\n",
              "       [7.57782839e-01, 1.08572588e+00, 8.12082379e-01],\n",
              "       [1.23168605e+00, 6.87561967e-01, 1.43043850e+00],\n",
              "       [1.24624562e+00, 9.92770278e-01, 9.96393729e-01],\n",
              "       [1.41220379e+00, 1.00729207e+00, 1.45076174e+00],\n",
              "       [1.15940375e+00, 8.28537117e-01, 9.64482800e-01],\n",
              "       [1.24867594e+00, 1.00880897e+00, 7.19349858e-01],\n",
              "       [5.95560819e-01, 1.44125886e+00, 1.04014670e+00],\n",
              "       [1.21519317e+00, 1.41553966e+00, 1.21556223e+00],\n",
              "       [1.30338975e+00, 6.26080770e-01, 1.10306155e+00],\n",
              "       [1.29213963e+00, 1.09918749e+00, 1.31750598e+00],\n",
              "       [1.27438921e+00, 1.33525872e+00, 7.44456402e-01],\n",
              "       [1.10361568e+00, 1.26401588e+00, 1.01216441e+00],\n",
              "       [9.51253314e-01, 9.09357129e-01, 8.95737429e-01],\n",
              "       [1.06771151e+00, 1.45679772e+00, 7.02278339e-01],\n",
              "       [1.26662928e+00, 7.41696047e-01, 5.92113634e-01],\n",
              "       [1.03391536e+00, 1.35154902e+00, 7.79615596e-01],\n",
              "       [8.41790544e-01, 9.30657570e-01, 1.42270474e+00],\n",
              "       [9.83943492e-01, 1.35231478e+00, 5.95825378e-01],\n",
              "       [1.38429862e+00, 6.42966631e-01, 9.30986454e-01],\n",
              "       [1.12548353e+00, 6.10409663e-01, 9.74803522e-01],\n",
              "       [1.27995179e+00, 1.12929249e+00, 1.36447948e+00],\n",
              "       [8.25956226e-01, 5.82167088e-01, 7.88904305e-01],\n",
              "       [5.38912344e-01, 1.19464154e+00, 1.39095392e+00],\n",
              "       [1.03208466e+00, 5.74905197e-01, 9.82844328e-01],\n",
              "       [1.20668074e+00, 8.06948018e-01, 5.95905828e-01],\n",
              "       [8.32505676e-01, 1.08865165e+00, 7.07791856e-01],\n",
              "       [6.20002247e-01, 1.26958927e+00, 1.23114356e+00],\n",
              "       [5.09174605e-01, 9.86917581e-01, 9.19964426e-01],\n",
              "       [1.35097357e+00, 1.28526670e+00, 8.49003066e-01],\n",
              "       [7.23976456e-01, 1.29863074e+00, 8.98915021e-01],\n",
              "       [7.73044877e-01, 7.32708600e-01, 6.56301468e-01],\n",
              "       [7.39655429e-01, 5.16362132e-01, 1.18215636e+00],\n",
              "       [1.27470181e+00, 6.38393545e-01, 7.76371476e-01],\n",
              "       [1.36587866e+00, 1.22431667e+00, 1.32663757e+00],\n",
              "       [8.85405470e-01, 1.43900978e+00, 9.98838062e-01],\n",
              "       [1.39557064e+00, 7.72336643e-01, 1.03051038e+00],\n",
              "       [5.65489189e-01, 1.46548834e+00, 1.24757826e+00],\n",
              "       [8.12785909e-01, 9.70349118e-01, 6.89970870e-01],\n",
              "       [7.51856049e-01, 6.02312151e-01, 1.29058120e+00],\n",
              "       [8.38546567e-01, 9.45753830e-01, 1.30399859e+00],\n",
              "       [1.12586233e+00, 1.00564536e+00, 5.42374201e-01],\n",
              "       [7.28307460e-01, 1.23892000e+00, 6.03711273e-01],\n",
              "       [9.87076819e-01, 8.44025087e-01, 8.32744742e-01],\n",
              "       [6.24719010e-01, 1.26290911e+00, 7.34278683e-01],\n",
              "       [1.20872280e+00, 1.11413350e+00, 6.91217285e-01],\n",
              "       [8.16148431e-01, 6.43221557e-01, 1.09723837e+00],\n",
              "       [1.10187493e+00, 8.43720085e-01, 1.48332767e+00],\n",
              "       [9.64193183e-01, 9.88460180e-01, 1.44400888e+00],\n",
              "       [9.54520012e-01, 1.06612217e+00, 9.00740651e-01],\n",
              "       [8.52734119e-01, 9.82175442e-01, 1.16013589e+00],\n",
              "       [1.29166769e+00, 9.13713989e-01, 1.35563029e+00],\n",
              "       [7.99871371e-01, 7.71100581e-01, 1.35261815e+00],\n",
              "       [8.35374947e-01, 1.26195714e+00, 8.92131332e-01],\n",
              "       [9.18702157e-01, 8.66311652e-01, 1.21382919e+00],\n",
              "       [1.45015441e+00, 9.05526542e-01, 9.28249027e-01],\n",
              "       [9.19226942e-01, 1.01900636e+00, 1.29195943e+00],\n",
              "       [1.07360500e+00, 1.04659968e+00, 9.80380290e-01],\n",
              "       [7.60925896e-01, 8.37927756e-01, 1.02905425e+00],\n",
              "       [5.50429514e-01, 5.37750472e-01, 1.18088169e+00],\n",
              "       [1.36897142e+00, 5.37573090e-01, 6.81481883e-01],\n",
              "       [6.80055033e-01, 9.15413313e-01, 1.00278348e+00],\n",
              "       [1.17787441e+00, 9.40642133e-01, 1.37798771e+00],\n",
              "       [1.29920355e+00, 1.43021851e+00, 1.15344742e+00],\n",
              "       [1.35130123e+00, 1.11557353e+00, 6.91665948e-01],\n",
              "       [1.23126019e+00, 1.41216185e+00, 1.35099416e+00],\n",
              "       [7.80981952e-01, 1.44910505e+00, 1.47647477e+00],\n",
              "       [1.19834598e+00, 1.25188135e+00, 1.08475476e+00],\n",
              "       [5.44466031e-01, 1.49062445e+00, 6.80549354e-01],\n",
              "       [1.38354581e+00, 8.64295022e-01, 7.06589495e-01],\n",
              "       [1.20768646e+00, 1.10131955e+00, 1.20202914e+00],\n",
              "       [1.42753038e+00, 1.33810719e+00, 1.42063709e+00],\n",
              "       [7.22847266e-01, 1.36799838e+00, 8.36651925e-01],\n",
              "       [1.22461412e+00, 9.60764857e-01, 1.20865244e+00],\n",
              "       [1.40869799e+00, 1.25590693e+00, 1.34190783e+00],\n",
              "       [6.66922402e-01, 3.82293956e-01, 3.62981410e-01],\n",
              "       [3.09295286e-01, 4.50447077e-01, 3.19811935e-01],\n",
              "       [3.50980233e-02, 8.01416898e-01, 5.09763506e-01],\n",
              "       [1.79033001e-01, 1.51050104e-01, 6.92557204e-01],\n",
              "       [3.57673429e-01, 1.48486841e-01, 6.17445165e-01],\n",
              "       [2.50255526e-01, 5.26014354e-01, 2.62365447e-01],\n",
              "       [3.66598214e-01, 5.93549724e-01, 9.72505779e-01],\n",
              "       [9.61921872e-01, 4.20524947e-01, 8.19491755e-01],\n",
              "       [7.64225245e-01, 9.79078859e-02, 1.75901082e-01],\n",
              "       [1.93720734e-01, 7.72498749e-01, 4.65831549e-02],\n",
              "       [3.90138588e-01, 3.64297321e-01, 8.47251021e-01],\n",
              "       [4.97720048e-01, 3.26334367e-01, 8.29930246e-01],\n",
              "       [1.72898639e-01, 6.67189629e-02, 3.65306130e-01],\n",
              "       [6.91328081e-01, 3.82404216e-01, 7.29311657e-01],\n",
              "       [5.65609211e-01, 2.36606097e-01, 6.34960456e-02],\n",
              "       [3.66809240e-01, 8.08622447e-01, 7.58705078e-01],\n",
              "       [9.04157301e-01, 6.34098561e-01, 7.59054961e-01],\n",
              "       [4.58199380e-01, 2.89489909e-01, 8.12634065e-01],\n",
              "       [7.21907809e-01, 2.10096520e-01, 6.17286521e-01],\n",
              "       [8.74740856e-01, 6.32221995e-01, 2.71257045e-01],\n",
              "       [8.73709212e-01, 3.97202203e-01, 7.82950144e-01],\n",
              "       [2.08225478e-01, 3.21673597e-03, 6.52457751e-01],\n",
              "       [1.35294641e-01, 5.26966521e-01, 7.08601650e-01],\n",
              "       [4.92883167e-01, 8.88893821e-01, 6.15888565e-01],\n",
              "       [1.69178839e-02, 2.23914494e-01, 6.68483616e-02],\n",
              "       [9.24492969e-01, 5.50498508e-01, 6.29192311e-02],\n",
              "       [3.91098139e-01, 6.25391669e-01, 8.73833793e-01],\n",
              "       [4.61973997e-01, 2.95669493e-01, 8.12331697e-01],\n",
              "       [8.09337085e-01, 4.54232924e-02, 6.38904890e-01],\n",
              "       [4.56629936e-01, 6.96166686e-02, 5.19817686e-01],\n",
              "       [4.11981957e-01, 6.67458309e-02, 2.49689571e-01],\n",
              "       [2.19602442e-01, 3.48486594e-01, 2.89208161e-01],\n",
              "       [9.11435088e-01, 9.13126337e-01, 9.25964667e-01],\n",
              "       [6.73863890e-01, 7.04361131e-01, 3.89428990e-01],\n",
              "       [1.91446831e-01, 7.03637570e-01, 7.83983438e-01],\n",
              "       [1.81267280e-01, 5.99864339e-01, 9.47543596e-02],\n",
              "       [5.80920643e-01, 2.90446013e-01, 9.63854559e-01],\n",
              "       [9.34951818e-01, 4.23720090e-02, 2.07647090e-01],\n",
              "       [4.27809237e-01, 1.39745331e-01, 6.62855894e-01],\n",
              "       [6.78322984e-01, 4.06654915e-02, 1.65653174e-01],\n",
              "       [3.52049216e-01, 7.51355476e-01, 2.42470872e-01],\n",
              "       [8.70903231e-01, 1.54251856e-01, 7.31883145e-01],\n",
              "       [4.96176324e-01, 9.31301485e-01, 6.35570615e-01],\n",
              "       [8.68900009e-01, 8.51724362e-01, 1.91849094e-01],\n",
              "       [2.51398902e-01, 7.81748434e-01, 7.95336587e-01],\n",
              "       [6.24345932e-01, 1.02516892e-01, 8.68086185e-01],\n",
              "       [8.14204102e-01, 9.58301962e-01, 3.39612350e-01],\n",
              "       [3.75183565e-01, 4.81905154e-01, 2.65963702e-01],\n",
              "       [3.01992684e-01, 5.92778058e-01, 8.51085938e-01],\n",
              "       [5.24464800e-01, 8.18068744e-01, 9.24661388e-01],\n",
              "       [4.58719885e-02, 5.31966683e-01, 3.10605610e-01],\n",
              "       [6.43398935e-01, 6.20061517e-01, 7.33209788e-01],\n",
              "       [5.91804745e-02, 4.17597966e-01, 4.56980146e-01],\n",
              "       [7.93460675e-01, 7.74833136e-01, 4.06921572e-01],\n",
              "       [5.87728978e-01, 2.30928290e-01, 9.80452214e-01],\n",
              "       [3.75275501e-01, 2.27297430e-01, 7.56871929e-02],\n",
              "       [5.54861547e-01, 3.93842054e-02, 9.15174082e-01],\n",
              "       [3.69727493e-01, 7.32350383e-01, 2.00403350e-01],\n",
              "       [5.81209335e-01, 4.40018740e-01, 4.97838774e-01],\n",
              "       [8.69348080e-01, 2.05129831e-01, 7.65348746e-01],\n",
              "       [4.68346727e-01, 9.70138329e-01, 6.45714274e-01],\n",
              "       [1.13613542e-01, 3.51019256e-01, 2.08872994e-01],\n",
              "       [5.80420103e-01, 2.66628437e-01, 3.93211184e-01],\n",
              "       [6.75295352e-01, 4.03719147e-01, 9.44075627e-01],\n",
              "       [6.66808455e-01, 4.80585052e-01, 2.81126049e-01],\n",
              "       [9.35096774e-01, 5.36749019e-01, 8.14091751e-01],\n",
              "       [1.32509082e-01, 2.08450973e-01, 9.01647396e-01],\n",
              "       [3.75684116e-01, 3.58316289e-01, 5.03448736e-01],\n",
              "       [7.64363902e-01, 5.95119354e-01, 8.15077470e-01],\n",
              "       [8.86498864e-01, 3.16704737e-01, 1.49520595e-01],\n",
              "       [9.57379813e-01, 1.27556615e-01, 1.11680275e-01],\n",
              "       [6.93365394e-01, 3.21846812e-01, 7.11454956e-02],\n",
              "       [5.15351534e-01, 6.01719766e-01, 6.71760759e-01],\n",
              "       [7.01307028e-01, 4.01930500e-01, 9.66653930e-01],\n",
              "       [4.83539773e-02, 5.13875354e-01, 7.01060164e-01],\n",
              "       [3.76743561e-01, 2.69053096e-01, 1.38435918e-01],\n",
              "       [5.56652912e-01, 1.38657246e-01, 4.39939725e-01],\n",
              "       [1.86347799e-02, 4.19246639e-01, 6.84537496e-01],\n",
              "       [3.36133835e-02, 8.82167003e-01, 7.50763997e-01],\n",
              "       [5.59408864e-01, 2.85226972e-01, 2.86458174e-01],\n",
              "       [8.75991497e-01, 9.99430391e-01, 7.57576158e-01],\n",
              "       [2.68728683e-01, 3.78746133e-01, 6.38567426e-01],\n",
              "       [1.08305727e-01, 2.96219209e-01, 8.47002725e-01],\n",
              "       [6.12874003e-01, 9.40477973e-01, 8.79815778e-01],\n",
              "       [6.33073474e-01, 7.70708708e-01, 2.75828288e-01],\n",
              "       [5.40453991e-01, 2.25534476e-01, 5.77471620e-01],\n",
              "       [8.71245027e-01, 6.95663871e-04, 6.53486359e-01],\n",
              "       [4.15348072e-01, 4.37871225e-02, 3.11489737e-01],\n",
              "       [2.73861862e-01, 1.66564124e-01, 7.22284987e-01],\n",
              "       [3.80669756e-01, 7.55413467e-01, 5.37275231e-02],\n",
              "       [8.77891675e-01, 9.38552411e-01, 2.84677870e-01],\n",
              "       [9.34332203e-02, 1.76897123e-02, 4.18311511e-02],\n",
              "       [6.47834528e-01, 7.59511625e-01, 9.53162442e-01],\n",
              "       [8.48744554e-01, 5.12219810e-01, 7.11730056e-01],\n",
              "       [5.77446787e-02, 4.13091350e-01, 7.25154028e-01],\n",
              "       [5.69914989e-02, 2.05922728e-01, 6.78424383e-01],\n",
              "       [1.41099281e-01, 3.09561313e-01, 9.17905244e-02],\n",
              "       [6.47768221e-02, 1.14751748e-01, 7.91049618e-01],\n",
              "       [8.43595751e-01, 9.11719064e-01, 6.46735589e-01],\n",
              "       [2.90757826e-02, 1.11451335e-01, 5.07451207e-01]])"
            ]
          },
          "metadata": {},
          "execution_count": 58
        }
      ]
    },
    {
      "cell_type": "code",
      "metadata": {
        "colab": {
          "base_uri": "https://localhost:8080/"
        },
        "id": "wPZwBvTHrWi6",
        "outputId": "57dd4ec9-a342-4de6-bb50-ec3a828a6e33"
      },
      "source": [
        " \n",
        "data=whiten(data)\n",
        "data"
      ],
      "execution_count": null,
      "outputs": [
        {
          "output_type": "execute_result",
          "data": {
            "text/plain": [
              "array([[2.98742139e+00, 2.67285895e+00, 3.38290834e+00],\n",
              "       [1.42587816e+00, 3.36660378e+00, 2.94193858e+00],\n",
              "       [1.59298764e+00, 2.16872492e+00, 3.83158189e+00],\n",
              "       [2.63943468e+00, 2.08639161e+00, 3.36840651e+00],\n",
              "       [1.95705954e+00, 1.60561583e+00, 1.61412927e+00],\n",
              "       [2.68057651e+00, 3.23352023e+00, 3.62623421e+00],\n",
              "       [2.95954588e+00, 1.96542403e+00, 3.46947073e+00],\n",
              "       [3.58227933e+00, 1.66789328e+00, 3.06510995e+00],\n",
              "       [3.52566042e+00, 2.90531424e+00, 2.68919023e+00],\n",
              "       [2.70338092e+00, 2.40220494e+00, 2.84911995e+00],\n",
              "       [1.77858795e+00, 3.60965103e+00, 1.59316095e+00],\n",
              "       [1.42084078e+00, 1.30531077e+00, 3.13073409e+00],\n",
              "       [3.34657826e+00, 3.63422830e+00, 3.34654921e+00],\n",
              "       [3.09936752e+00, 3.69704560e+00, 1.62821573e+00],\n",
              "       [1.95408234e+00, 1.48017855e+00, 2.09263427e+00],\n",
              "       [2.79470809e+00, 3.09944272e+00, 2.73658997e+00],\n",
              "       [3.07203244e+00, 1.94371747e+00, 1.43314631e+00],\n",
              "       [2.14384142e+00, 2.43809824e+00, 2.95285494e+00],\n",
              "       [3.67448430e+00, 1.92926443e+00, 3.23977902e+00],\n",
              "       [3.44277195e+00, 3.38612738e+00, 3.15098374e+00],\n",
              "       [3.64792258e+00, 2.58804514e+00, 2.40859713e+00],\n",
              "       [1.79670591e+00, 1.88759781e+00, 3.54374396e+00],\n",
              "       [2.81534701e+00, 3.38128355e+00, 2.03577458e+00],\n",
              "       [1.35208378e+00, 1.49166931e+00, 2.59424205e+00],\n",
              "       [3.16708884e+00, 2.04497198e+00, 2.33319039e+00],\n",
              "       [2.84465227e+00, 2.62801282e+00, 3.95107420e+00],\n",
              "       [1.96261716e+00, 2.68341120e+00, 2.19737775e+00],\n",
              "       [3.19000121e+00, 1.69933454e+00, 3.87056020e+00],\n",
              "       [3.22770973e+00, 2.45366804e+00, 2.69609767e+00],\n",
              "       [3.65753254e+00, 2.48955917e+00, 3.92555197e+00],\n",
              "       [3.00279391e+00, 2.04775977e+00, 2.60975130e+00],\n",
              "       [3.23400412e+00, 2.49330826e+00, 1.94645693e+00],\n",
              "       [1.54247077e+00, 3.56212397e+00, 2.81448690e+00],\n",
              "       [3.14728554e+00, 3.49855803e+00, 3.28913602e+00],\n",
              "       [3.37570997e+00, 1.54738151e+00, 2.98472540e+00],\n",
              "       [3.34657277e+00, 2.71668206e+00, 3.56498111e+00],\n",
              "       [3.30060012e+00, 3.30014073e+00, 2.01439162e+00],\n",
              "       [2.85830579e+00, 3.12406147e+00, 2.73877086e+00],\n",
              "       [2.46369537e+00, 2.24750939e+00, 2.42373625e+00],\n",
              "       [2.76531590e+00, 3.60052883e+00, 1.90026386e+00],\n",
              "       [3.28050232e+00, 1.83312889e+00, 1.60217406e+00],\n",
              "       [2.67778567e+00, 3.34040283e+00, 2.10952732e+00],\n",
              "       [2.18019264e+00, 2.30015421e+00, 3.84963377e+00],\n",
              "       [2.54836119e+00, 3.34229543e+00, 1.61221751e+00],\n",
              "       [3.58525963e+00, 1.58911553e+00, 2.51911502e+00],\n",
              "       [2.91494234e+00, 1.50864980e+00, 2.63767769e+00],\n",
              "       [3.31500689e+00, 2.79108769e+00, 3.69208462e+00],\n",
              "       [2.13918259e+00, 1.43884724e+00, 2.13466123e+00],\n",
              "       [1.39575424e+00, 2.95260023e+00, 3.76372063e+00],\n",
              "       [2.67304424e+00, 1.42089921e+00, 2.65943495e+00],\n",
              "       [3.12523880e+00, 1.99440153e+00, 1.61243520e+00],\n",
              "       [2.15614532e+00, 2.69064236e+00, 1.91518265e+00],\n",
              "       [1.60577277e+00, 3.13783630e+00, 3.33129686e+00],\n",
              "       [1.31873508e+00, 2.43920288e+00, 2.48929101e+00],\n",
              "       [3.49894952e+00, 3.17658364e+00, 2.29727981e+00],\n",
              "       [1.87506043e+00, 3.20961334e+00, 2.43233435e+00],\n",
              "       [2.00214502e+00, 1.81091609e+00, 1.77585708e+00],\n",
              "       [1.91566813e+00, 1.27620789e+00, 3.19874456e+00],\n",
              "       [3.30140972e+00, 1.57781299e+00, 2.10074920e+00],\n",
              "       [3.53755292e+00, 3.02594340e+00, 3.58968985e+00],\n",
              "       [2.29315297e+00, 3.55656528e+00, 2.70271169e+00],\n",
              "       [3.61445355e+00, 1.90885825e+00, 2.78841240e+00],\n",
              "       [1.46458685e+00, 3.62200801e+00, 3.37576677e+00],\n",
              "       [2.10507218e+00, 2.39825332e+00, 1.86696163e+00],\n",
              "       [1.94726709e+00, 1.48863650e+00, 3.49212652e+00],\n",
              "       [2.17179091e+00, 2.33746517e+00, 3.52843205e+00],\n",
              "       [2.91592341e+00, 2.48548927e+00, 1.46758634e+00],\n",
              "       [1.88627750e+00, 3.06203607e+00, 1.63355560e+00],\n",
              "       [2.55647634e+00, 2.08603886e+00, 2.25328712e+00],\n",
              "       [1.61798893e+00, 3.12132603e+00, 1.98685218e+00],\n",
              "       [3.13052761e+00, 2.75362168e+00, 1.87033425e+00],\n",
              "       [2.11378093e+00, 1.58974559e+00, 2.96896872e+00],\n",
              "       [2.85379734e+00, 2.08528504e+00, 4.01367066e+00],\n",
              "       [2.49720894e+00, 2.44301547e+00, 3.90727968e+00],\n",
              "       [2.47215595e+00, 2.63495991e+00, 2.43727425e+00],\n",
              "       [2.20853591e+00, 2.42748251e+00, 3.13916035e+00],\n",
              "       [3.34535047e+00, 2.25827753e+00, 3.66813998e+00],\n",
              "       [2.07162421e+00, 1.90580328e+00, 3.65998957e+00],\n",
              "       [2.16357658e+00, 3.11897320e+00, 2.41397867e+00],\n",
              "       [2.37938961e+00, 2.14112092e+00, 3.28444665e+00],\n",
              "       [3.75582262e+00, 2.23804195e+00, 2.51170794e+00],\n",
              "       [2.38074878e+00, 2.51851147e+00, 3.49585581e+00],\n",
              "       [2.78057971e+00, 2.58670938e+00, 2.65276762e+00],\n",
              "       [1.97075751e+00, 2.07096908e+00, 2.78447233e+00],\n",
              "       [1.42558310e+00, 1.32906995e+00, 3.19529548e+00],\n",
              "       [3.54556300e+00, 1.32863154e+00, 1.84399165e+00],\n",
              "       [1.76130628e+00, 2.26247747e+00, 2.71338741e+00],\n",
              "       [3.05063193e+00, 2.32483142e+00, 3.72863593e+00],\n",
              "       [3.36486793e+00, 3.53483734e+00, 3.12106229e+00],\n",
              "       [3.49979815e+00, 2.75718076e+00, 1.87154826e+00],\n",
              "       [3.18889827e+00, 3.49020963e+00, 3.65559529e+00],\n",
              "       [2.02270162e+00, 3.58151611e+00, 3.99512770e+00],\n",
              "       [3.10365221e+00, 3.09407052e+00, 2.93518987e+00],\n",
              "       [1.41013800e+00, 3.68413283e+00, 1.84146836e+00],\n",
              "       [3.58330990e+00, 2.13613674e+00, 1.91192923e+00],\n",
              "       [3.12784355e+00, 2.72195152e+00, 3.25251742e+00],\n",
              "       [3.69722758e+00, 3.30718085e+00, 3.84403900e+00],\n",
              "       [1.87213589e+00, 3.38105801e+00, 2.26385940e+00],\n",
              "       [3.17168529e+00, 2.37456547e+00, 3.27043914e+00],\n",
              "       [3.64845270e+00, 3.10401990e+00, 3.63100899e+00],\n",
              "       [1.72729347e+00, 9.44853490e-01, 9.82175325e-01],\n",
              "       [8.01058304e-01, 1.11329642e+00, 8.65364955e-01],\n",
              "       [9.09020092e-02, 1.98073116e+00, 1.37934650e+00],\n",
              "       [4.63685928e-01, 3.73325855e-01, 1.87395987e+00],\n",
              "       [9.26355114e-01, 3.66990657e-01, 1.67071753e+00],\n",
              "       [6.48148472e-01, 1.30006371e+00, 7.09923046e-01],\n",
              "       [9.49469831e-01, 1.46697984e+00, 2.63146033e+00],\n",
              "       [2.49132637e+00, 1.03934278e+00, 2.21742646e+00],\n",
              "       [1.97930264e+00, 2.41982919e-01, 4.75962950e-01],\n",
              "       [5.01726374e-01, 1.90925890e+00, 1.26047296e-01],\n",
              "       [1.01043815e+00, 9.00374148e-01, 2.29253903e+00],\n",
              "       [1.28906839e+00, 8.06547319e-01, 2.24567150e+00],\n",
              "       [4.47798258e-01, 1.64898356e-01, 9.88465682e-01],\n",
              "       [1.79050288e+00, 9.45126001e-01, 1.97341212e+00],\n",
              "       [1.46489770e+00, 5.84780619e-01, 1.71811138e-01],\n",
              "       [9.50016377e-01, 1.99853994e+00, 2.05294648e+00],\n",
              "       [2.34171921e+00, 1.56719778e+00, 2.05389321e+00],\n",
              "       [1.18671197e+00, 7.15484894e-01, 2.19887054e+00],\n",
              "       [1.86970274e+00, 5.19261230e-01, 1.67028827e+00],\n",
              "       [2.26553219e+00, 1.56255977e+00, 7.33982427e-01],\n",
              "       [2.26286028e+00, 9.81699765e-01, 2.11855013e+00],\n",
              "       [5.39292887e-01, 7.95028055e-03, 1.76545654e+00],\n",
              "       [3.50405907e-01, 1.30241702e+00, 1.91737383e+00],\n",
              "       [1.27654113e+00, 2.19693357e+00, 1.66650560e+00],\n",
              "       [4.38164174e-02, 5.53412859e-01, 1.80882022e-01],\n",
              "       [2.39438751e+00, 1.36057719e+00, 1.70250361e-01],\n",
              "       [1.01292333e+00, 1.54567837e+00, 2.36446817e+00],\n",
              "       [1.19648802e+00, 7.30757961e-01, 2.19805237e+00],\n",
              "       [2.09613991e+00, 1.12265328e-01, 1.72878445e+00],\n",
              "       [1.18264719e+00, 1.72060141e-01, 1.40655166e+00],\n",
              "       [1.06701131e+00, 1.64964761e-01, 6.75623954e-01],\n",
              "       [5.68758618e-01, 8.61297358e-01, 7.82555558e-01],\n",
              "       [2.36056829e+00, 2.25682513e+00, 2.50552679e+00],\n",
              "       [1.74527155e+00, 1.74085429e+00, 1.05373866e+00],\n",
              "       [4.95837085e-01, 1.73906598e+00, 2.12134607e+00],\n",
              "       [4.69472593e-01, 1.48258664e+00, 2.56391626e-01],\n",
              "       [1.50455350e+00, 7.17847940e-01, 2.60805138e+00],\n",
              "       [2.42147537e+00, 1.04723969e-01, 5.61863066e-01],\n",
              "       [1.10800312e+00, 3.45385695e-01, 1.79359242e+00],\n",
              "       [1.75682037e+00, 1.00506249e-01, 4.48233589e-01],\n",
              "       [9.11788702e-01, 1.85700253e+00, 6.56091197e-01],\n",
              "       [2.25559294e+00, 3.81239102e-01, 1.98037020e+00],\n",
              "       [1.28507023e+00, 2.30174567e+00, 1.71976239e+00],\n",
              "       [2.25040470e+00, 2.10506790e+00, 5.19115970e-01],\n",
              "       [6.51109755e-01, 1.93211983e+00, 2.15206605e+00],\n",
              "       [1.61702268e+00, 2.53374246e-01, 2.34891597e+00],\n",
              "       [2.10874522e+00, 2.36847833e+00, 9.18942021e-01],\n",
              "       [9.71705434e-01, 1.19104621e+00, 7.19659406e-01],\n",
              "       [7.82144953e-01, 1.46507264e+00, 2.30291576e+00],\n",
              "       [1.35833587e+00, 2.02188681e+00, 2.50200031e+00],\n",
              "       [1.18806005e-01, 1.31477511e+00, 8.40453967e-01],\n",
              "       [1.66636894e+00, 1.53250471e+00, 1.98395990e+00],\n",
              "       [1.53274274e-01, 1.03210864e+00, 1.23652234e+00],\n",
              "       [2.05502085e+00, 1.91502842e+00, 1.10107106e+00],\n",
              "       [1.52218672e+00, 5.70747712e-01, 2.65296223e+00],\n",
              "       [9.71943541e-01, 5.61773909e-01, 2.04798624e-01],\n",
              "       [1.43706183e+00, 9.73395034e-02, 2.47632903e+00],\n",
              "       [9.57574498e-01, 1.81003075e+00, 5.42262551e-01],\n",
              "       [1.50530119e+00, 1.08752240e+00, 1.34707990e+00],\n",
              "       [2.25156518e+00, 5.06985877e-01, 2.07092328e+00],\n",
              "       [1.21299306e+00, 2.39773235e+00, 1.74720966e+00],\n",
              "       [2.94253017e-01, 8.67556923e-01, 5.65180186e-01],\n",
              "       [1.50325713e+00, 6.58981929e-01, 1.06397273e+00],\n",
              "       [1.74897896e+00, 9.97806632e-01, 2.55453244e+00],\n",
              "       [1.72699835e+00, 1.18778353e+00, 7.60686528e-01],\n",
              "       [2.42185080e+00, 1.32659482e+00, 2.20281482e+00],\n",
              "       [3.43191459e-01, 5.15194200e-01, 2.43972777e+00],\n",
              "       [9.73001833e-01, 8.85591808e-01, 1.36225964e+00],\n",
              "       [1.97966176e+00, 1.47085924e+00, 2.20548204e+00],\n",
              "       [2.29598480e+00, 7.82747337e-01, 4.04581159e-01],\n",
              "       [2.47956268e+00, 3.15260837e-01, 3.02190713e-01],\n",
              "       [1.79577941e+00, 7.95456162e-01, 1.92509447e-01],\n",
              "       [1.33473300e+00, 1.48717240e+00, 1.81768769e+00],\n",
              "       [1.81634782e+00, 9.93385924e-01, 2.61562607e+00],\n",
              "       [1.25234224e-01, 1.27006173e+00, 1.89696766e+00],\n",
              "       [9.75745740e-01, 6.64974563e-01, 3.74587621e-01],\n",
              "       [1.44170137e+00, 3.42696453e-01, 1.19041342e+00],\n",
              "       [4.82630866e-02, 1.03618339e+00, 1.85225970e+00],\n",
              "       [8.70568713e-02, 2.18030800e+00, 2.03145906e+00],\n",
              "       [1.44883914e+00, 7.04948890e-01, 7.75114488e-01],\n",
              "       [2.26877128e+00, 2.47012875e+00, 2.04989178e+00],\n",
              "       [6.95992962e-01, 9.36084916e-01, 1.72787132e+00],\n",
              "       [2.80506059e-01, 7.32116605e-01, 2.29186717e+00],\n",
              "       [1.58731100e+00, 2.32442569e+00, 2.38065456e+00],\n",
              "       [1.63962655e+00, 1.90483475e+00, 7.46351551e-01],\n",
              "       [1.39974703e+00, 5.57416702e-01, 1.56255489e+00],\n",
              "       [2.25647818e+00, 1.71935869e-03, 1.76823980e+00],\n",
              "       [1.07572936e+00, 1.08221474e-01, 8.42846287e-01],\n",
              "       [7.09287625e-01, 4.11669322e-01, 1.95439897e+00],\n",
              "       [9.85914375e-01, 1.86703200e+00, 1.45378926e-01],\n",
              "       [2.27369264e+00, 2.31966660e+00, 7.70297243e-01],\n",
              "       [2.41987060e-01, 4.37207707e-02, 1.13189060e-01],\n",
              "       [1.67785689e+00, 1.87716075e+00, 2.57912005e+00],\n",
              "       [2.19820315e+00, 1.26596999e+00, 1.92583885e+00],\n",
              "       [1.49555640e-01, 1.02097037e+00, 1.96216218e+00],\n",
              "       [1.47604944e-01, 5.08945551e-01, 1.83571850e+00],\n",
              "       [3.65439615e-01, 7.65092102e-01, 2.48371916e-01],\n",
              "       [1.67768516e-01, 2.83613142e-01, 2.14046614e+00],\n",
              "       [2.18486802e+00, 2.25334700e+00, 1.74997320e+00],\n",
              "       [7.53047269e-02, 2.75456050e-01, 1.37308975e+00]])"
            ]
          },
          "metadata": {},
          "execution_count": 59
        }
      ]
    },
    {
      "cell_type": "code",
      "metadata": {
        "colab": {
          "base_uri": "https://localhost:8080/"
        },
        "id": "m5hT3oHPrZEy",
        "outputId": "9e0b2dba-209f-4832-d2b4-15dd7c45e54b"
      },
      "source": [
        " \n",
        "centroids,_=kmeans(data,3)\n",
        "centroids"
      ],
      "execution_count": null,
      "outputs": [
        {
          "output_type": "execute_result",
          "data": {
            "text/plain": [
              "array([[0.92462833, 0.80986917, 1.01618768],\n",
              "       [2.76061672, 2.68514393, 2.83358741],\n",
              "       [1.74475359, 1.44778041, 2.11469402]])"
            ]
          },
          "metadata": {},
          "execution_count": 60
        }
      ]
    },
    {
      "cell_type": "code",
      "metadata": {
        "colab": {
          "base_uri": "https://localhost:8080/"
        },
        "id": "xf1pIt-trbkO",
        "outputId": "c08cdca1-4cb0-4599-cd01-a2f4490fbf0a"
      },
      "source": [
        " \n",
        "clx,_=vq(data,centroids)\n",
        "clx"
      ],
      "execution_count": null,
      "outputs": [
        {
          "output_type": "execute_result",
          "data": {
            "text/plain": [
              "array([1, 1, 1, 1, 2, 1, 1, 1, 1, 1, 1, 2, 1, 1, 2, 1, 2, 1, 1, 1, 1, 1,\n",
              "       1, 2, 1, 1, 1, 1, 1, 1, 1, 1, 1, 1, 1, 1, 1, 1, 1, 1, 1, 1, 1, 1,\n",
              "       1, 1, 1, 2, 1, 2, 1, 1, 1, 2, 1, 1, 2, 2, 1, 1, 1, 1, 1, 2, 2, 1,\n",
              "       1, 1, 1, 1, 1, 2, 1, 1, 1, 1, 1, 1, 1, 1, 1, 1, 1, 2, 2, 2, 2, 1,\n",
              "       1, 1, 1, 1, 1, 1, 1, 1, 1, 1, 1, 1, 0, 0, 0, 0, 0, 0, 2, 2, 0, 0,\n",
              "       2, 2, 0, 2, 0, 2, 2, 2, 2, 2, 2, 0, 0, 2, 0, 0, 2, 2, 2, 0, 0, 0,\n",
              "       1, 2, 2, 0, 2, 0, 0, 0, 0, 2, 2, 2, 2, 2, 2, 0, 2, 2, 0, 2, 0, 2,\n",
              "       2, 0, 2, 0, 0, 2, 2, 0, 0, 2, 0, 2, 0, 0, 2, 0, 0, 0, 2, 2, 0, 0,\n",
              "       0, 0, 2, 0, 1, 0, 0, 2, 0, 0, 2, 0, 0, 0, 2, 0, 2, 2, 0, 0, 0, 0,\n",
              "       2, 0], dtype=int32)"
            ]
          },
          "metadata": {},
          "execution_count": 61
        }
      ]
    },
    {
      "cell_type": "code",
      "metadata": {
        "colab": {
          "base_uri": "https://localhost:8080/"
        },
        "id": "rx4QLqx5reZK",
        "outputId": "3d7faf30-d930-4e5b-f486-889ccda2a83d"
      },
      "source": [
        " \n",
        "from scipy.fftpack import fft\n",
        " \n",
        "x=np.array([1.0,2.0,1.0,-1.0,1.5])\n",
        " \n",
        "y=fft(x)\n",
        "print(\"FFT :\\n\",y)"
      ],
      "execution_count": null,
      "outputs": [
        {
          "output_type": "stream",
          "name": "stdout",
          "text": [
            "FFT :\n",
            " [ 4.5       -0.j          2.08155948-1.65109876j -1.83155948+1.60822041j\n",
            " -1.83155948-1.60822041j  2.08155948+1.65109876j]\n"
          ]
        }
      ]
    },
    {
      "cell_type": "code",
      "metadata": {
        "colab": {
          "base_uri": "https://localhost:8080/"
        },
        "id": "OpsfILCrrgvy",
        "outputId": "68c22648-70fa-4463-facf-288d09d955f8"
      },
      "source": [
        " \n",
        "from scipy.fftpack import ifft\n",
        "yinv=ifft(y)\n",
        "print(\"FFT Inverse:\\n\",yinv)"
      ],
      "execution_count": null,
      "outputs": [
        {
          "output_type": "stream",
          "name": "stdout",
          "text": [
            "FFT Inverse:\n",
            " [ 1. +0.j  2. +0.j  1. +0.j -1. +0.j  1.5+0.j]\n"
          ]
        }
      ]
    },
    {
      "cell_type": "code",
      "metadata": {
        "colab": {
          "base_uri": "https://localhost:8080/"
        },
        "id": "o6FLWMtArn9y",
        "outputId": "acd74d0c-6b65-4f37-eb6e-b278317eb657"
      },
      "source": [
        " \n",
        "from scipy.fftpack import dct\n",
        "print(\"DCT:\\n\",dct(np.array([4.,3.,5.,10.,5.,3.])))"
      ],
      "execution_count": null,
      "outputs": [
        {
          "output_type": "stream",
          "name": "stdout",
          "text": [
            "DCT:\n",
            " [ 60.          -3.48476592 -13.85640646  11.3137085    6.\n",
            "  -6.31319305]\n"
          ]
        }
      ]
    },
    {
      "cell_type": "code",
      "metadata": {
        "colab": {
          "base_uri": "https://localhost:8080/"
        },
        "id": "SzI6Jt3NrqEC",
        "outputId": "54db748d-1155-456f-cffd-306bedaf0b39"
      },
      "source": [
        " \n",
        "from scipy.fftpack import idct\n",
        "print(\"IDCT:\\n\",idct(np.array([4.,3.,5.,10.,5.,3.])))"
      ],
      "execution_count": null,
      "outputs": [
        {
          "output_type": "stream",
          "name": "stdout",
          "text": [
            "IDCT:\n",
            " [ 39.15085889 -20.14213562  -6.45392043   7.13341236   8.14213562\n",
            "  -3.83035081]\n"
          ]
        }
      ]
    },
    {
      "cell_type": "markdown",
      "metadata": {
        "id": "eBe0q1Hsr175"
      },
      "source": [
        " # **SciPy-Integrated**"
      ]
    },
    {
      "cell_type": "markdown",
      "metadata": {
        "id": "F_9pwAw4r3tZ"
      },
      "source": [
        " The general form of quad is scipy.integrate.quad(f,a,b), Where 'f' is the name of the function to be integrated. Whereas, 'a' and 'b' are the lower and upper limits, respectively. Let us see an example of the Gaussian function, integrated over a range of 0 and 1"
      ]
    },
    {
      "cell_type": "markdown",
      "metadata": {
        "id": "o5easpIor6LU"
      },
      "source": [
        " # **∫f(x)dx**"
      ]
    },
    {
      "cell_type": "code",
      "metadata": {
        "colab": {
          "base_uri": "https://localhost:8080/"
        },
        "id": "c8Kx8Hrlr80B",
        "outputId": "8ffd606a-e792-44f8-ca81-bfd6b0747a01"
      },
      "source": [
        " \n",
        "import scipy.integrate\n",
        "from numpy import exp\n",
        "f=lambda x:exp(-x**2)\n",
        "i=scipy.integrate.quad(f,0,1)\n",
        "print(i)"
      ],
      "execution_count": null,
      "outputs": [
        {
          "output_type": "stream",
          "name": "stdout",
          "text": [
            "(0.7468241328124271, 8.291413475940725e-15)\n"
          ]
        }
      ]
    },
    {
      "cell_type": "markdown",
      "metadata": {
        "id": "FaHiCCmzr-Wm"
      },
      "source": [
        " # **Linear Algebra**"
      ]
    },
    {
      "cell_type": "markdown",
      "metadata": {
        "id": "pH1c0tOusOoB"
      },
      "source": [
        " **x+3y+5z=10** \n",
        "**2x+5y+z=8**\n",
        " \n",
        "**2x+3y+8z=3 ***"
      ]
    },
    {
      "cell_type": "code",
      "metadata": {
        "colab": {
          "base_uri": "https://localhost:8080/"
        },
        "id": "jWSIIttysAZr",
        "outputId": "2123a805-ff52-427b-88c7-219ff8c5ba8a"
      },
      "source": [
        " \n",
        "from scipy import linalg\n",
        "import numpy as np\n",
        " \n",
        "a=np.array([[1,3,5],[2,5,1],[2,3,8]])\n",
        "b=np.array([10,8,3])\n",
        " \n",
        "X=linalg.solve(a,b)\n",
        " \n",
        "print(X)"
      ],
      "execution_count": null,
      "outputs": [
        {
          "output_type": "stream",
          "name": "stdout",
          "text": [
            "[-9.28  5.16  0.76]\n"
          ]
        }
      ]
    },
    {
      "cell_type": "markdown",
      "metadata": {
        "id": "gtclxbRxsU0X"
      },
      "source": [
        " # **Finding an Determinant**"
      ]
    },
    {
      "cell_type": "code",
      "metadata": {
        "colab": {
          "base_uri": "https://localhost:8080/"
        },
        "id": "a-t6N9g_sV0W",
        "outputId": "e2992977-190a-40c4-e3d1-1861b328bc6b"
      },
      "source": [
        " from scipy import linalg\n",
        "import numpy as np\n",
        " \n",
        "A=np.array([[1,2],[3,4]])\n",
        " \n",
        "x=linalg.det(A)\n",
        " \n",
        "print(x)"
      ],
      "execution_count": null,
      "outputs": [
        {
          "output_type": "stream",
          "name": "stdout",
          "text": [
            "-2.0\n"
          ]
        }
      ]
    },
    {
      "cell_type": "markdown",
      "metadata": {
        "id": "ppuV6_SssdXh"
      },
      "source": [
        " # **Eigen values and Eigen Vectors**"
      ]
    },
    {
      "cell_type": "code",
      "metadata": {
        "colab": {
          "base_uri": "https://localhost:8080/"
        },
        "id": "0NUnqqRgseKE",
        "outputId": "4093adf1-1a3b-4e7a-9ed4-5dcba98ae6ba"
      },
      "source": [
        " \n",
        "from scipy import linalg\n",
        "import numpy as np\n",
        " \n",
        "A=np.array([[1,2],[3,4]])\n",
        " \n",
        "l,v=linalg.eig(A)\n",
        " \n",
        "print(\"Eigen Values :\\n\",l)\n",
        " \n",
        "print(\"Eigen Vectors:\\n\",v)"
      ],
      "execution_count": null,
      "outputs": [
        {
          "output_type": "stream",
          "name": "stdout",
          "text": [
            "Eigen Values :\n",
            " [-0.37228132+0.j  5.37228132+0.j]\n",
            "Eigen Vectors:\n",
            " [[-0.82456484 -0.41597356]\n",
            " [ 0.56576746 -0.90937671]]\n"
          ]
        }
      ]
    },
    {
      "cell_type": "markdown",
      "metadata": {
        "id": "g94qu0eysjM6"
      },
      "source": [
        " # **Matplot Library**"
      ]
    },
    {
      "cell_type": "code",
      "metadata": {
        "colab": {
          "base_uri": "https://localhost:8080/",
          "height": 199
        },
        "id": "q4zotfM2skJ_",
        "outputId": "a52d02a9-5c82-4b5f-c4cb-cdb4e30f5435"
      },
      "source": [
        " \n",
        "import matplotlib.pyplot as plt\n",
        "import numpy as np\n",
        " \n",
        "x=np.arange(5)\n",
        "y=(35,45,23,27,60)\n",
        " \n",
        "plt.bar(x,y)\n",
        "plt.show()"
      ],
      "execution_count": null,
      "outputs": [
        {
          "output_type": "display_data",
          "data": {
            "image/png": "[encoded data removed]",
            "text/plain": [
              "<Figure size 432x288 with 1 Axes>"
            ]
          },
          "metadata": {
            "needs_background": "light"
          }
        }
      ]
    },
    {
      "cell_type": "code",
      "metadata": {
        "colab": {
          "base_uri": "https://localhost:8080/",
          "height": 199
        },
        "id": "duYUs1e9snA9",
        "outputId": "6d78a0fb-4aa8-4a4c-ae32-8fb69e58ce95"
      },
      "source": [
        " \n",
        "plt.scatter(x,y)\n",
        "plt.show()"
      ],
      "execution_count": null,
      "outputs": [
        {
          "output_type": "display_data",
          "data": {
            "image/png": "[encoded data removed]",
            "text/plain": [
              "<Figure size 432x288 with 1 Axes>"
            ]
          },
          "metadata": {
            "needs_background": "light"
          }
        }
      ]
    },
    {
      "cell_type": "code",
      "metadata": {
        "colab": {
          "base_uri": "https://localhost:8080/",
          "height": 226
        },
        "id": "rX-1GL9Cspnu",
        "outputId": "8cf0bb09-7591-4cb9-f761-cc26be8b90bf"
      },
      "source": [
        " \n",
        "import pandas as pd\n",
        "from sklearn.datasets import load_iris\n",
        "iris=load_iris()\n",
        "df=pd.DataFrame(iris.data)\n",
        " \n",
        "df.columns=['sepal_Length','sepal_Width','petal_Length','petal_Width']\n",
        "df.head()"
      ],
      "execution_count": null,
      "outputs": [
        {
          "output_type": "execute_result",
          "data": {
            "text/html": [
              "<div>\n",
              "<style scoped>\n",
              "    .dataframe tbody tr th:only-of-type {\n",
              "        vertical-align: middle;\n",
              "    }\n",
              "\n",
              "    .dataframe tbody tr th {\n",
              "        vertical-align: top;\n",
              "    }\n",
              "\n",
              "    .dataframe thead th {\n",
              "        text-align: right;\n",
              "    }\n",
              "</style>\n",
              "<table border=\"1\" class=\"dataframe\">\n",
              "  <thead>\n",
              "    <tr style=\"text-align: right;\">\n",
              "      <th></th>\n",
              "      <th>sepal_Length</th>\n",
              "      <th>sepal_Width</th>\n",
              "      <th>petal_Length</th>\n",
              "      <th>petal_Width</th>\n",
              "    </tr>\n",
              "  </thead>\n",
              "  <tbody>\n",
              "    <tr>\n",
              "      <th>0</th>\n",
              "      <td>5.1</td>\n",
              "      <td>3.5</td>\n",
              "      <td>1.4</td>\n",
              "      <td>0.2</td>\n",
              "    </tr>\n",
              "    <tr>\n",
              "      <th>1</th>\n",
              "      <td>4.9</td>\n",
              "      <td>3.0</td>\n",
              "      <td>1.4</td>\n",
              "      <td>0.2</td>\n",
              "    </tr>\n",
              "    <tr>\n",
              "      <th>2</th>\n",
              "      <td>4.7</td>\n",
              "      <td>3.2</td>\n",
              "      <td>1.3</td>\n",
              "      <td>0.2</td>\n",
              "    </tr>\n",
              "    <tr>\n",
              "      <th>3</th>\n",
              "      <td>4.6</td>\n",
              "      <td>3.1</td>\n",
              "      <td>1.5</td>\n",
              "      <td>0.2</td>\n",
              "    </tr>\n",
              "    <tr>\n",
              "      <th>4</th>\n",
              "      <td>5.0</td>\n",
              "      <td>3.6</td>\n",
              "      <td>1.4</td>\n",
              "      <td>0.2</td>\n",
              "    </tr>\n",
              "  </tbody>\n",
              "</table>\n",
              "</div>"
            ],
            "text/plain": [
              "   sepal_Length  sepal_Width  petal_Length  petal_Width\n",
              "0           5.1          3.5           1.4          0.2\n",
              "1           4.9          3.0           1.4          0.2\n",
              "2           4.7          3.2           1.3          0.2\n",
              "3           4.6          3.1           1.5          0.2\n",
              "4           5.0          3.6           1.4          0.2"
            ]
          },
          "metadata": {},
          "execution_count": 72
        }
      ]
    },
    {
      "cell_type": "code",
      "metadata": {
        "colab": {
          "base_uri": "https://localhost:8080/",
          "height": 211
        },
        "id": "r6s7mZgasrxt",
        "outputId": "cef773c5-67ad-434c-cf1a-0a7791b6d4a7"
      },
      "source": [
        " \n",
        "df.hist()\n",
        "plt.show()"
      ],
      "execution_count": null,
      "outputs": [
        {
          "output_type": "display_data",
          "data": {
            "image/png": "[encoded data removed]",
            "text/plain": [
              "<Figure size 432x288 with 4 Axes>"
            ]
          },
          "metadata": {
            "needs_background": "light"
          }
        }
      ]
    },
    {
      "cell_type": "code",
      "metadata": {
        "colab": {
          "base_uri": "https://localhost:8080/",
          "height": 202
        },
        "id": "5aLsoYsusu_d",
        "outputId": "7246aa33-3980-4a10-a3ae-19f86da7953f"
      },
      "source": [
        " \n",
        "df.plot()\n",
        "plt.show()"
      ],
      "execution_count": null,
      "outputs": [
        {
          "output_type": "display_data",
          "data": {
            "image/png": "[encoded data removed]",
            "text/plain": [
              "<Figure size 432x288 with 1 Axes>"
            ]
          },
          "metadata": {
            "needs_background": "light"
          }
        }
      ]
    },
    {
      "cell_type": "code",
      "metadata": {
        "colab": {
          "base_uri": "https://localhost:8080/",
          "height": 203
        },
        "id": "lofM6BNns1Qj",
        "outputId": "a2f8f29a-f9c5-41bd-ec22-aaf767b79f73"
      },
      "source": [
        " \n",
        "df.boxplot()\n",
        "plt.show()"
      ],
      "execution_count": null,
      "outputs": [
        {
          "output_type": "display_data",
          "data": {
            "image/png": "[encoded data removed]",
            "text/plain": [
              "<Figure size 432x288 with 1 Axes>"
            ]
          },
          "metadata": {
            "needs_background": "light"
          }
        }
      ]
    },
    {
      "cell_type": "code",
      "metadata": {
        "id": "5E9H2pjos5E4",
        "colab": {
          "base_uri": "https://localhost:8080/",
          "height": 201
        },
        "outputId": "6ee52b89-47c2-4dc7-de21-2f4669aece83"
      },
      "source": [
        " \n",
        "import numpy as np\n",
        "x=np.linspace(0,20,1000)\n",
        "y=np.sin(x)\n",
        " \n",
        "plt.plot(x,y,label='sample Label')\n",
        "plt.title('sample plot title')\n",
        "plt.xlabel('x axis label')\n",
        "plt.ylabel('y axis label')\n",
        "plt.grid(True)\n",
        " \n",
        "plt.figtext(0.5,0.01,'Fig1:Sinusodial', ha='right',va='bottom')\n",
        " \n",
        "plt.legend(loc='best',framealpha=0.5,prop={'size':'small'})\n",
        " \n",
        "plt.tight_layout(pad=1)\n",
        " \n",
        "plt.show()"
      ],
      "execution_count": null,
      "outputs": [
        {
          "output_type": "display_data",
          "data": {
            "image/png": "[encoded data removed]",
            "text/plain": [
              "<Figure size 432x288 with 1 Axes>"
            ]
          },
          "metadata": {
            "needs_background": "light"
          }
        }
      ]
    }
  ]
}